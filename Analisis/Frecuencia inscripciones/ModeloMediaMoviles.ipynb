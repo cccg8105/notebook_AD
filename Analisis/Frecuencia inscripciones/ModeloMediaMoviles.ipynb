{
  "nbformat": 4,
  "nbformat_minor": 0,
  "metadata": {
    "colab": {
      "name": "ModeloMediaMoviles.ipynb",
      "provenance": [],
      "authorship_tag": "ABX9TyNCHUBHtKGjcjo7e4KdMQZt",
      "include_colab_link": true
    },
    "kernelspec": {
      "name": "python3",
      "display_name": "Python 3"
    }
  },
  "cells": [
    {
      "cell_type": "markdown",
      "metadata": {
        "id": "view-in-github",
        "colab_type": "text"
      },
      "source": [
        "<a href=\"https://colab.research.google.com/github/cccg8105/notebook_AD/blob/master/Frecuencia%20inscripciones/ModeloMediaMoviles.ipynb\" target=\"_parent\"><img src=\"https://colab.research.google.com/assets/colab-badge.svg\" alt=\"Open In Colab\"/></a>"
      ]
    },
    {
      "cell_type": "markdown",
      "metadata": {
        "id": "N0OgFzvbUYNW"
      },
      "source": [
        "# Modelo de medias móviles"
      ]
    },
    {
      "cell_type": "markdown",
      "metadata": {
        "id": "UG7pxY6qCQ-t"
      },
      "source": [
        "## Carga de información"
      ]
    },
    {
      "cell_type": "code",
      "metadata": {
        "id": "H7BI342rT5Ca"
      },
      "source": [
        "import pandas as pd\n",
        "import numpy as np\n",
        "import matplotlib.pyplot as plt\n",
        "import statsmodels.graphics.tsaplots as sgt\n",
        "import statsmodels.tsa.stattools as sts\n",
        "from statsmodels.tsa.arima_model import ARMA\n",
        "from scipy.stats.distributions import chi2 \n",
        "from math import sqrt\n",
        "import seaborn as sns\n",
        "import warnings\n",
        "warnings.filterwarnings(\"ignore\")\n",
        "sns.set()\n",
        "\n",
        "#Prueba Logverosimilitud\n",
        "def LLR_test(mod_1, mod_2, DF = 1):\n",
        "    L1 = mod_1.llf\n",
        "    L2 = mod_2.llf\n",
        "    LR = (2*(L2-L1))    \n",
        "    p = chi2.sf(LR, DF).round(3)\n",
        "    return p\n",
        "\n",
        "# carga de archivo\n",
        "raw_csv_data = pd.read_csv(\"https://raw.githubusercontent.com/cccg8105/notebook_AD/master/Frecuencia%20inscripciones/data/conversionesPE.csv\", index_col=0)"
      ],
      "execution_count": 11,
      "outputs": []
    },
    {
      "cell_type": "markdown",
      "metadata": {
        "id": "36FWHbjxCSnM"
      },
      "source": [
        "## Transformación y formateo de datos"
      ]
    },
    {
      "cell_type": "code",
      "metadata": {
        "id": "qaNmN9sVCWIJ",
        "outputId": "0d1241f3-d28a-4fc1-e228-737571628d95",
        "colab": {
          "base_uri": "https://localhost:8080/",
          "height": 235
        }
      },
      "source": [
        "# Transformacion de datos para analisis temporal\n",
        "df = raw_csv_data.copy()\n",
        "df=df[df.FuenteIngreso == \"UB\"]\n",
        "df['Fecha'] = pd.to_datetime(raw_csv_data.FechaConsultora, dayfirst = True)\n",
        "df['inscripciones'] = df.cantidad\n",
        "del df['FuenteIngreso']\n",
        "del df['Pais']\n",
        "del df['FechaConsultora']\n",
        "del df['cantidad']\n",
        "# se agrupa y se reindexa el dataframe\n",
        "df = df.groupby(['Fecha']).sum().reset_index()\n",
        "df.set_index('Fecha', inplace=True, verify_integrity=True)\n",
        "# establecer frecuencia\n",
        "#df.sort_index().asfreq(freq='d')\n",
        "df.index = pd.DatetimeIndex(df.index).to_period('d')\n",
        "# cambiar frecuencia a meses\n",
        "#df.index.freq = 'MS'\n",
        "df.head()"
      ],
      "execution_count": 12,
      "outputs": [
        {
          "output_type": "execute_result",
          "data": {
            "text/html": [
              "<div>\n",
              "<style scoped>\n",
              "    .dataframe tbody tr th:only-of-type {\n",
              "        vertical-align: middle;\n",
              "    }\n",
              "\n",
              "    .dataframe tbody tr th {\n",
              "        vertical-align: top;\n",
              "    }\n",
              "\n",
              "    .dataframe thead th {\n",
              "        text-align: right;\n",
              "    }\n",
              "</style>\n",
              "<table border=\"1\" class=\"dataframe\">\n",
              "  <thead>\n",
              "    <tr style=\"text-align: right;\">\n",
              "      <th></th>\n",
              "      <th>inscripciones</th>\n",
              "    </tr>\n",
              "    <tr>\n",
              "      <th>Fecha</th>\n",
              "      <th></th>\n",
              "    </tr>\n",
              "  </thead>\n",
              "  <tbody>\n",
              "    <tr>\n",
              "      <th>2018-01-02</th>\n",
              "      <td>2</td>\n",
              "    </tr>\n",
              "    <tr>\n",
              "      <th>2018-01-03</th>\n",
              "      <td>3</td>\n",
              "    </tr>\n",
              "    <tr>\n",
              "      <th>2018-01-04</th>\n",
              "      <td>4</td>\n",
              "    </tr>\n",
              "    <tr>\n",
              "      <th>2018-01-05</th>\n",
              "      <td>7</td>\n",
              "    </tr>\n",
              "    <tr>\n",
              "      <th>2018-01-06</th>\n",
              "      <td>1</td>\n",
              "    </tr>\n",
              "  </tbody>\n",
              "</table>\n",
              "</div>"
            ],
            "text/plain": [
              "            inscripciones\n",
              "Fecha                    \n",
              "2018-01-02              2\n",
              "2018-01-03              3\n",
              "2018-01-04              4\n",
              "2018-01-05              7\n",
              "2018-01-06              1"
            ]
          },
          "metadata": {
            "tags": []
          },
          "execution_count": 12
        }
      ]
    },
    {
      "cell_type": "markdown",
      "metadata": {
        "id": "U4CrJtAeEjLx"
      },
      "source": [
        "## Creación de retornos"
      ]
    },
    {
      "cell_type": "code",
      "metadata": {
        "id": "noRvGn2YEiuS",
        "outputId": "d006d863-ca0a-4f79-e928-67c0fc5318c3",
        "colab": {
          "base_uri": "https://localhost:8080/",
          "height": 235
        }
      },
      "source": [
        "df['returns'] = df.inscripciones.pct_change(1)*100\n",
        "df.head()"
      ],
      "execution_count": 13,
      "outputs": [
        {
          "output_type": "execute_result",
          "data": {
            "text/html": [
              "<div>\n",
              "<style scoped>\n",
              "    .dataframe tbody tr th:only-of-type {\n",
              "        vertical-align: middle;\n",
              "    }\n",
              "\n",
              "    .dataframe tbody tr th {\n",
              "        vertical-align: top;\n",
              "    }\n",
              "\n",
              "    .dataframe thead th {\n",
              "        text-align: right;\n",
              "    }\n",
              "</style>\n",
              "<table border=\"1\" class=\"dataframe\">\n",
              "  <thead>\n",
              "    <tr style=\"text-align: right;\">\n",
              "      <th></th>\n",
              "      <th>inscripciones</th>\n",
              "      <th>returns</th>\n",
              "    </tr>\n",
              "    <tr>\n",
              "      <th>Fecha</th>\n",
              "      <th></th>\n",
              "      <th></th>\n",
              "    </tr>\n",
              "  </thead>\n",
              "  <tbody>\n",
              "    <tr>\n",
              "      <th>2018-01-02</th>\n",
              "      <td>2</td>\n",
              "      <td>NaN</td>\n",
              "    </tr>\n",
              "    <tr>\n",
              "      <th>2018-01-03</th>\n",
              "      <td>3</td>\n",
              "      <td>50.000000</td>\n",
              "    </tr>\n",
              "    <tr>\n",
              "      <th>2018-01-04</th>\n",
              "      <td>4</td>\n",
              "      <td>33.333333</td>\n",
              "    </tr>\n",
              "    <tr>\n",
              "      <th>2018-01-05</th>\n",
              "      <td>7</td>\n",
              "      <td>75.000000</td>\n",
              "    </tr>\n",
              "    <tr>\n",
              "      <th>2018-01-06</th>\n",
              "      <td>1</td>\n",
              "      <td>-85.714286</td>\n",
              "    </tr>\n",
              "  </tbody>\n",
              "</table>\n",
              "</div>"
            ],
            "text/plain": [
              "            inscripciones    returns\n",
              "Fecha                               \n",
              "2018-01-02              2        NaN\n",
              "2018-01-03              3  50.000000\n",
              "2018-01-04              4  33.333333\n",
              "2018-01-05              7  75.000000\n",
              "2018-01-06              1 -85.714286"
            ]
          },
          "metadata": {
            "tags": []
          },
          "execution_count": 13
        }
      ]
    },
    {
      "cell_type": "markdown",
      "metadata": {
        "id": "9xANlgb4E2Td"
      },
      "source": [
        "## ACF for Returns"
      ]
    },
    {
      "cell_type": "code",
      "metadata": {
        "id": "5BNpNcr_E5aA",
        "outputId": "1d3c6567-0411-4b4c-cbde-05519259e68a",
        "colab": {
          "base_uri": "https://localhost:8080/",
          "height": 293
        }
      },
      "source": [
        "sgt.plot_acf(df.returns[1:], zero = False, lags = 40)\n",
        "plt.title(\"ACF for Returns\", size=24)\n",
        "plt.show()"
      ],
      "execution_count": 14,
      "outputs": [
        {
          "output_type": "display_data",
          "data": {
            "image/png": "[encoded data removed]",
            "text/plain": [
              "<Figure size 432x288 with 1 Axes>"
            ]
          },
          "metadata": {
            "tags": []
          }
        }
      ]
    },
    {
      "cell_type": "code",
      "metadata": {
        "id": "SKGmCkQsFBu6",
        "outputId": "3904104e-faf5-42be-c808-1a079b66e64c",
        "colab": {
          "base_uri": "https://localhost:8080/",
          "height": 293
        }
      },
      "source": [
        "sgt.plot_pacf(df.returns[1:], lags = 40, zero = False, method = ('ols'))\n",
        "plt.title(\"PACF Returns\", size=24)\n",
        "plt.show()"
      ],
      "execution_count": 15,
      "outputs": [
        {
          "output_type": "display_data",
          "data": {
            "image/png": "[encoded data removed]",
            "text/plain": [
              "<Figure size 432x288 with 1 Axes>"
            ]
          },
          "metadata": {
            "tags": []
          }
        }
      ]
    },
    {
      "cell_type": "markdown",
      "metadata": {
        "id": "LApToDgDFqeJ"
      },
      "source": [
        "## MA(1) sobre los retornos"
      ]
    },
    {
      "cell_type": "code",
      "metadata": {
        "id": "3QEdCdpvFvUg",
        "outputId": "d16796aa-29ca-48ec-96f1-f9a8262cda8b",
        "colab": {
          "base_uri": "https://localhost:8080/",
          "height": 309
        }
      },
      "source": [
        "model_ret_ma_1 = ARMA(df.returns[1:], order=(0,1))\n",
        "results_ret_ma_1 = model_ret_ma_1.fit()\n",
        "results_ret_ma_1.summary()"
      ],
      "execution_count": 16,
      "outputs": [
        {
          "output_type": "execute_result",
          "data": {
            "text/html": [
              "<table class=\"simpletable\">\n",
              "<caption>ARMA Model Results</caption>\n",
              "<tr>\n",
              "  <th>Dep. Variable:</th>      <td>returns</td>     <th>  No. Observations:  </th>    <td>967</td>   \n",
              "</tr>\n",
              "<tr>\n",
              "  <th>Model:</th>            <td>ARMA(0, 1)</td>    <th>  Log Likelihood     </th> <td>-7586.648</td>\n",
              "</tr>\n",
              "<tr>\n",
              "  <th>Method:</th>             <td>css-mle</td>     <th>  S.D. of innovations</th>  <td>618.073</td> \n",
              "</tr>\n",
              "<tr>\n",
              "  <th>Date:</th>          <td>Wed, 07 Oct 2020</td> <th>  AIC                </th> <td>15179.295</td>\n",
              "</tr>\n",
              "<tr>\n",
              "  <th>Time:</th>              <td>22:03:29</td>     <th>  BIC                </th> <td>15193.918</td>\n",
              "</tr>\n",
              "<tr>\n",
              "  <th>Sample:</th>           <td>01-03-2018</td>    <th>  HQIC               </th> <td>15184.862</td>\n",
              "</tr>\n",
              "<tr>\n",
              "  <th></th>                 <td>- 09-03-2020</td>   <th>                     </th>     <td> </td>    \n",
              "</tr>\n",
              "</table>\n",
              "<table class=\"simpletable\">\n",
              "<tr>\n",
              "        <td></td>           <th>coef</th>     <th>std err</th>      <th>z</th>      <th>P>|z|</th>  <th>[0.025</th>    <th>0.975]</th>  \n",
              "</tr>\n",
              "<tr>\n",
              "  <th>const</th>         <td>  151.0592</td> <td>   17.804</td> <td>    8.485</td> <td> 0.000</td> <td>  116.164</td> <td>  185.954</td>\n",
              "</tr>\n",
              "<tr>\n",
              "  <th>ma.L1.returns</th> <td>   -0.1043</td> <td>    0.036</td> <td>   -2.904</td> <td> 0.004</td> <td>   -0.175</td> <td>   -0.034</td>\n",
              "</tr>\n",
              "</table>\n",
              "<table class=\"simpletable\">\n",
              "<caption>Roots</caption>\n",
              "<tr>\n",
              "    <td></td>   <th>            Real</th>  <th>         Imaginary</th> <th>         Modulus</th>  <th>        Frequency</th>\n",
              "</tr>\n",
              "<tr>\n",
              "  <th>MA.1</th> <td>           9.5832</td> <td>          +0.0000j</td> <td>           9.5832</td> <td>           0.0000</td>\n",
              "</tr>\n",
              "</table>"
            ],
            "text/plain": [
              "<class 'statsmodels.iolib.summary.Summary'>\n",
              "\"\"\"\n",
              "                              ARMA Model Results                              \n",
              "==============================================================================\n",
              "Dep. Variable:                returns   No. Observations:                  967\n",
              "Model:                     ARMA(0, 1)   Log Likelihood               -7586.648\n",
              "Method:                       css-mle   S.D. of innovations            618.073\n",
              "Date:                Wed, 07 Oct 2020   AIC                          15179.295\n",
              "Time:                        22:03:29   BIC                          15193.918\n",
              "Sample:                    01-03-2018   HQIC                         15184.862\n",
              "                         - 09-03-2020                                         \n",
              "=================================================================================\n",
              "                    coef    std err          z      P>|z|      [0.025      0.975]\n",
              "---------------------------------------------------------------------------------\n",
              "const           151.0592     17.804      8.485      0.000     116.164     185.954\n",
              "ma.L1.returns    -0.1043      0.036     -2.904      0.004      -0.175      -0.034\n",
              "                                    Roots                                    \n",
              "=============================================================================\n",
              "                  Real          Imaginary           Modulus         Frequency\n",
              "-----------------------------------------------------------------------------\n",
              "MA.1            9.5832           +0.0000j            9.5832            0.0000\n",
              "-----------------------------------------------------------------------------\n",
              "\"\"\""
            ]
          },
          "metadata": {
            "tags": []
          },
          "execution_count": 16
        }
      ]
    },
    {
      "cell_type": "markdown",
      "metadata": {
        "id": "qmN8K4UZGLCc"
      },
      "source": [
        "## MA(n) sobre los retornos"
      ]
    },
    {
      "cell_type": "code",
      "metadata": {
        "id": "PiNt4ZCJGOOI",
        "outputId": "bb5d0737-f119-4330-b9c3-d14da6a5db43",
        "colab": {
          "base_uri": "https://localhost:8080/"
        }
      },
      "source": [
        "model_ret_ma_2 = ARMA(df.returns[1:], order=(0,2))\n",
        "results_ret_ma_2 = model_ret_ma_2.fit()\n",
        "print(results_ret_ma_2.summary())\n",
        "print(\"\\nLLR test p-value = \" + str(LLR_test(results_ret_ma_1, results_ret_ma_2)))"
      ],
      "execution_count": 17,
      "outputs": [
        {
          "output_type": "stream",
          "text": [
            "                              ARMA Model Results                              \n",
            "==============================================================================\n",
            "Dep. Variable:                returns   No. Observations:                  967\n",
            "Model:                     ARMA(0, 2)   Log Likelihood               -7581.446\n",
            "Method:                       css-mle   S.D. of innovations            614.748\n",
            "Date:                Wed, 07 Oct 2020   AIC                          15170.893\n",
            "Time:                        22:05:41   BIC                          15190.389\n",
            "Sample:                    01-03-2018   HQIC                         15178.315\n",
            "                         - 09-03-2020                                         \n",
            "=================================================================================\n",
            "                    coef    std err          z      P>|z|      [0.025      0.975]\n",
            "---------------------------------------------------------------------------------\n",
            "const           151.1785     15.357      9.844      0.000     121.079     181.278\n",
            "ma.L1.returns    -0.1137      0.032     -3.544      0.000      -0.177      -0.051\n",
            "ma.L2.returns    -0.1098      0.033     -3.341      0.001      -0.174      -0.045\n",
            "                                    Roots                                    \n",
            "=============================================================================\n",
            "                  Real          Imaginary           Modulus         Frequency\n",
            "-----------------------------------------------------------------------------\n",
            "MA.1            2.5441           +0.0000j            2.5441            0.0000\n",
            "MA.2           -3.5794           +0.0000j            3.5794            0.5000\n",
            "-----------------------------------------------------------------------------\n",
            "\n",
            "LLR test p-value = 0.001\n"
          ],
          "name": "stdout"
        }
      ]
    },
    {
      "cell_type": "code",
      "metadata": {
        "id": "fiUJmy5RGXpQ",
        "outputId": "66161a72-cffc-43b8-c533-cd60c611a298",
        "colab": {
          "base_uri": "https://localhost:8080/"
        }
      },
      "source": [
        "model_ret_ma_3 = ARMA(df.returns[1:], order=(0,3))\n",
        "results_ret_ma_3 = model_ret_ma_3.fit()\n",
        "print(results_ret_ma_3.summary())\n",
        "print(\"\\nLLR test p-value = \" + str(LLR_test(results_ret_ma_2, results_ret_ma_3)))"
      ],
      "execution_count": 18,
      "outputs": [
        {
          "output_type": "stream",
          "text": [
            "                              ARMA Model Results                              \n",
            "==============================================================================\n",
            "Dep. Variable:                returns   No. Observations:                  967\n",
            "Model:                     ARMA(0, 3)   Log Likelihood               -7578.790\n",
            "Method:                       css-mle   S.D. of innovations            613.059\n",
            "Date:                Wed, 07 Oct 2020   AIC                          15167.580\n",
            "Time:                        22:06:08   BIC                          15191.951\n",
            "Sample:                    01-03-2018   HQIC                         15176.858\n",
            "                         - 09-03-2020                                         \n",
            "=================================================================================\n",
            "                    coef    std err          z      P>|z|      [0.025      0.975]\n",
            "---------------------------------------------------------------------------------\n",
            "const           151.2497     14.504     10.428      0.000     122.823     179.676\n",
            "ma.L1.returns    -0.1049      0.032     -3.251      0.001      -0.168      -0.042\n",
            "ma.L2.returns    -0.0909      0.031     -2.966      0.003      -0.151      -0.031\n",
            "ma.L3.returns    -0.0690      0.030     -2.294      0.022      -0.128      -0.010\n",
            "                                    Roots                                    \n",
            "=============================================================================\n",
            "                  Real          Imaginary           Modulus         Frequency\n",
            "-----------------------------------------------------------------------------\n",
            "MA.1            1.8991           -0.0000j            1.8991           -0.0000\n",
            "MA.2           -1.6082           -2.2452j            2.7618           -0.3489\n",
            "MA.3           -1.6082           +2.2452j            2.7618            0.3489\n",
            "-----------------------------------------------------------------------------\n",
            "\n",
            "LLR test p-value = 0.021\n"
          ],
          "name": "stdout"
        }
      ]
    },
    {
      "cell_type": "code",
      "metadata": {
        "id": "yStj9oPPGfMi",
        "outputId": "46747362-78ef-49df-afe0-16986b030940",
        "colab": {
          "base_uri": "https://localhost:8080/"
        }
      },
      "source": [
        "model_ret_ma_4 = ARMA(df.returns[1:], order=[0,4])\n",
        "results_ret_ma_4 = model_ret_ma_4.fit()\n",
        "print(results_ret_ma_4.summary())\n",
        "print(\"\\nLLR test p-value = \" + str(LLR_test(results_ret_ma_3, results_ret_ma_4)))"
      ],
      "execution_count": 19,
      "outputs": [
        {
          "output_type": "stream",
          "text": [
            "                              ARMA Model Results                              \n",
            "==============================================================================\n",
            "Dep. Variable:                returns   No. Observations:                  967\n",
            "Model:                     ARMA(0, 4)   Log Likelihood               -7573.962\n",
            "Method:                       css-mle   S.D. of innovations            609.890\n",
            "Date:                Wed, 07 Oct 2020   AIC                          15159.925\n",
            "Time:                        22:06:32   BIC                          15189.170\n",
            "Sample:                    01-03-2018   HQIC                         15171.058\n",
            "                         - 09-03-2020                                         \n",
            "=================================================================================\n",
            "                    coef    std err          z      P>|z|      [0.025      0.975]\n",
            "---------------------------------------------------------------------------------\n",
            "const           151.1236     14.679     10.295      0.000     122.353     179.894\n",
            "ma.L1.returns    -0.1145      0.034     -3.408      0.001      -0.180      -0.049\n",
            "ma.L2.returns    -0.1113      0.029     -3.829      0.000      -0.168      -0.054\n",
            "ma.L3.returns    -0.2508      0.038     -6.678      0.000      -0.324      -0.177\n",
            "ma.L4.returns     0.2249      0.047      4.823      0.000       0.134       0.316\n",
            "                                    Roots                                    \n",
            "=============================================================================\n",
            "                  Real          Imaginary           Modulus         Frequency\n",
            "-----------------------------------------------------------------------------\n",
            "MA.1           -0.8509           -1.0038j            1.3160           -0.3619\n",
            "MA.2           -0.8509           +1.0038j            1.3160            0.3619\n",
            "MA.3            1.4085           -0.7639j            1.6023           -0.0791\n",
            "MA.4            1.4085           +0.7639j            1.6023            0.0791\n",
            "-----------------------------------------------------------------------------\n",
            "\n",
            "LLR test p-value = 0.002\n"
          ],
          "name": "stdout"
        }
      ]
    },
    {
      "cell_type": "code",
      "metadata": {
        "id": "DoVNIcYtGjni",
        "outputId": "46e5ed9e-ef13-484b-be3e-f31d6c597c38",
        "colab": {
          "base_uri": "https://localhost:8080/"
        }
      },
      "source": [
        "model_ret_ma_5 = ARMA(df.returns[1:], order=[0,5])\n",
        "results_ret_ma_5 = model_ret_ma_5.fit()\n",
        "print(results_ret_ma_5.summary())\n",
        "print(\"\\nLLR test p-value = \" + str(LLR_test(results_ret_ma_4, results_ret_ma_5)))"
      ],
      "execution_count": 20,
      "outputs": [
        {
          "output_type": "stream",
          "text": [
            "                              ARMA Model Results                              \n",
            "==============================================================================\n",
            "Dep. Variable:                returns   No. Observations:                  967\n",
            "Model:                     ARMA(0, 5)   Log Likelihood               -7571.372\n",
            "Method:                       css-mle   S.D. of innovations            608.199\n",
            "Date:                Wed, 07 Oct 2020   AIC                          15156.745\n",
            "Time:                        22:06:49   BIC                          15190.864\n",
            "Sample:                    01-03-2018   HQIC                         15169.734\n",
            "                         - 09-03-2020                                         \n",
            "=================================================================================\n",
            "                    coef    std err          z      P>|z|      [0.025      0.975]\n",
            "---------------------------------------------------------------------------------\n",
            "const           151.4596     14.607     10.369      0.000     122.830     180.090\n",
            "ma.L1.returns    -0.0654      0.028     -2.337      0.020      -0.120      -0.011\n",
            "ma.L2.returns     0.1956      0.038      5.101      0.000       0.120       0.271\n",
            "ma.L3.returns    -0.1353      0.036     -3.798      0.000      -0.205      -0.065\n",
            "ma.L4.returns     0.0667      0.037      1.788      0.074      -0.006       0.140\n",
            "ma.L5.returns    -0.3161      0.039     -8.162      0.000      -0.392      -0.240\n",
            "                                    Roots                                    \n",
            "=============================================================================\n",
            "                  Real          Imaginary           Modulus         Frequency\n",
            "-----------------------------------------------------------------------------\n",
            "MA.1           -0.9023           -0.8563j            1.2439           -0.3792\n",
            "MA.2           -0.9023           +0.8563j            1.2439            0.3792\n",
            "MA.3            1.2915           -0.0000j            1.2915           -0.0000\n",
            "MA.4            0.3621           -1.2050j            1.2582           -0.2035\n",
            "MA.5            0.3621           +1.2050j            1.2582            0.2035\n",
            "-----------------------------------------------------------------------------\n",
            "\n",
            "LLR test p-value = 0.023\n"
          ],
          "name": "stdout"
        }
      ]
    },
    {
      "cell_type": "code",
      "metadata": {
        "id": "Zr47IONJGrPY",
        "outputId": "7dd669cb-46a4-4b7d-fbee-c1ffd93cd8bd",
        "colab": {
          "base_uri": "https://localhost:8080/"
        }
      },
      "source": [
        "model_ret_ma_6 = ARMA(df.returns[1:], order=[0,6])\n",
        "results_ret_ma_6 = model_ret_ma_6.fit()\n",
        "print(results_ret_ma_6.summary())\n",
        "print(\"\\nLLR test p-value = \" + str(LLR_test(results_ret_ma_5, results_ret_ma_6)))"
      ],
      "execution_count": 21,
      "outputs": [
        {
          "output_type": "stream",
          "text": [
            "                              ARMA Model Results                              \n",
            "==============================================================================\n",
            "Dep. Variable:                returns   No. Observations:                  967\n",
            "Model:                     ARMA(0, 6)   Log Likelihood               -7548.189\n",
            "Method:                       css-mle   S.D. of innovations            593.607\n",
            "Date:                Wed, 07 Oct 2020   AIC                          15112.378\n",
            "Time:                        22:07:22   BIC                          15151.372\n",
            "Sample:                    01-03-2018   HQIC                         15127.222\n",
            "                         - 09-03-2020                                         \n",
            "=================================================================================\n",
            "                    coef    std err          z      P>|z|      [0.025      0.975]\n",
            "---------------------------------------------------------------------------------\n",
            "const           151.0593     16.510      9.150      0.000     118.700     183.418\n",
            "ma.L1.returns    -0.3501      0.033    -10.642      0.000      -0.415      -0.286\n",
            "ma.L2.returns     0.1840      0.034      5.393      0.000       0.117       0.251\n",
            "ma.L3.returns    -0.2344      0.035     -6.692      0.000      -0.303      -0.166\n",
            "ma.L4.returns     0.1780      0.037      4.868      0.000       0.106       0.250\n",
            "ma.L5.returns    -0.2850      0.035     -8.077      0.000      -0.354      -0.216\n",
            "ma.L6.returns     0.3734      0.034     10.923      0.000       0.306       0.440\n",
            "                                    Roots                                    \n",
            "=============================================================================\n",
            "                  Real          Imaginary           Modulus         Frequency\n",
            "-----------------------------------------------------------------------------\n",
            "MA.1           -0.8679           -0.7312j            1.1349           -0.3886\n",
            "MA.2           -0.8679           +0.7312j            1.1349            0.3886\n",
            "MA.3            0.1452           -1.1759j            1.1848           -0.2304\n",
            "MA.4            0.1452           +1.1759j            1.1848            0.2304\n",
            "MA.5            1.1044           -0.5117j            1.2171           -0.0691\n",
            "MA.6            1.1044           +0.5117j            1.2171            0.0691\n",
            "-----------------------------------------------------------------------------\n",
            "\n",
            "LLR test p-value = 0.0\n"
          ],
          "name": "stdout"
        }
      ]
    },
    {
      "cell_type": "code",
      "metadata": {
        "id": "EHhXcN8NGz2a",
        "outputId": "56955e7c-4277-4d04-d719-4a8292569fd7",
        "colab": {
          "base_uri": "https://localhost:8080/"
        }
      },
      "source": [
        "model_ret_ma_7 = ARMA(df.returns[1:], order=[0,7])\n",
        "results_ret_ma_7 = model_ret_ma_7.fit()\n",
        "print(results_ret_ma_7.summary())\n",
        "print(\"\\nLLR test p-value = \" + str(LLR_test(results_ret_ma_6, results_ret_ma_7)))"
      ],
      "execution_count": 22,
      "outputs": [
        {
          "output_type": "stream",
          "text": [
            "                              ARMA Model Results                              \n",
            "==============================================================================\n",
            "Dep. Variable:                returns   No. Observations:                  967\n",
            "Model:                     ARMA(0, 7)   Log Likelihood               -7448.677\n",
            "Method:                       css-mle   S.D. of innovations            535.425\n",
            "Date:                Wed, 07 Oct 2020   AIC                          14915.355\n",
            "Time:                        22:07:58   BIC                          14959.222\n",
            "Sample:                    01-03-2018   HQIC                         14932.055\n",
            "                         - 09-03-2020                                         \n",
            "=================================================================================\n",
            "                    coef    std err          z      P>|z|      [0.025      0.975]\n",
            "---------------------------------------------------------------------------------\n",
            "const           150.8922     21.785      6.926      0.000     108.195     193.590\n",
            "ma.L1.returns    -0.0630      0.028     -2.213      0.027      -0.119      -0.007\n",
            "ma.L2.returns    -0.0346      0.029     -1.209      0.227      -0.091       0.021\n",
            "ma.L3.returns    -0.0282      0.029     -0.970      0.332      -0.085       0.029\n",
            "ma.L4.returns    -0.0270      0.030     -0.892      0.373      -0.086       0.032\n",
            "ma.L5.returns    -0.0364      0.030     -1.204      0.229      -0.096       0.023\n",
            "ma.L6.returns    -0.0035      0.031     -0.114      0.909      -0.064       0.057\n",
            "ma.L7.returns     0.4607      0.026     17.617      0.000       0.409       0.512\n",
            "                                    Roots                                    \n",
            "=============================================================================\n",
            "                  Real          Imaginary           Modulus         Frequency\n",
            "-----------------------------------------------------------------------------\n",
            "MA.1            1.0137           -0.4522j            1.1100           -0.0668\n",
            "MA.2            1.0137           +0.4522j            1.1100            0.0668\n",
            "MA.3            0.2563           -1.0820j            1.1120           -0.2130\n",
            "MA.4            0.2563           +1.0820j            1.1120            0.2130\n",
            "MA.5           -0.7013           -0.8771j            1.1230           -0.3573\n",
            "MA.6           -0.7013           +0.8771j            1.1230            0.3573\n",
            "MA.7           -1.1300           -0.0000j            1.1300           -0.5000\n",
            "-----------------------------------------------------------------------------\n",
            "\n",
            "LLR test p-value = 0.0\n"
          ],
          "name": "stdout"
        }
      ]
    },
    {
      "cell_type": "code",
      "metadata": {
        "id": "gY7qpaHaG5To",
        "outputId": "af65117f-803d-4e09-d50a-d7698483f86b",
        "colab": {
          "base_uri": "https://localhost:8080/"
        }
      },
      "source": [
        "model_ret_ma_8 = ARMA(df.returns[1:], order=[0,8])\n",
        "results_ret_ma_8 = model_ret_ma_8.fit()\n",
        "print(results_ret_ma_8.summary())\n",
        "print(\"\\nLLR test p-value = \" + str(LLR_test(results_ret_ma_7, results_ret_ma_8)))"
      ],
      "execution_count": 23,
      "outputs": [
        {
          "output_type": "stream",
          "text": [
            "                              ARMA Model Results                              \n",
            "==============================================================================\n",
            "Dep. Variable:                returns   No. Observations:                  967\n",
            "Model:                     ARMA(0, 8)   Log Likelihood               -7446.606\n",
            "Method:                       css-mle   S.D. of innovations            534.278\n",
            "Date:                Wed, 07 Oct 2020   AIC                          14913.212\n",
            "Time:                        22:08:23   BIC                          14961.954\n",
            "Sample:                    01-03-2018   HQIC                         14931.768\n",
            "                         - 09-03-2020                                         \n",
            "=================================================================================\n",
            "                    coef    std err          z      P>|z|      [0.025      0.975]\n",
            "---------------------------------------------------------------------------------\n",
            "const           150.9347     20.139      7.495      0.000     111.463     190.406\n",
            "ma.L1.returns    -0.0972      0.033     -2.946      0.003      -0.162      -0.033\n",
            "ma.L2.returns    -0.0391      0.029     -1.350      0.177      -0.096       0.018\n",
            "ma.L3.returns    -0.0287      0.029     -0.976      0.330      -0.086       0.029\n",
            "ma.L4.returns    -0.0309      0.028     -1.087      0.277      -0.086       0.025\n",
            "ma.L5.returns    -0.0317      0.031     -1.036      0.301      -0.092       0.028\n",
            "ma.L6.returns     0.0134      0.032      0.414      0.679      -0.050       0.077\n",
            "ma.L7.returns     0.4595      0.026     17.481      0.000       0.408       0.511\n",
            "ma.L8.returns    -0.0709      0.035     -2.030      0.043      -0.139      -0.002\n",
            "                                    Roots                                    \n",
            "=============================================================================\n",
            "                  Real          Imaginary           Modulus         Frequency\n",
            "-----------------------------------------------------------------------------\n",
            "MA.1           -1.1119           -0.0000j            1.1119           -0.5000\n",
            "MA.2           -0.7085           -0.8580j            1.1127           -0.3599\n",
            "MA.3           -0.7085           +0.8580j            1.1127            0.3599\n",
            "MA.4            0.2310           -1.0902j            1.1144           -0.2168\n",
            "MA.5            0.2310           +1.0902j            1.1144            0.2168\n",
            "MA.6            1.0251           -0.4676j            1.1267           -0.0681\n",
            "MA.7            1.0251           +0.4676j            1.1267            0.0681\n",
            "MA.8            6.4937           -0.0000j            6.4937           -0.0000\n",
            "-----------------------------------------------------------------------------\n",
            "\n",
            "LLR test p-value = 0.042\n"
          ],
          "name": "stdout"
        }
      ]
    },
    {
      "cell_type": "code",
      "metadata": {
        "id": "hH9yzY8PHA1K",
        "outputId": "160fba68-471d-4457-ed57-43cf7df17a79",
        "colab": {
          "base_uri": "https://localhost:8080/"
        }
      },
      "source": [
        "LLR_test(results_ret_ma_6, results_ret_ma_8, DF = 2)"
      ],
      "execution_count": 24,
      "outputs": [
        {
          "output_type": "execute_result",
          "data": {
            "text/plain": [
              "0.0"
            ]
          },
          "metadata": {
            "tags": []
          },
          "execution_count": 24
        }
      ]
    },
    {
      "cell_type": "markdown",
      "metadata": {
        "id": "XBQMx3OKHJ6O"
      },
      "source": [
        "## Residuos de los retornos"
      ]
    },
    {
      "cell_type": "code",
      "metadata": {
        "id": "7YkxtJ88HNsp",
        "outputId": "d14872af-0fee-45b8-903a-b72e9c5d6049",
        "colab": {
          "base_uri": "https://localhost:8080/"
        }
      },
      "source": [
        "df['res_ret_ma_8'] = results_ret_ma_8.resid[1:]\n",
        "print(\"La media de los residuos \" + str(round(df.res_ret_ma_8.mean(),3)) + \"\\nLa varianza de los residuos es \" + str(round(df.res_ret_ma_8.var(),3)))\n",
        "print(\"La desviacion estandar de los residuos es \" + str(round(sqrt(df.res_ret_ma_8.var()),3)))"
      ],
      "execution_count": 27,
      "outputs": [
        {
          "output_type": "stream",
          "text": [
            "La media de los residuos -0.043\n",
            "La varianza de los residuos es 286166.251\n",
            "La desviacion estandar de los residuos es 534.945\n"
          ],
          "name": "stdout"
        }
      ]
    },
    {
      "cell_type": "code",
      "metadata": {
        "id": "R5xR1-cSIARY",
        "outputId": "d5585154-6513-4cd4-c43f-5b7c09de1900",
        "colab": {
          "base_uri": "https://localhost:8080/",
          "height": 376
        }
      },
      "source": [
        "df.res_ret_ma_8[1:].plot(figsize = (20,5))\n",
        "plt.title(\"Residuals of Returns\", size = 24)\n",
        "plt.show()"
      ],
      "execution_count": 28,
      "outputs": [
        {
          "output_type": "display_data",
          "data": {
            "image/png": "[encoded data removed]",
            "text/plain": [
              "<Figure size 1440x360 with 1 Axes>"
            ]
          },
          "metadata": {
            "tags": []
          }
        }
      ]
    },
    {
      "cell_type": "code",
      "metadata": {
        "id": "kj5RziOqINQ6",
        "outputId": "d47496c9-c781-42da-82f7-8f80a7293b0d",
        "colab": {
          "base_uri": "https://localhost:8080/"
        }
      },
      "source": [
        "sts.adfuller(df.res_ret_ma_8[2:])"
      ],
      "execution_count": 29,
      "outputs": [
        {
          "output_type": "execute_result",
          "data": {
            "text/plain": [
              "(-4.9414881723370785,\n",
              " 2.893785867817837e-05,\n",
              " 20,\n",
              " 945,\n",
              " {'1%': -3.4372887850912175,\n",
              "  '10%': -2.568401081996585,\n",
              "  '5%': -2.8646033071530703},\n",
              " 14404.207030913649)"
            ]
          },
          "metadata": {
            "tags": []
          },
          "execution_count": 29
        }
      ]
    },
    {
      "cell_type": "code",
      "metadata": {
        "id": "Omb8BK6sIXeq",
        "outputId": "1ef5362b-18d5-4fe3-a45e-170a32a8bc7d",
        "colab": {
          "base_uri": "https://localhost:8080/",
          "height": 293
        }
      },
      "source": [
        "sgt.plot_acf(df.res_ret_ma_8[2:], zero = False, lags = 40)\n",
        "plt.title(\"ACF Of Residuals for Returns\",size=24)\n",
        "plt.show()"
      ],
      "execution_count": 30,
      "outputs": [
        {
          "output_type": "display_data",
          "data": {
            "image/png": "[encoded data removed]",
            "text/plain": [
              "<Figure size 432x288 with 1 Axes>"
            ]
          },
          "metadata": {
            "tags": []
          }
        }
      ]
    }
  ]
}