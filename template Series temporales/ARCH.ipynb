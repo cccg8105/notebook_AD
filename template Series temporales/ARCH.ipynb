{
  "nbformat": 4,
  "nbformat_minor": 0,
  "metadata": {
    "colab": {
      "name": "ARCH.ipynb",
      "provenance": [],
      "authorship_tag": "ABX9TyPI6C4lVFx9Tw5jH2Cefrg7",
      "include_colab_link": true
    },
    "kernelspec": {
      "name": "python3",
      "display_name": "Python 3"
    }
  },
  "cells": [
    {
      "cell_type": "markdown",
      "metadata": {
        "id": "view-in-github",
        "colab_type": "text"
      },
      "source": [
        "<a href=\"https://colab.research.google.com/github/cccg8105/notebook_AD/blob/master/template%20Series%20temporales/ARCH.ipynb\" target=\"_parent\"><img src=\"https://colab.research.google.com/assets/colab-badge.svg\" alt=\"Open In Colab\"/></a>"
      ]
    },
    {
      "cell_type": "markdown",
      "metadata": {
        "id": "3Q8funvpJbTa"
      },
      "source": [
        "# Modelo autorregresivo con heterocedasticidad condicional"
      ]
    },
    {
      "cell_type": "markdown",
      "metadata": {
        "id": "nHnTT_qPNOte"
      },
      "source": [
        "$$ \\sigma_{t}^{2} = \\alpha_{0}+\\alpha_{1}\\epsilon_{t-1}^{2} $$"
      ]
    },
    {
      "cell_type": "markdown",
      "metadata": {
        "id": "hevkISHCO6fb"
      },
      "source": [
        "## Importar dependencias"
      ]
    },
    {
      "cell_type": "code",
      "metadata": {
        "id": "PvBlXc-sJHEu"
      },
      "source": [
        "import pandas as pd\n",
        "import numpy as np\n",
        "import matplotlib.pyplot as plt\n",
        "import statsmodels.graphics.tsaplots as sgt\n",
        "import statsmodels.tsa.stattools as sts\n",
        "from statsmodels.tsa.arima_model import ARIMA\n",
        "from scipy.stats.distributions import chi2 \n",
        "from math import sqrt\n",
        "import seaborn as sns\n",
        "sns.set()"
      ],
      "execution_count": null,
      "outputs": []
    }
  ]
}