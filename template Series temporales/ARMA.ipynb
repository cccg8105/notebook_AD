{
  "nbformat": 4,
  "nbformat_minor": 0,
  "metadata": {
    "colab": {
      "name": "ARMA.ipynb",
      "provenance": [],
      "authorship_tag": "ABX9TyN3VrYP8SmLubRIYX4XP+i9",
      "include_colab_link": true
    },
    "kernelspec": {
      "name": "python3",
      "display_name": "Python 3"
    }
  },
  "cells": [
    {
      "cell_type": "markdown",
      "metadata": {
        "id": "view-in-github",
        "colab_type": "text"
      },
      "source": [
        "<a href=\"https://colab.research.google.com/github/cccg8105/notebook_AD/blob/master/template%20Series%20temporales/ARMA.ipynb\" target=\"_parent\"><img src=\"https://colab.research.google.com/assets/colab-badge.svg\" alt=\"Open In Colab\"/></a>"
      ]
    },
    {
      "cell_type": "markdown",
      "metadata": {
        "id": "tH7CaOz2mBBI"
      },
      "source": [
        "# Modelo autoregresivo de medias móviles"
      ]
    },
    {
      "cell_type": "markdown",
      "metadata": {
        "id": "FNoWzgBRobtQ"
      },
      "source": [
        "$$ X_{t} = \\varphi_{1} X_{t-1}+\\vartheta_{1}\\varepsilon_{t-1} + \\varepsilon_{t} + C$$\n",
        "\n",
        "Considera para la predicción tanto el valor de periodos anteriores, como los errores o residuos de periodos pasados.\n",
        "\n",
        "ARMA(P, Q)"
      ]
    },
    {
      "cell_type": "code",
      "metadata": {
        "id": "iYlo6Vwflsga",
        "outputId": "f16c38bd-0c71-44a1-824f-35470e012861",
        "colab": {
          "base_uri": "https://localhost:8080/",
          "height": 337
        }
      },
      "source": [
        "import pandas as pd\n",
        "import numpy as np\n",
        "import matplotlib.pyplot as plt\n",
        "import statsmodels.graphics.tsaplots as sgt\n",
        "import statsmodels.tsa.stattools as sts\n",
        "from statsmodels.tsa.arima_model import ARMA\n",
        "from scipy.stats.distributions import chi2 \n",
        "from math import sqrt\n",
        "import seaborn as sns\n",
        "import warnings\n",
        "warnings.filterwarnings(\"ignore\")\n",
        "sns.set()\n",
        "\n",
        "#Prueba Logverosimilitud\n",
        "def LLR_test(mod_1, mod_2, DF = 1):\n",
        "    L1 = mod_1.llf\n",
        "    L2 = mod_2.llf\n",
        "    LR = (2*(L2-L1))    \n",
        "    p = chi2.sf(LR, DF).round(3)\n",
        "    return p\n",
        "\n",
        "# carga de archivo\n",
        "raw_csv_data = pd.read_csv(\"https://raw.githubusercontent.com/cccg8105/curso-series-temporales/master/7.%20ARMA%20autorregresivos%20de%20medias%20moviles/Python/Index2018.csv\")\n",
        "dateColumnName = \"date\"\n",
        "analizedValue = \"ftse\"\n",
        "\n",
        "# Formateo de dataset\n",
        "df_comp=raw_csv_data.copy()\n",
        "print(raw_csv_data.head(5))\n",
        "df_comp.date = pd.to_datetime(df_comp[dateColumnName], dayfirst = True)\n",
        "df_comp.set_index(dateColumnName, inplace=True)\n",
        "df_comp=df_comp.asfreq('b')\n",
        "df_comp=df_comp.fillna(method='ffill')\n",
        "df_comp['analizedValue']=df_comp[analizedValue]\n",
        "\n",
        "# data frame para analizar\n",
        "df_comp.head(5)"
      ],
      "execution_count": 14,
      "outputs": [
        {
          "output_type": "stream",
          "text": [
            "         date     spx      dax     ftse    nikkei\n",
            "0  07/01/1994  469.90  2224.95  3445.98  18124.01\n",
            "1  10/01/1994  475.27  2225.00  3440.58  18443.44\n",
            "2  11/01/1994  474.13  2228.10  3413.77  18485.25\n",
            "3  12/01/1994  474.17  2182.06  3372.02  18793.88\n",
            "4  13/01/1994  472.47  2142.37  3360.01  18577.26\n"
          ],
          "name": "stdout"
        },
        {
          "output_type": "execute_result",
          "data": {
            "text/html": [
              "<div>\n",
              "<style scoped>\n",
              "    .dataframe tbody tr th:only-of-type {\n",
              "        vertical-align: middle;\n",
              "    }\n",
              "\n",
              "    .dataframe tbody tr th {\n",
              "        vertical-align: top;\n",
              "    }\n",
              "\n",
              "    .dataframe thead th {\n",
              "        text-align: right;\n",
              "    }\n",
              "</style>\n",
              "<table border=\"1\" class=\"dataframe\">\n",
              "  <thead>\n",
              "    <tr style=\"text-align: right;\">\n",
              "      <th></th>\n",
              "      <th>spx</th>\n",
              "      <th>dax</th>\n",
              "      <th>ftse</th>\n",
              "      <th>nikkei</th>\n",
              "      <th>analizedValue</th>\n",
              "    </tr>\n",
              "    <tr>\n",
              "      <th>date</th>\n",
              "      <th></th>\n",
              "      <th></th>\n",
              "      <th></th>\n",
              "      <th></th>\n",
              "      <th></th>\n",
              "    </tr>\n",
              "  </thead>\n",
              "  <tbody>\n",
              "    <tr>\n",
              "      <th>1994-01-07</th>\n",
              "      <td>469.90</td>\n",
              "      <td>2224.95</td>\n",
              "      <td>3445.98</td>\n",
              "      <td>18124.01</td>\n",
              "      <td>3445.98</td>\n",
              "    </tr>\n",
              "    <tr>\n",
              "      <th>1994-01-10</th>\n",
              "      <td>475.27</td>\n",
              "      <td>2225.00</td>\n",
              "      <td>3440.58</td>\n",
              "      <td>18443.44</td>\n",
              "      <td>3440.58</td>\n",
              "    </tr>\n",
              "    <tr>\n",
              "      <th>1994-01-11</th>\n",
              "      <td>474.13</td>\n",
              "      <td>2228.10</td>\n",
              "      <td>3413.77</td>\n",
              "      <td>18485.25</td>\n",
              "      <td>3413.77</td>\n",
              "    </tr>\n",
              "    <tr>\n",
              "      <th>1994-01-12</th>\n",
              "      <td>474.17</td>\n",
              "      <td>2182.06</td>\n",
              "      <td>3372.02</td>\n",
              "      <td>18793.88</td>\n",
              "      <td>3372.02</td>\n",
              "    </tr>\n",
              "    <tr>\n",
              "      <th>1994-01-13</th>\n",
              "      <td>472.47</td>\n",
              "      <td>2142.37</td>\n",
              "      <td>3360.01</td>\n",
              "      <td>18577.26</td>\n",
              "      <td>3360.01</td>\n",
              "    </tr>\n",
              "  </tbody>\n",
              "</table>\n",
              "</div>"
            ],
            "text/plain": [
              "               spx      dax     ftse    nikkei  analizedValue\n",
              "date                                                         \n",
              "1994-01-07  469.90  2224.95  3445.98  18124.01        3445.98\n",
              "1994-01-10  475.27  2225.00  3440.58  18443.44        3440.58\n",
              "1994-01-11  474.13  2228.10  3413.77  18485.25        3413.77\n",
              "1994-01-12  474.17  2182.06  3372.02  18793.88        3372.02\n",
              "1994-01-13  472.47  2142.37  3360.01  18577.26        3360.01"
            ]
          },
          "metadata": {
            "tags": []
          },
          "execution_count": 14
        }
      ]
    },
    {
      "cell_type": "code",
      "metadata": {
        "id": "tCFbqGWuFP8n"
      },
      "source": [
        ""
      ],
      "execution_count": null,
      "outputs": []
    }
  ]
}