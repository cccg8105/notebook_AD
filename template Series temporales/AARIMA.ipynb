{
  "nbformat": 4,
  "nbformat_minor": 0,
  "metadata": {
    "colab": {
      "name": "AARIMA.ipynb",
      "provenance": [],
      "authorship_tag": "ABX9TyN5SVls+2clPvZK4WM9uLye",
      "include_colab_link": true
    },
    "kernelspec": {
      "name": "python3",
      "display_name": "Python 3"
    }
  },
  "cells": [
    {
      "cell_type": "markdown",
      "metadata": {
        "id": "view-in-github",
        "colab_type": "text"
      },
      "source": [
        "<a href=\"https://colab.research.google.com/github/cccg8105/notebook_AD/blob/master/template%20Series%20temporales/AARIMA.ipynb\" target=\"_parent\"><img src=\"https://colab.research.google.com/assets/colab-badge.svg\" alt=\"Open In Colab\"/></a>"
      ]
    },
    {
      "cell_type": "markdown",
      "metadata": {
        "id": "pLv-Qg2Dik_M"
      },
      "source": [
        "# Auto ARIMA"
      ]
    },
    {
      "cell_type": "markdown",
      "metadata": {
        "id": "11KvfMewj-Ks"
      },
      "source": [
        "## Instalación de dependencias"
      ]
    },
    {
      "cell_type": "code",
      "metadata": {
        "colab": {
          "base_uri": "https://localhost:8080/",
          "height": 1000
        },
        "id": "bsZ21HleijZe",
        "outputId": "2ec8c329-1f3e-459b-bf44-b0e974e20626"
      },
      "source": [
        "!pip install arch\n",
        "!pip install pmdarima\n",
        "!pip install yfinance"
      ],
      "execution_count": 1,
      "outputs": [
        {
          "output_type": "stream",
          "text": [
            "Collecting arch\n",
            "\u001b[?25l  Downloading https://files.pythonhosted.org/packages/7f/5c/ef80e96f2cdc6c2d293b7e4688888a4428963c966fbb0c749c9078e68bb6/arch-4.15-cp36-cp36m-manylinux1_x86_64.whl (790kB)\n",
            "\r\u001b[K     |▍                               | 10kB 17.1MB/s eta 0:00:01\r\u001b[K     |▉                               | 20kB 21.8MB/s eta 0:00:01\r\u001b[K     |█▎                              | 30kB 15.4MB/s eta 0:00:01\r\u001b[K     |█▋                              | 40kB 10.5MB/s eta 0:00:01\r\u001b[K     |██                              | 51kB 7.6MB/s eta 0:00:01\r\u001b[K     |██▌                             | 61kB 8.0MB/s eta 0:00:01\r\u001b[K     |███                             | 71kB 8.0MB/s eta 0:00:01\r\u001b[K     |███▎                            | 81kB 7.4MB/s eta 0:00:01\r\u001b[K     |███▊                            | 92kB 8.1MB/s eta 0:00:01\r\u001b[K     |████▏                           | 102kB 8.9MB/s eta 0:00:01\r\u001b[K     |████▋                           | 112kB 8.9MB/s eta 0:00:01\r\u001b[K     |█████                           | 122kB 8.9MB/s eta 0:00:01\r\u001b[K     |█████▍                          | 133kB 8.9MB/s eta 0:00:01\r\u001b[K     |█████▉                          | 143kB 8.9MB/s eta 0:00:01\r\u001b[K     |██████▏                         | 153kB 8.9MB/s eta 0:00:01\r\u001b[K     |██████▋                         | 163kB 8.9MB/s eta 0:00:01\r\u001b[K     |███████                         | 174kB 8.9MB/s eta 0:00:01\r\u001b[K     |███████▌                        | 184kB 8.9MB/s eta 0:00:01\r\u001b[K     |███████▉                        | 194kB 8.9MB/s eta 0:00:01\r\u001b[K     |████████▎                       | 204kB 8.9MB/s eta 0:00:01\r\u001b[K     |████████▊                       | 215kB 8.9MB/s eta 0:00:01\r\u001b[K     |█████████▏                      | 225kB 8.9MB/s eta 0:00:01\r\u001b[K     |█████████▌                      | 235kB 8.9MB/s eta 0:00:01\r\u001b[K     |██████████                      | 245kB 8.9MB/s eta 0:00:01\r\u001b[K     |██████████▍                     | 256kB 8.9MB/s eta 0:00:01\r\u001b[K     |██████████▉                     | 266kB 8.9MB/s eta 0:00:01\r\u001b[K     |███████████▏                    | 276kB 8.9MB/s eta 0:00:01\r\u001b[K     |███████████▋                    | 286kB 8.9MB/s eta 0:00:01\r\u001b[K     |████████████                    | 296kB 8.9MB/s eta 0:00:01\r\u001b[K     |████████████▍                   | 307kB 8.9MB/s eta 0:00:01\r\u001b[K     |████████████▉                   | 317kB 8.9MB/s eta 0:00:01\r\u001b[K     |█████████████▎                  | 327kB 8.9MB/s eta 0:00:01\r\u001b[K     |█████████████▊                  | 337kB 8.9MB/s eta 0:00:01\r\u001b[K     |██████████████                  | 348kB 8.9MB/s eta 0:00:01\r\u001b[K     |██████████████▌                 | 358kB 8.9MB/s eta 0:00:01\r\u001b[K     |███████████████                 | 368kB 8.9MB/s eta 0:00:01\r\u001b[K     |███████████████▍                | 378kB 8.9MB/s eta 0:00:01\r\u001b[K     |███████████████▊                | 389kB 8.9MB/s eta 0:00:01\r\u001b[K     |████████████████▏               | 399kB 8.9MB/s eta 0:00:01\r\u001b[K     |████████████████▋               | 409kB 8.9MB/s eta 0:00:01\r\u001b[K     |█████████████████               | 419kB 8.9MB/s eta 0:00:01\r\u001b[K     |█████████████████▍              | 430kB 8.9MB/s eta 0:00:01\r\u001b[K     |█████████████████▉              | 440kB 8.9MB/s eta 0:00:01\r\u001b[K     |██████████████████▎             | 450kB 8.9MB/s eta 0:00:01\r\u001b[K     |██████████████████▋             | 460kB 8.9MB/s eta 0:00:01\r\u001b[K     |███████████████████             | 471kB 8.9MB/s eta 0:00:01\r\u001b[K     |███████████████████▌            | 481kB 8.9MB/s eta 0:00:01\r\u001b[K     |████████████████████            | 491kB 8.9MB/s eta 0:00:01\r\u001b[K     |████████████████████▎           | 501kB 8.9MB/s eta 0:00:01\r\u001b[K     |████████████████████▊           | 512kB 8.9MB/s eta 0:00:01\r\u001b[K     |█████████████████████▏          | 522kB 8.9MB/s eta 0:00:01\r\u001b[K     |█████████████████████▋          | 532kB 8.9MB/s eta 0:00:01\r\u001b[K     |██████████████████████          | 542kB 8.9MB/s eta 0:00:01\r\u001b[K     |██████████████████████▍         | 552kB 8.9MB/s eta 0:00:01\r\u001b[K     |██████████████████████▉         | 563kB 8.9MB/s eta 0:00:01\r\u001b[K     |███████████████████████▎        | 573kB 8.9MB/s eta 0:00:01\r\u001b[K     |███████████████████████▋        | 583kB 8.9MB/s eta 0:00:01\r\u001b[K     |████████████████████████        | 593kB 8.9MB/s eta 0:00:01\r\u001b[K     |████████████████████████▌       | 604kB 8.9MB/s eta 0:00:01\r\u001b[K     |████████████████████████▉       | 614kB 8.9MB/s eta 0:00:01\r\u001b[K     |█████████████████████████▎      | 624kB 8.9MB/s eta 0:00:01\r\u001b[K     |█████████████████████████▊      | 634kB 8.9MB/s eta 0:00:01\r\u001b[K     |██████████████████████████▏     | 645kB 8.9MB/s eta 0:00:01\r\u001b[K     |██████████████████████████▌     | 655kB 8.9MB/s eta 0:00:01\r\u001b[K     |███████████████████████████     | 665kB 8.9MB/s eta 0:00:01\r\u001b[K     |███████████████████████████▍    | 675kB 8.9MB/s eta 0:00:01\r\u001b[K     |███████████████████████████▉    | 686kB 8.9MB/s eta 0:00:01\r\u001b[K     |████████████████████████████▏   | 696kB 8.9MB/s eta 0:00:01\r\u001b[K     |████████████████████████████▋   | 706kB 8.9MB/s eta 0:00:01\r\u001b[K     |█████████████████████████████   | 716kB 8.9MB/s eta 0:00:01\r\u001b[K     |█████████████████████████████▍  | 727kB 8.9MB/s eta 0:00:01\r\u001b[K     |█████████████████████████████▉  | 737kB 8.9MB/s eta 0:00:01\r\u001b[K     |██████████████████████████████▎ | 747kB 8.9MB/s eta 0:00:01\r\u001b[K     |██████████████████████████████▊ | 757kB 8.9MB/s eta 0:00:01\r\u001b[K     |███████████████████████████████ | 768kB 8.9MB/s eta 0:00:01\r\u001b[K     |███████████████████████████████▌| 778kB 8.9MB/s eta 0:00:01\r\u001b[K     |████████████████████████████████| 788kB 8.9MB/s eta 0:00:01\r\u001b[K     |████████████████████████████████| 798kB 8.9MB/s \n",
            "\u001b[?25hRequirement already satisfied: pandas>=0.23 in /usr/local/lib/python3.6/dist-packages (from arch) (1.1.4)\n",
            "Requirement already satisfied: scipy>=1.0.1 in /usr/local/lib/python3.6/dist-packages (from arch) (1.4.1)\n",
            "Requirement already satisfied: cython>=0.29.14 in /usr/local/lib/python3.6/dist-packages (from arch) (0.29.21)\n",
            "Requirement already satisfied: numpy>=1.14 in /usr/local/lib/python3.6/dist-packages (from arch) (1.18.5)\n",
            "Requirement already satisfied: statsmodels>=0.9 in /usr/local/lib/python3.6/dist-packages (from arch) (0.10.2)\n",
            "Collecting property-cached>=1.6.3\n",
            "  Downloading https://files.pythonhosted.org/packages/5c/6c/94d8e520b20a2502e508e1c558f338061cf409cbee78fd6a3a5c6ae812bd/property_cached-1.6.4-py2.py3-none-any.whl\n",
            "Requirement already satisfied: python-dateutil>=2.7.3 in /usr/local/lib/python3.6/dist-packages (from pandas>=0.23->arch) (2.8.1)\n",
            "Requirement already satisfied: pytz>=2017.2 in /usr/local/lib/python3.6/dist-packages (from pandas>=0.23->arch) (2018.9)\n",
            "Requirement already satisfied: patsy>=0.4.0 in /usr/local/lib/python3.6/dist-packages (from statsmodels>=0.9->arch) (0.5.1)\n",
            "Requirement already satisfied: six>=1.5 in /usr/local/lib/python3.6/dist-packages (from python-dateutil>=2.7.3->pandas>=0.23->arch) (1.15.0)\n",
            "Installing collected packages: property-cached, arch\n",
            "Successfully installed arch-4.15 property-cached-1.6.4\n",
            "Collecting pmdarima\n",
            "\u001b[?25l  Downloading https://files.pythonhosted.org/packages/be/62/725b3b6ae0e56c77534de5a8139322e7b863ca53fd5bd6bd3b7de87d0c20/pmdarima-1.7.1-cp36-cp36m-manylinux1_x86_64.whl (1.5MB)\n",
            "\u001b[K     |████████████████████████████████| 1.5MB 8.9MB/s \n",
            "\u001b[?25hRequirement already satisfied: pandas>=0.19 in /usr/local/lib/python3.6/dist-packages (from pmdarima) (1.1.4)\n",
            "Collecting setuptools<50.0.0\n",
            "\u001b[?25l  Downloading https://files.pythonhosted.org/packages/c3/a9/5dc32465951cf4812e9e93b4ad2d314893c2fa6d5f66ce5c057af6e76d85/setuptools-49.6.0-py3-none-any.whl (803kB)\n",
            "\u001b[K     |████████████████████████████████| 808kB 30.0MB/s \n",
            "\u001b[?25hRequirement already satisfied: scipy>=1.3.2 in /usr/local/lib/python3.6/dist-packages (from pmdarima) (1.4.1)\n",
            "Requirement already satisfied: scikit-learn>=0.22 in /usr/local/lib/python3.6/dist-packages (from pmdarima) (0.22.2.post1)\n",
            "Collecting statsmodels<0.12,>=0.11\n",
            "\u001b[?25l  Downloading https://files.pythonhosted.org/packages/cb/83/540fd83238a18abe6c2d280fa8e489ac5fcefa1f370f0ca1acd16ae1b860/statsmodels-0.11.1-cp36-cp36m-manylinux1_x86_64.whl (8.7MB)\n",
            "\u001b[K     |████████████████████████████████| 8.7MB 31.9MB/s \n",
            "\u001b[?25hRequirement already satisfied: urllib3 in /usr/local/lib/python3.6/dist-packages (from pmdarima) (1.24.3)\n",
            "Collecting Cython<0.29.18,>=0.29\n",
            "\u001b[?25l  Downloading https://files.pythonhosted.org/packages/e7/d7/510ddef0248f3e1e91f9cc7e31c0f35f8954d0af92c5c3fd4c853e859ebe/Cython-0.29.17-cp36-cp36m-manylinux1_x86_64.whl (2.1MB)\n",
            "\u001b[K     |████████████████████████████████| 2.1MB 43.4MB/s \n",
            "\u001b[?25hRequirement already satisfied: numpy>=1.17.3 in /usr/local/lib/python3.6/dist-packages (from pmdarima) (1.18.5)\n",
            "Requirement already satisfied: joblib>=0.11 in /usr/local/lib/python3.6/dist-packages (from pmdarima) (0.17.0)\n",
            "Requirement already satisfied: pytz>=2017.2 in /usr/local/lib/python3.6/dist-packages (from pandas>=0.19->pmdarima) (2018.9)\n",
            "Requirement already satisfied: python-dateutil>=2.7.3 in /usr/local/lib/python3.6/dist-packages (from pandas>=0.19->pmdarima) (2.8.1)\n",
            "Requirement already satisfied: patsy>=0.5 in /usr/local/lib/python3.6/dist-packages (from statsmodels<0.12,>=0.11->pmdarima) (0.5.1)\n",
            "Requirement already satisfied: six>=1.5 in /usr/local/lib/python3.6/dist-packages (from python-dateutil>=2.7.3->pandas>=0.19->pmdarima) (1.15.0)\n",
            "\u001b[31mERROR: datascience 0.10.6 has requirement folium==0.2.1, but you'll have folium 0.8.3 which is incompatible.\u001b[0m\n",
            "Installing collected packages: setuptools, statsmodels, Cython, pmdarima\n",
            "  Found existing installation: setuptools 50.3.2\n",
            "    Uninstalling setuptools-50.3.2:\n",
            "      Successfully uninstalled setuptools-50.3.2\n",
            "  Found existing installation: statsmodels 0.10.2\n",
            "    Uninstalling statsmodels-0.10.2:\n",
            "      Successfully uninstalled statsmodels-0.10.2\n",
            "  Found existing installation: Cython 0.29.21\n",
            "    Uninstalling Cython-0.29.21:\n",
            "      Successfully uninstalled Cython-0.29.21\n",
            "Successfully installed Cython-0.29.17 pmdarima-1.7.1 setuptools-49.6.0 statsmodels-0.11.1\n"
          ],
          "name": "stdout"
        },
        {
          "output_type": "display_data",
          "data": {
            "application/vnd.colab-display-data+json": {
              "pip_warning": {
                "packages": [
                  "pkg_resources"
                ]
              }
            }
          },
          "metadata": {
            "tags": []
          }
        },
        {
          "output_type": "stream",
          "text": [
            "Collecting yfinance\n",
            "  Downloading https://files.pythonhosted.org/packages/7a/e8/b9d7104d3a4bf39924799067592d9e59119fcfc900a425a12e80a3123ec8/yfinance-0.1.55.tar.gz\n",
            "Requirement already satisfied: pandas>=0.24 in /usr/local/lib/python3.6/dist-packages (from yfinance) (1.1.4)\n",
            "Requirement already satisfied: numpy>=1.15 in /usr/local/lib/python3.6/dist-packages (from yfinance) (1.18.5)\n",
            "Requirement already satisfied: requests>=2.20 in /usr/local/lib/python3.6/dist-packages (from yfinance) (2.23.0)\n",
            "Requirement already satisfied: multitasking>=0.0.7 in /usr/local/lib/python3.6/dist-packages (from yfinance) (0.0.9)\n",
            "Collecting lxml>=4.5.1\n",
            "\u001b[?25l  Downloading https://files.pythonhosted.org/packages/64/28/0b761b64ecbd63d272ed0e7a6ae6e4402fc37886b59181bfdf274424d693/lxml-4.6.1-cp36-cp36m-manylinux1_x86_64.whl (5.5MB)\n",
            "\u001b[K     |████████████████████████████████| 5.5MB 13.1MB/s \n",
            "\u001b[?25hRequirement already satisfied: pytz>=2017.2 in /usr/local/lib/python3.6/dist-packages (from pandas>=0.24->yfinance) (2018.9)\n",
            "Requirement already satisfied: python-dateutil>=2.7.3 in /usr/local/lib/python3.6/dist-packages (from pandas>=0.24->yfinance) (2.8.1)\n",
            "Requirement already satisfied: urllib3!=1.25.0,!=1.25.1,<1.26,>=1.21.1 in /usr/local/lib/python3.6/dist-packages (from requests>=2.20->yfinance) (1.24.3)\n",
            "Requirement already satisfied: idna<3,>=2.5 in /usr/local/lib/python3.6/dist-packages (from requests>=2.20->yfinance) (2.10)\n",
            "Requirement already satisfied: chardet<4,>=3.0.2 in /usr/local/lib/python3.6/dist-packages (from requests>=2.20->yfinance) (3.0.4)\n",
            "Requirement already satisfied: certifi>=2017.4.17 in /usr/local/lib/python3.6/dist-packages (from requests>=2.20->yfinance) (2020.11.8)\n",
            "Requirement already satisfied: six>=1.5 in /usr/local/lib/python3.6/dist-packages (from python-dateutil>=2.7.3->pandas>=0.24->yfinance) (1.15.0)\n",
            "Building wheels for collected packages: yfinance\n",
            "  Building wheel for yfinance (setup.py) ... \u001b[?25l\u001b[?25hdone\n",
            "  Created wheel for yfinance: filename=yfinance-0.1.55-py2.py3-none-any.whl size=22618 sha256=93417ddb62084a63183af7db2ffc2fe493b98e8fb28ec691938a31ff29b17710\n",
            "  Stored in directory: /root/.cache/pip/wheels/04/98/cc/2702a4242d60bdc14f48b4557c427ded1fe92aedf257d4565c\n",
            "Successfully built yfinance\n",
            "Installing collected packages: lxml, yfinance\n",
            "  Found existing installation: lxml 4.2.6\n",
            "    Uninstalling lxml-4.2.6:\n",
            "      Successfully uninstalled lxml-4.2.6\n",
            "Successfully installed lxml-4.6.1 yfinance-0.1.55\n"
          ],
          "name": "stdout"
        }
      ]
    },
    {
      "cell_type": "markdown",
      "metadata": {
        "id": "lsS2PHl3k0zY"
      },
      "source": [
        "## Importación de datos"
      ]
    },
    {
      "cell_type": "code",
      "metadata": {
        "colab": {
          "base_uri": "https://localhost:8080/",
          "height": 366
        },
        "id": "fBQ-aiTck5yY",
        "outputId": "c60ee3cb-a5d1-4665-8335-47179f3e6292"
      },
      "source": [
        "import numpy as np\n",
        "import pandas as pd\n",
        "import scipy\n",
        "import statsmodels.api as sm\n",
        "import matplotlib.pyplot as plt\n",
        "import seaborn as sns\n",
        "import sklearn\n",
        "from statsmodels.tsa.arima_model import ARIMA\n",
        "from arch import arch_model\n",
        "import yfinance\n",
        "import seaborn as sns\n",
        "import warnings\n",
        "warnings.filterwarnings(\"ignore\")\n",
        "sns.set()\n",
        "\n",
        "raw_data = yfinance.download (tickers = \"^GSPC ^FTSE ^N225 ^GDAXI\", start = \"1994-01-07\", end = \"2020-03-20\", \n",
        "                              interval = \"1d\", group_by = 'ticker', auto_adjust = True, treads = True)\n",
        "\n",
        "df_comp = raw_data.copy()\n",
        "df_comp.head()"
      ],
      "execution_count": 11,
      "outputs": [
        {
          "output_type": "stream",
          "text": [
            "[*********************100%***********************]  4 of 4 completed\n"
          ],
          "name": "stdout"
        },
        {
          "output_type": "execute_result",
          "data": {
            "text/html": [
              "<div>\n",
              "<style scoped>\n",
              "    .dataframe tbody tr th:only-of-type {\n",
              "        vertical-align: middle;\n",
              "    }\n",
              "\n",
              "    .dataframe tbody tr th {\n",
              "        vertical-align: top;\n",
              "    }\n",
              "\n",
              "    .dataframe thead tr th {\n",
              "        text-align: left;\n",
              "    }\n",
              "\n",
              "    .dataframe thead tr:last-of-type th {\n",
              "        text-align: right;\n",
              "    }\n",
              "</style>\n",
              "<table border=\"1\" class=\"dataframe\">\n",
              "  <thead>\n",
              "    <tr>\n",
              "      <th></th>\n",
              "      <th colspan=\"5\" halign=\"left\">^FTSE</th>\n",
              "      <th colspan=\"5\" halign=\"left\">^GDAXI</th>\n",
              "      <th colspan=\"5\" halign=\"left\">^GSPC</th>\n",
              "      <th colspan=\"5\" halign=\"left\">^N225</th>\n",
              "    </tr>\n",
              "    <tr>\n",
              "      <th></th>\n",
              "      <th>Open</th>\n",
              "      <th>High</th>\n",
              "      <th>Low</th>\n",
              "      <th>Close</th>\n",
              "      <th>Volume</th>\n",
              "      <th>Open</th>\n",
              "      <th>High</th>\n",
              "      <th>Low</th>\n",
              "      <th>Close</th>\n",
              "      <th>Volume</th>\n",
              "      <th>Open</th>\n",
              "      <th>High</th>\n",
              "      <th>Low</th>\n",
              "      <th>Close</th>\n",
              "      <th>Volume</th>\n",
              "      <th>Open</th>\n",
              "      <th>High</th>\n",
              "      <th>Low</th>\n",
              "      <th>Close</th>\n",
              "      <th>Volume</th>\n",
              "    </tr>\n",
              "    <tr>\n",
              "      <th>Date</th>\n",
              "      <th></th>\n",
              "      <th></th>\n",
              "      <th></th>\n",
              "      <th></th>\n",
              "      <th></th>\n",
              "      <th></th>\n",
              "      <th></th>\n",
              "      <th></th>\n",
              "      <th></th>\n",
              "      <th></th>\n",
              "      <th></th>\n",
              "      <th></th>\n",
              "      <th></th>\n",
              "      <th></th>\n",
              "      <th></th>\n",
              "      <th></th>\n",
              "      <th></th>\n",
              "      <th></th>\n",
              "      <th></th>\n",
              "      <th></th>\n",
              "    </tr>\n",
              "  </thead>\n",
              "  <tbody>\n",
              "    <tr>\n",
              "      <th>1994-01-07</th>\n",
              "      <td>3401.399902</td>\n",
              "      <td>3446.800049</td>\n",
              "      <td>3398.699951</td>\n",
              "      <td>3446.000000</td>\n",
              "      <td>0.0</td>\n",
              "      <td>2218.959961</td>\n",
              "      <td>2227.639893</td>\n",
              "      <td>2201.820068</td>\n",
              "      <td>2224.949951</td>\n",
              "      <td>0.0</td>\n",
              "      <td>467.089996</td>\n",
              "      <td>470.260010</td>\n",
              "      <td>467.029999</td>\n",
              "      <td>469.899994</td>\n",
              "      <td>324920000.0</td>\n",
              "      <td>17842.980469</td>\n",
              "      <td>18131.410156</td>\n",
              "      <td>17787.480469</td>\n",
              "      <td>18124.009766</td>\n",
              "      <td>0.0</td>\n",
              "    </tr>\n",
              "    <tr>\n",
              "      <th>1994-01-10</th>\n",
              "      <td>3465.699951</td>\n",
              "      <td>3468.100098</td>\n",
              "      <td>3430.000000</td>\n",
              "      <td>3440.600098</td>\n",
              "      <td>0.0</td>\n",
              "      <td>2231.840088</td>\n",
              "      <td>2238.010010</td>\n",
              "      <td>2222.000000</td>\n",
              "      <td>2225.000000</td>\n",
              "      <td>0.0</td>\n",
              "      <td>469.899994</td>\n",
              "      <td>475.269989</td>\n",
              "      <td>469.549988</td>\n",
              "      <td>475.269989</td>\n",
              "      <td>319490000.0</td>\n",
              "      <td>18186.519531</td>\n",
              "      <td>18567.060547</td>\n",
              "      <td>18186.519531</td>\n",
              "      <td>18443.439453</td>\n",
              "      <td>0.0</td>\n",
              "    </tr>\n",
              "    <tr>\n",
              "      <th>1994-01-11</th>\n",
              "      <td>3442.500000</td>\n",
              "      <td>3442.500000</td>\n",
              "      <td>3413.500000</td>\n",
              "      <td>3413.800049</td>\n",
              "      <td>0.0</td>\n",
              "      <td>2225.429932</td>\n",
              "      <td>2235.610107</td>\n",
              "      <td>2225.179932</td>\n",
              "      <td>2228.100098</td>\n",
              "      <td>0.0</td>\n",
              "      <td>475.269989</td>\n",
              "      <td>475.279999</td>\n",
              "      <td>473.269989</td>\n",
              "      <td>474.130005</td>\n",
              "      <td>305490000.0</td>\n",
              "      <td>18481.849609</td>\n",
              "      <td>18671.669922</td>\n",
              "      <td>18373.039062</td>\n",
              "      <td>18485.250000</td>\n",
              "      <td>0.0</td>\n",
              "    </tr>\n",
              "    <tr>\n",
              "      <th>1994-01-12</th>\n",
              "      <td>3394.800049</td>\n",
              "      <td>3402.399902</td>\n",
              "      <td>3372.000000</td>\n",
              "      <td>3372.000000</td>\n",
              "      <td>0.0</td>\n",
              "      <td>2227.120117</td>\n",
              "      <td>2227.790039</td>\n",
              "      <td>2182.060059</td>\n",
              "      <td>2182.060059</td>\n",
              "      <td>0.0</td>\n",
              "      <td>474.130005</td>\n",
              "      <td>475.059998</td>\n",
              "      <td>472.140015</td>\n",
              "      <td>474.170013</td>\n",
              "      <td>310690000.0</td>\n",
              "      <td>18447.339844</td>\n",
              "      <td>18807.080078</td>\n",
              "      <td>18301.929688</td>\n",
              "      <td>18793.880859</td>\n",
              "      <td>0.0</td>\n",
              "    </tr>\n",
              "    <tr>\n",
              "      <th>1994-01-13</th>\n",
              "      <td>3380.699951</td>\n",
              "      <td>3383.300049</td>\n",
              "      <td>3356.899902</td>\n",
              "      <td>3360.000000</td>\n",
              "      <td>0.0</td>\n",
              "      <td>2171.500000</td>\n",
              "      <td>2183.709961</td>\n",
              "      <td>2134.100098</td>\n",
              "      <td>2142.370117</td>\n",
              "      <td>0.0</td>\n",
              "      <td>474.170013</td>\n",
              "      <td>474.170013</td>\n",
              "      <td>471.799988</td>\n",
              "      <td>472.470001</td>\n",
              "      <td>277970000.0</td>\n",
              "      <td>18770.380859</td>\n",
              "      <td>18823.380859</td>\n",
              "      <td>18548.750000</td>\n",
              "      <td>18577.259766</td>\n",
              "      <td>0.0</td>\n",
              "    </tr>\n",
              "  </tbody>\n",
              "</table>\n",
              "</div>"
            ],
            "text/plain": [
              "                  ^FTSE               ...         ^N225       \n",
              "                   Open         High  ...         Close Volume\n",
              "Date                                  ...                     \n",
              "1994-01-07  3401.399902  3446.800049  ...  18124.009766    0.0\n",
              "1994-01-10  3465.699951  3468.100098  ...  18443.439453    0.0\n",
              "1994-01-11  3442.500000  3442.500000  ...  18485.250000    0.0\n",
              "1994-01-12  3394.800049  3402.399902  ...  18793.880859    0.0\n",
              "1994-01-13  3380.699951  3383.300049  ...  18577.259766    0.0\n",
              "\n",
              "[5 rows x 20 columns]"
            ]
          },
          "metadata": {
            "tags": []
          },
          "execution_count": 11
        }
      ]
    },
    {
      "cell_type": "markdown",
      "metadata": {
        "id": "SWG_Kj6dqwTI"
      },
      "source": [
        "### Formateo de datos"
      ]
    },
    {
      "cell_type": "code",
      "metadata": {
        "colab": {
          "base_uri": "https://localhost:8080/",
          "height": 233
        },
        "id": "ge3L4WtVqxLB",
        "outputId": "e351d206-5637-4e19-a73f-955622658bb3"
      },
      "source": [
        "df_comp['spx'] = df_comp['^GSPC'].Close[:]\n",
        "df_comp['dax'] = df_comp['^GDAXI'].Close[:]\n",
        "df_comp['ftse'] = df_comp['^FTSE'].Close[:]\n",
        "df_comp['nikkei'] = df_comp['^N225'].Close[:]\n",
        "\n",
        "del df_comp['^N225']\n",
        "del df_comp['^GSPC']\n",
        "del df_comp['^GDAXI']\n",
        "del df_comp['^FTSE']\n",
        "df_comp=df_comp.asfreq('b')\n",
        "df_comp=df_comp.fillna(method='ffill')\n",
        "df_comp.head()"
      ],
      "execution_count": 12,
      "outputs": [
        {
          "output_type": "execute_result",
          "data": {
            "text/html": [
              "<div>\n",
              "<style scoped>\n",
              "    .dataframe tbody tr th:only-of-type {\n",
              "        vertical-align: middle;\n",
              "    }\n",
              "\n",
              "    .dataframe tbody tr th {\n",
              "        vertical-align: top;\n",
              "    }\n",
              "\n",
              "    .dataframe thead tr th {\n",
              "        text-align: left;\n",
              "    }\n",
              "\n",
              "    .dataframe thead tr:last-of-type th {\n",
              "        text-align: right;\n",
              "    }\n",
              "</style>\n",
              "<table border=\"1\" class=\"dataframe\">\n",
              "  <thead>\n",
              "    <tr>\n",
              "      <th></th>\n",
              "      <th>spx</th>\n",
              "      <th>dax</th>\n",
              "      <th>ftse</th>\n",
              "      <th>nikkei</th>\n",
              "    </tr>\n",
              "    <tr>\n",
              "      <th></th>\n",
              "      <th></th>\n",
              "      <th></th>\n",
              "      <th></th>\n",
              "      <th></th>\n",
              "    </tr>\n",
              "    <tr>\n",
              "      <th>Date</th>\n",
              "      <th></th>\n",
              "      <th></th>\n",
              "      <th></th>\n",
              "      <th></th>\n",
              "    </tr>\n",
              "  </thead>\n",
              "  <tbody>\n",
              "    <tr>\n",
              "      <th>1994-01-07</th>\n",
              "      <td>469.899994</td>\n",
              "      <td>2224.949951</td>\n",
              "      <td>3446.000000</td>\n",
              "      <td>18124.009766</td>\n",
              "    </tr>\n",
              "    <tr>\n",
              "      <th>1994-01-10</th>\n",
              "      <td>475.269989</td>\n",
              "      <td>2225.000000</td>\n",
              "      <td>3440.600098</td>\n",
              "      <td>18443.439453</td>\n",
              "    </tr>\n",
              "    <tr>\n",
              "      <th>1994-01-11</th>\n",
              "      <td>474.130005</td>\n",
              "      <td>2228.100098</td>\n",
              "      <td>3413.800049</td>\n",
              "      <td>18485.250000</td>\n",
              "    </tr>\n",
              "    <tr>\n",
              "      <th>1994-01-12</th>\n",
              "      <td>474.170013</td>\n",
              "      <td>2182.060059</td>\n",
              "      <td>3372.000000</td>\n",
              "      <td>18793.880859</td>\n",
              "    </tr>\n",
              "    <tr>\n",
              "      <th>1994-01-13</th>\n",
              "      <td>472.470001</td>\n",
              "      <td>2142.370117</td>\n",
              "      <td>3360.000000</td>\n",
              "      <td>18577.259766</td>\n",
              "    </tr>\n",
              "  </tbody>\n",
              "</table>\n",
              "</div>"
            ],
            "text/plain": [
              "                   spx          dax         ftse        nikkei\n",
              "                                                              \n",
              "Date                                                          \n",
              "1994-01-07  469.899994  2224.949951  3446.000000  18124.009766\n",
              "1994-01-10  475.269989  2225.000000  3440.600098  18443.439453\n",
              "1994-01-11  474.130005  2228.100098  3413.800049  18485.250000\n",
              "1994-01-12  474.170013  2182.060059  3372.000000  18793.880859\n",
              "1994-01-13  472.470001  2142.370117  3360.000000  18577.259766"
            ]
          },
          "metadata": {
            "tags": []
          },
          "execution_count": 12
        }
      ]
    },
    {
      "cell_type": "markdown",
      "metadata": {
        "id": "MRM4CPtlrGM_"
      },
      "source": [
        "## Retornos"
      ]
    },
    {
      "cell_type": "code",
      "metadata": {
        "id": "6_hdCnmZrIEv"
      },
      "source": [
        "df_comp['ret_spx'] = df_comp.spx.pct_change(1)*100\n",
        "df_comp['ret_ftse'] = df_comp.ftse.pct_change(1)*100\n",
        "df_comp['ret_dax'] = df_comp.dax.pct_change(1)*100\n",
        "df_comp['ret_nikkei'] = df_comp.nikkei.pct_change(1)*100"
      ],
      "execution_count": 13,
      "outputs": []
    },
    {
      "cell_type": "markdown",
      "metadata": {
        "id": "qp1-AI0lr6y7"
      },
      "source": [
        "## Auto ARIMA"
      ]
    },
    {
      "cell_type": "code",
      "metadata": {
        "colab": {
          "base_uri": "https://localhost:8080/",
          "height": 417
        },
        "id": "0aUl-T8Ir9Po",
        "outputId": "6d15d4b2-7101-407e-89dc-9a2670176275"
      },
      "source": [
        "from pmdarima.arima import auto_arima\n",
        "\n",
        "model_auto = auto_arima(df_comp.ret_ftse[1:])\n",
        "model_auto.summary()"
      ],
      "execution_count": 15,
      "outputs": [
        {
          "output_type": "execute_result",
          "data": {
            "text/html": [
              "<table class=\"simpletable\">\n",
              "<caption>SARIMAX Results</caption>\n",
              "<tr>\n",
              "  <th>Dep. Variable:</th>           <td>y</td>        <th>  No. Observations:  </th>    <td>6834</td>   \n",
              "</tr>\n",
              "<tr>\n",
              "  <th>Model:</th>           <td>SARIMAX(2, 0, 3)</td> <th>  Log Likelihood     </th> <td>-10391.632</td>\n",
              "</tr>\n",
              "<tr>\n",
              "  <th>Date:</th>            <td>Tue, 24 Nov 2020</td> <th>  AIC                </th>  <td>20795.264</td>\n",
              "</tr>\n",
              "<tr>\n",
              "  <th>Time:</th>                <td>00:42:00</td>     <th>  BIC                </th>  <td>20836.242</td>\n",
              "</tr>\n",
              "<tr>\n",
              "  <th>Sample:</th>                  <td>0</td>        <th>  HQIC               </th>  <td>20809.401</td>\n",
              "</tr>\n",
              "<tr>\n",
              "  <th></th>                      <td> - 6834</td>     <th>                     </th>      <td> </td>    \n",
              "</tr>\n",
              "<tr>\n",
              "  <th>Covariance Type:</th>        <td>opg</td>       <th>                     </th>      <td> </td>    \n",
              "</tr>\n",
              "</table>\n",
              "<table class=\"simpletable\">\n",
              "<tr>\n",
              "     <td></td>       <th>coef</th>     <th>std err</th>      <th>z</th>      <th>P>|z|</th>  <th>[0.025</th>    <th>0.975]</th>  \n",
              "</tr>\n",
              "<tr>\n",
              "  <th>ar.L1</th>  <td>   -0.6587</td> <td>    0.067</td> <td>   -9.870</td> <td> 0.000</td> <td>   -0.790</td> <td>   -0.528</td>\n",
              "</tr>\n",
              "<tr>\n",
              "  <th>ar.L2</th>  <td>   -0.3775</td> <td>    0.072</td> <td>   -5.221</td> <td> 0.000</td> <td>   -0.519</td> <td>   -0.236</td>\n",
              "</tr>\n",
              "<tr>\n",
              "  <th>ma.L1</th>  <td>    0.6427</td> <td>    0.067</td> <td>    9.643</td> <td> 0.000</td> <td>    0.512</td> <td>    0.773</td>\n",
              "</tr>\n",
              "<tr>\n",
              "  <th>ma.L2</th>  <td>    0.3307</td> <td>    0.072</td> <td>    4.583</td> <td> 0.000</td> <td>    0.189</td> <td>    0.472</td>\n",
              "</tr>\n",
              "<tr>\n",
              "  <th>ma.L3</th>  <td>   -0.0864</td> <td>    0.007</td> <td>  -12.606</td> <td> 0.000</td> <td>   -0.100</td> <td>   -0.073</td>\n",
              "</tr>\n",
              "<tr>\n",
              "  <th>sigma2</th> <td>    1.2254</td> <td>    0.010</td> <td>  122.485</td> <td> 0.000</td> <td>    1.206</td> <td>    1.245</td>\n",
              "</tr>\n",
              "</table>\n",
              "<table class=\"simpletable\">\n",
              "<tr>\n",
              "  <th>Ljung-Box (Q):</th>          <td>84.75</td> <th>  Jarque-Bera (JB):  </th> <td>15611.79</td>\n",
              "</tr>\n",
              "<tr>\n",
              "  <th>Prob(Q):</th>                <td>0.00</td>  <th>  Prob(JB):          </th>   <td>0.00</td>  \n",
              "</tr>\n",
              "<tr>\n",
              "  <th>Heteroskedasticity (H):</th> <td>0.77</td>  <th>  Skew:              </th>   <td>-0.31</td> \n",
              "</tr>\n",
              "<tr>\n",
              "  <th>Prob(H) (two-sided):</th>    <td>0.00</td>  <th>  Kurtosis:          </th>   <td>10.38</td> \n",
              "</tr>\n",
              "</table><br/><br/>Warnings:<br/>[1] Covariance matrix calculated using the outer product of gradients (complex-step)."
            ],
            "text/plain": [
              "<class 'statsmodels.iolib.summary.Summary'>\n",
              "\"\"\"\n",
              "                               SARIMAX Results                                \n",
              "==============================================================================\n",
              "Dep. Variable:                      y   No. Observations:                 6834\n",
              "Model:               SARIMAX(2, 0, 3)   Log Likelihood              -10391.632\n",
              "Date:                Tue, 24 Nov 2020   AIC                          20795.264\n",
              "Time:                        00:42:00   BIC                          20836.242\n",
              "Sample:                             0   HQIC                         20809.401\n",
              "                               - 6834                                         \n",
              "Covariance Type:                  opg                                         \n",
              "==============================================================================\n",
              "                 coef    std err          z      P>|z|      [0.025      0.975]\n",
              "------------------------------------------------------------------------------\n",
              "ar.L1         -0.6587      0.067     -9.870      0.000      -0.790      -0.528\n",
              "ar.L2         -0.3775      0.072     -5.221      0.000      -0.519      -0.236\n",
              "ma.L1          0.6427      0.067      9.643      0.000       0.512       0.773\n",
              "ma.L2          0.3307      0.072      4.583      0.000       0.189       0.472\n",
              "ma.L3         -0.0864      0.007    -12.606      0.000      -0.100      -0.073\n",
              "sigma2         1.2254      0.010    122.485      0.000       1.206       1.245\n",
              "===================================================================================\n",
              "Ljung-Box (Q):                       84.75   Jarque-Bera (JB):             15611.79\n",
              "Prob(Q):                              0.00   Prob(JB):                         0.00\n",
              "Heteroskedasticity (H):               0.77   Skew:                            -0.31\n",
              "Prob(H) (two-sided):                  0.00   Kurtosis:                        10.38\n",
              "===================================================================================\n",
              "\n",
              "Warnings:\n",
              "[1] Covariance matrix calculated using the outer product of gradients (complex-step).\n",
              "\"\"\""
            ]
          },
          "metadata": {
            "tags": []
          },
          "execution_count": 15
        }
      ]
    },
    {
      "cell_type": "markdown",
      "metadata": {
        "id": "FG_GChoJtV3K"
      },
      "source": [
        "### Modelo personalizado"
      ]
    },
    {
      "cell_type": "code",
      "metadata": {
        "id": "2ZoDMrrKtX7B"
      },
      "source": [
        "model_auto2 = auto_arima(df_comp.ret_ftse[1:], exogenous = df_comp[['ret_spx', 'ret_dax', 'ret_nikkei']][1:], m = 5,\n",
        "                       max_order = None, max_p = 7, max_q = 7, max_d = 2, max_P = 4, max_Q = 4, max_D = 2,\n",
        "                       maxiter = 50, alpha = 0.05, n_jobs = -1, trend = 'ct', information_criterion = 'oob',\n",
        "                       out_of_sample_size = int(len(df_comp)*0.2))\n",
        "\n",
        "\n",
        "# exogenous -> outside factors (e.g other time series)\n",
        "# m -> seasonal cycle length\n",
        "# max_order -> maximum amount of variables to be used in the regression (p + q)\n",
        "# max_p -> maximum AR components\n",
        "# max_q -> maximum MA components\n",
        "# max_d -> maximum Integrations\n",
        "# maxiter -> maximum iterations we're giving the model to converge the coefficients (becomes harder as the order increases)\n",
        "# alpha -> level of significance, default is 5%, which we should be using most of the time\n",
        "# n_jobs -> how many models to fit at a time (-1 indicates \"as many as possible\")\n",
        "# trend -> \"ct\" usually\n",
        "# information_criterion -> 'aic', 'aicc', 'bic', 'hqic', 'oob' \n",
        "#        (Akaike Information Criterion, Corrected Akaike Information Criterion,\n",
        "#        Bayesian Information Criterion, Hannan-Quinn Information Criterion, or\n",
        "#        \"out of bag\"--for validation scoring--respectively)\n",
        "# out_of_smaple_size -> validates the model selection (pass the entire dataset, and set 20% to be the out_of_sample_size)"
      ],
      "execution_count": 16,
      "outputs": []
    },
    {
      "cell_type": "code",
      "metadata": {
        "colab": {
          "base_uri": "https://localhost:8080/",
          "height": 505
        },
        "id": "twSm2PO93Xa1",
        "outputId": "d5701cde-a387-4a09-dfbb-91ec55d68eb0"
      },
      "source": [
        "model_auto2.summary()"
      ],
      "execution_count": 17,
      "outputs": [
        {
          "output_type": "execute_result",
          "data": {
            "text/html": [
              "<table class=\"simpletable\">\n",
              "<caption>SARIMAX Results</caption>\n",
              "<tr>\n",
              "  <th>Dep. Variable:</th>                  <td>y</td>               <th>  No. Observations:  </th>   <td>6834</td>   \n",
              "</tr>\n",
              "<tr>\n",
              "  <th>Model:</th>           <td>SARIMAX(0, 0, 1)x(4, 0, [], 5)</td> <th>  Log Likelihood     </th> <td>-6809.273</td>\n",
              "</tr>\n",
              "<tr>\n",
              "  <th>Date:</th>                   <td>Tue, 24 Nov 2020</td>        <th>  AIC                </th> <td>13640.547</td>\n",
              "</tr>\n",
              "<tr>\n",
              "  <th>Time:</th>                       <td>01:28:09</td>            <th>  BIC                </th> <td>13715.673</td>\n",
              "</tr>\n",
              "<tr>\n",
              "  <th>Sample:</th>                         <td>0</td>               <th>  HQIC               </th> <td>13666.465</td>\n",
              "</tr>\n",
              "<tr>\n",
              "  <th></th>                             <td> - 6834</td>            <th>                     </th>     <td> </td>    \n",
              "</tr>\n",
              "<tr>\n",
              "  <th>Covariance Type:</th>               <td>opg</td>              <th>                     </th>     <td> </td>    \n",
              "</tr>\n",
              "</table>\n",
              "<table class=\"simpletable\">\n",
              "<tr>\n",
              "      <td></td>         <th>coef</th>     <th>std err</th>      <th>z</th>      <th>P>|z|</th>  <th>[0.025</th>    <th>0.975]</th>  \n",
              "</tr>\n",
              "<tr>\n",
              "  <th>intercept</th> <td>   -0.0008</td> <td>    0.015</td> <td>   -0.052</td> <td> 0.959</td> <td>   -0.031</td> <td>    0.029</td>\n",
              "</tr>\n",
              "<tr>\n",
              "  <th>drift</th>     <td>-2.401e-06</td> <td> 4.33e-06</td> <td>   -0.555</td> <td> 0.579</td> <td>-1.09e-05</td> <td> 6.08e-06</td>\n",
              "</tr>\n",
              "<tr>\n",
              "  <th>x1</th>        <td>    0.0872</td> <td>    0.006</td> <td>   15.219</td> <td> 0.000</td> <td>    0.076</td> <td>    0.098</td>\n",
              "</tr>\n",
              "<tr>\n",
              "  <th>x2</th>        <td>    0.5624</td> <td>    0.005</td> <td>  110.721</td> <td> 0.000</td> <td>    0.552</td> <td>    0.572</td>\n",
              "</tr>\n",
              "<tr>\n",
              "  <th>x3</th>        <td>    0.0720</td> <td>    0.004</td> <td>   16.452</td> <td> 0.000</td> <td>    0.063</td> <td>    0.081</td>\n",
              "</tr>\n",
              "<tr>\n",
              "  <th>ma.L1</th>     <td>   -0.1165</td> <td>    0.008</td> <td>  -15.498</td> <td> 0.000</td> <td>   -0.131</td> <td>   -0.102</td>\n",
              "</tr>\n",
              "<tr>\n",
              "  <th>ar.S.L5</th>   <td>   -0.0332</td> <td>    0.009</td> <td>   -3.776</td> <td> 0.000</td> <td>   -0.050</td> <td>   -0.016</td>\n",
              "</tr>\n",
              "<tr>\n",
              "  <th>ar.S.L10</th>  <td>   -0.0503</td> <td>    0.010</td> <td>   -5.225</td> <td> 0.000</td> <td>   -0.069</td> <td>   -0.031</td>\n",
              "</tr>\n",
              "<tr>\n",
              "  <th>ar.S.L15</th>  <td>   -0.0349</td> <td>    0.009</td> <td>   -3.844</td> <td> 0.000</td> <td>   -0.053</td> <td>   -0.017</td>\n",
              "</tr>\n",
              "<tr>\n",
              "  <th>ar.S.L20</th>  <td>   -0.0233</td> <td>    0.009</td> <td>   -2.521</td> <td> 0.012</td> <td>   -0.041</td> <td>   -0.005</td>\n",
              "</tr>\n",
              "<tr>\n",
              "  <th>sigma2</th>    <td>    0.4641</td> <td>    0.005</td> <td>   99.300</td> <td> 0.000</td> <td>    0.455</td> <td>    0.473</td>\n",
              "</tr>\n",
              "</table>\n",
              "<table class=\"simpletable\">\n",
              "<tr>\n",
              "  <th>Ljung-Box (Q):</th>          <td>76.91</td> <th>  Jarque-Bera (JB):  </th> <td>15206.90</td>\n",
              "</tr>\n",
              "<tr>\n",
              "  <th>Prob(Q):</th>                <td>0.00</td>  <th>  Prob(JB):          </th>   <td>0.00</td>  \n",
              "</tr>\n",
              "<tr>\n",
              "  <th>Heteroskedasticity (H):</th> <td>0.48</td>  <th>  Skew:              </th>   <td>0.22</td>  \n",
              "</tr>\n",
              "<tr>\n",
              "  <th>Prob(H) (two-sided):</th>    <td>0.00</td>  <th>  Kurtosis:          </th>   <td>10.29</td> \n",
              "</tr>\n",
              "</table><br/><br/>Warnings:<br/>[1] Covariance matrix calculated using the outer product of gradients (complex-step)."
            ],
            "text/plain": [
              "<class 'statsmodels.iolib.summary.Summary'>\n",
              "\"\"\"\n",
              "                                     SARIMAX Results                                      \n",
              "==========================================================================================\n",
              "Dep. Variable:                                  y   No. Observations:                 6834\n",
              "Model:             SARIMAX(0, 0, 1)x(4, 0, [], 5)   Log Likelihood               -6809.273\n",
              "Date:                            Tue, 24 Nov 2020   AIC                          13640.547\n",
              "Time:                                    01:28:09   BIC                          13715.673\n",
              "Sample:                                         0   HQIC                         13666.465\n",
              "                                           - 6834                                         \n",
              "Covariance Type:                              opg                                         \n",
              "==============================================================================\n",
              "                 coef    std err          z      P>|z|      [0.025      0.975]\n",
              "------------------------------------------------------------------------------\n",
              "intercept     -0.0008      0.015     -0.052      0.959      -0.031       0.029\n",
              "drift      -2.401e-06   4.33e-06     -0.555      0.579   -1.09e-05    6.08e-06\n",
              "x1             0.0872      0.006     15.219      0.000       0.076       0.098\n",
              "x2             0.5624      0.005    110.721      0.000       0.552       0.572\n",
              "x3             0.0720      0.004     16.452      0.000       0.063       0.081\n",
              "ma.L1         -0.1165      0.008    -15.498      0.000      -0.131      -0.102\n",
              "ar.S.L5       -0.0332      0.009     -3.776      0.000      -0.050      -0.016\n",
              "ar.S.L10      -0.0503      0.010     -5.225      0.000      -0.069      -0.031\n",
              "ar.S.L15      -0.0349      0.009     -3.844      0.000      -0.053      -0.017\n",
              "ar.S.L20      -0.0233      0.009     -2.521      0.012      -0.041      -0.005\n",
              "sigma2         0.4641      0.005     99.300      0.000       0.455       0.473\n",
              "===================================================================================\n",
              "Ljung-Box (Q):                       76.91   Jarque-Bera (JB):             15206.90\n",
              "Prob(Q):                              0.00   Prob(JB):                         0.00\n",
              "Heteroskedasticity (H):               0.48   Skew:                             0.22\n",
              "Prob(H) (two-sided):                  0.00   Kurtosis:                        10.29\n",
              "===================================================================================\n",
              "\n",
              "Warnings:\n",
              "[1] Covariance matrix calculated using the outer product of gradients (complex-step).\n",
              "\"\"\""
            ]
          },
          "metadata": {
            "tags": []
          },
          "execution_count": 17
        }
      ]
    }
  ]
}