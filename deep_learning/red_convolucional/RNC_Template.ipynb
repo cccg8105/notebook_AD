{
  "nbformat": 4,
  "nbformat_minor": 0,
  "metadata": {
    "colab": {
      "name": "RNC_Template.ipynb",
      "provenance": [],
      "toc_visible": true,
      "authorship_tag": "ABX9TyNwDrEHlrNOMsGv+N9y8old",
      "include_colab_link": true
    },
    "kernelspec": {
      "name": "python3",
      "display_name": "Python 3"
    }
  },
  "cells": [
    {
      "cell_type": "markdown",
      "metadata": {
        "id": "view-in-github",
        "colab_type": "text"
      },
      "source": [
        "<a href=\"https://colab.research.google.com/github/cccg8105/notebook_AD/blob/deep_learning/deep_learning/red_convolucional/RNC_Template.ipynb\" target=\"_parent\"><img src=\"https://colab.research.google.com/assets/colab-badge.svg\" alt=\"Open In Colab\"/></a>"
      ]
    },
    {
      "cell_type": "markdown",
      "metadata": {
        "id": "osX9q_by75QY"
      },
      "source": [
        "# Red Neuronal Convolucional"
      ]
    },
    {
      "cell_type": "markdown",
      "metadata": {
        "id": "m2-gPngU8Iz8"
      },
      "source": [
        "## Importacion de repositorio con imágenes"
      ]
    },
    {
      "cell_type": "code",
      "metadata": {
        "id": "I4yq0JDi7x76",
        "outputId": "4291a914-09ff-4911-cd88-2fa8faae67ec",
        "colab": {
          "base_uri": "https://localhost:8080/"
        }
      },
      "source": [
        "!git clone https://github.com/cccg8105/deeplearning-az.git\n",
        "\n",
        "from google.colab import drive\n",
        "drive.mount('/content/drive')"
      ],
      "execution_count": 1,
      "outputs": [
        {
          "output_type": "stream",
          "text": [
            "Cloning into 'deeplearning-az'...\n",
            "remote: Enumerating objects: 89, done.\u001b[K\n",
            "remote: Counting objects: 100% (89/89), done.\u001b[K\n",
            "remote: Compressing objects: 100% (65/65), done.\u001b[K\n",
            "remote: Total 10185 (delta 48), reused 54 (delta 24), pack-reused 10096\u001b[K\n",
            "Receiving objects: 100% (10185/10185), 237.00 MiB | 35.65 MiB/s, done.\n",
            "Resolving deltas: 100% (73/73), done.\n",
            "Checking out files: 100% (10113/10113), done.\n",
            "Mounted at /content/drive\n"
          ],
          "name": "stdout"
        }
      ]
    },
    {
      "cell_type": "markdown",
      "metadata": {
        "id": "HI1h2wOR889l"
      },
      "source": [
        "## Instalación de keras"
      ]
    },
    {
      "cell_type": "code",
      "metadata": {
        "id": "JkO75F2I8_xb",
        "outputId": "06e4277d-f3a3-4f3f-a9c4-946fd6f2a72f",
        "colab": {
          "base_uri": "https://localhost:8080/"
        }
      },
      "source": [
        "pip install --upgrade keras"
      ],
      "execution_count": 2,
      "outputs": [
        {
          "output_type": "stream",
          "text": [
            "Requirement already up-to-date: keras in /usr/local/lib/python3.6/dist-packages (2.4.3)\n",
            "Requirement already satisfied, skipping upgrade: pyyaml in /usr/local/lib/python3.6/dist-packages (from keras) (3.13)\n",
            "Requirement already satisfied, skipping upgrade: h5py in /usr/local/lib/python3.6/dist-packages (from keras) (2.10.0)\n",
            "Requirement already satisfied, skipping upgrade: numpy>=1.9.1 in /usr/local/lib/python3.6/dist-packages (from keras) (1.18.5)\n",
            "Requirement already satisfied, skipping upgrade: scipy>=0.14 in /usr/local/lib/python3.6/dist-packages (from keras) (1.4.1)\n",
            "Requirement already satisfied, skipping upgrade: six in /usr/local/lib/python3.6/dist-packages (from h5py->keras) (1.15.0)\n"
          ],
          "name": "stdout"
        }
      ]
    },
    {
      "cell_type": "markdown",
      "metadata": {
        "id": "46y1_tPH9IH5"
      },
      "source": [
        "## Creación del modelo"
      ]
    },
    {
      "cell_type": "code",
      "metadata": {
        "id": "x94vcKG59NDB"
      },
      "source": [
        "from keras.models import Sequential\n",
        "from keras.layers import Conv2D\n",
        "from keras.layers import MaxPooling2D\n",
        "from keras.layers import Flatten\n",
        "from keras.layers import Dense\n",
        "\n",
        "classifier = Sequential()\n",
        "\n",
        "tamanioFiltro = 32\n",
        "tamanioKernel = (3, 3)\n",
        "funcionActivacion = \"relu\"\n",
        "ventanaEntrada = (64, 64, 3)\n",
        "\n",
        "classifier.add(Conv2D(filters = tamanioFiltro, kernel_size = tamanioKernel, \n",
        "                      input_shape = ventanaEntrada, activation = funcionActivacion))\n",
        "# Max Pooling\n",
        "# Obtiene el valor maximo de la ventana\n",
        "tamanioPool = (2, 2)\n",
        "classifier.add(MaxPooling2D(pool_size = tamanioPool))\n",
        "\n",
        "# segunda capa de convolución y max pooling\n",
        "funcionActivacion2 = \"relu\"\n",
        "classifier.add(Conv2D(filters = tamanioFiltro, kernel_size = tamanioKernel, activation = funcionActivacion2))\n",
        "classifier.add(MaxPooling2D(pool_size = tamanioPool))\n",
        "\n",
        "# Flattening\n",
        "classifier.add(Flatten())\n",
        "\n",
        "# Full Connection\n",
        "nodosEntrada = 128\n",
        "nodosSalida = 1\n",
        "funcionActivacion3 = \"relu\"\n",
        "funcionActivacionFinal = \"sigmoid\"\n",
        "classifier.add(Dense(units = nodosEntrada, activation = funcionActivacion3))\n",
        "classifier.add(Dense(units = nodosSalida, activation = funcionActivacionFinal))"
      ],
      "execution_count": 3,
      "outputs": []
    },
    {
      "cell_type": "markdown",
      "metadata": {
        "id": "9Ko6ur9V-JQk"
      },
      "source": [
        "## Compilación "
      ]
    },
    {
      "cell_type": "code",
      "metadata": {
        "id": "EngTml19-LnD"
      },
      "source": [
        "optimizador = \"adam\"\n",
        "funcionPerdida = \"binary_crossentropy\"\n",
        "metricas = [\"accuracy\"]\n",
        "classifier.compile(optimizer = optimizador, loss = funcionPerdida, metrics = metricas)"
      ],
      "execution_count": 4,
      "outputs": []
    },
    {
      "cell_type": "markdown",
      "metadata": {
        "id": "rrEb340I-Rua"
      },
      "source": [
        "## Entrenamiento "
      ]
    },
    {
      "cell_type": "code",
      "metadata": {
        "id": "A7UuSFSZ-T2B",
        "outputId": "800139bc-92db-4e25-87c3-e37b8091fc42",
        "colab": {
          "base_uri": "https://localhost:8080/"
        }
      },
      "source": [
        "from keras.preprocessing.image import ImageDataGenerator\n",
        "\n",
        "# modifica las imágenes para el entrenamiento\n",
        "train_datagen = ImageDataGenerator(\n",
        "        rescale=1./255, # transforma los pixeles\n",
        "        shear_range=0.2, # mueve los pixeles\n",
        "        zoom_range=0.2, # modifica el zoom\n",
        "        horizontal_flip=True, \n",
        "        ) # rota la imagen\n",
        "\n",
        "# modifica las imágenes para las pruebas\n",
        "test_datagen = ImageDataGenerator(rescale=1./255)\n",
        "\n",
        "# se configuran los datos de entrenamiento \n",
        "tamanioVentanaEntrada = (64, 64) # depende de la variable ventanaEntrada\n",
        "tamanioLote = 32 # cantidad de imágenes que se van a procesar\n",
        "modoClase = 'binary' # Solo se cuentan con dos categorias\n",
        "\n",
        "training_dataset = train_datagen.flow_from_directory('/content/deeplearning-az/datasets/Part 2 - Convolutional Neural Networks (CNN)/dataset/training_set',\n",
        "                                                    target_size=tamanioVentanaEntrada,\n",
        "                                                    batch_size=tamanioLote,\n",
        "                                                    class_mode=modoClase)\n",
        "\n",
        "testing_dataset = test_datagen.flow_from_directory('/content/deeplearning-az/datasets/Part 2 - Convolutional Neural Networks (CNN)/dataset/test_set',\n",
        "                                                target_size=tamanioVentanaEntrada,\n",
        "                                                batch_size=tamanioLote,\n",
        "                                                class_mode=modoClase)\n",
        "# Entrenamiento \n",
        "pasos_x_epoca = 250 # muestras a tomar por época\n",
        "epocas = 25 # cantidad de épocas\n",
        "pasos_validacion = 2000 # cantidad de imágenes de prueba \n",
        "classifier.fit_generator(training_dataset,\n",
        "                        steps_per_epoch=pasos_x_epoca,\n",
        "                        epochs=epocas,\n",
        "                        validation_data=testing_dataset,\n",
        "                        validation_steps=pasos_validacion)"
      ],
      "execution_count": 6,
      "outputs": [
        {
          "output_type": "stream",
          "text": [
            "Found 8000 images belonging to 2 classes.\n",
            "Found 2000 images belonging to 2 classes.\n",
            "Epoch 1/25\n",
            "250/250 [==============================] - ETA: 0s - loss: 0.6138 - accuracy: 0.6612WARNING:tensorflow:Your input ran out of data; interrupting training. Make sure that your dataset or generator can generate at least `steps_per_epoch * epochs` batches (in this case, 2000 batches). You may need to use the repeat() function when building your dataset.\n",
            "250/250 [==============================] - 69s 276ms/step - loss: 0.6138 - accuracy: 0.6612 - val_loss: 0.5770 - val_accuracy: 0.7035\n",
            "Epoch 2/25\n",
            "250/250 [==============================] - 57s 230ms/step - loss: 0.5666 - accuracy: 0.7034\n",
            "Epoch 3/25\n",
            "250/250 [==============================] - 58s 231ms/step - loss: 0.5369 - accuracy: 0.7315\n",
            "Epoch 4/25\n",
            "250/250 [==============================] - 57s 229ms/step - loss: 0.5131 - accuracy: 0.7454\n",
            "Epoch 5/25\n",
            "250/250 [==============================] - 57s 230ms/step - loss: 0.4862 - accuracy: 0.7638\n",
            "Epoch 6/25\n",
            "250/250 [==============================] - 58s 231ms/step - loss: 0.4690 - accuracy: 0.7759\n",
            "Epoch 7/25\n",
            "250/250 [==============================] - 58s 231ms/step - loss: 0.4518 - accuracy: 0.7878\n",
            "Epoch 8/25\n",
            "250/250 [==============================] - 58s 231ms/step - loss: 0.4453 - accuracy: 0.7897\n",
            "Epoch 9/25\n",
            "250/250 [==============================] - 58s 231ms/step - loss: 0.4214 - accuracy: 0.8035\n",
            "Epoch 10/25\n",
            "250/250 [==============================] - 57s 229ms/step - loss: 0.4013 - accuracy: 0.8164\n",
            "Epoch 11/25\n",
            "250/250 [==============================] - 61s 246ms/step - loss: 0.3946 - accuracy: 0.8210\n",
            "Epoch 12/25\n",
            "250/250 [==============================] - 58s 231ms/step - loss: 0.3800 - accuracy: 0.8296\n",
            "Epoch 13/25\n",
            "250/250 [==============================] - 58s 233ms/step - loss: 0.3627 - accuracy: 0.8385\n",
            "Epoch 14/25\n",
            "250/250 [==============================] - 58s 230ms/step - loss: 0.3552 - accuracy: 0.8381\n",
            "Epoch 15/25\n",
            "250/250 [==============================] - 58s 231ms/step - loss: 0.3428 - accuracy: 0.8461\n",
            "Epoch 16/25\n",
            "250/250 [==============================] - 58s 231ms/step - loss: 0.3237 - accuracy: 0.8608\n",
            "Epoch 17/25\n",
            "250/250 [==============================] - 58s 231ms/step - loss: 0.3123 - accuracy: 0.8656\n",
            "Epoch 18/25\n",
            "250/250 [==============================] - 57s 229ms/step - loss: 0.3074 - accuracy: 0.8685\n",
            "Epoch 19/25\n",
            "250/250 [==============================] - 57s 229ms/step - loss: 0.2879 - accuracy: 0.8758\n",
            "Epoch 20/25\n",
            "250/250 [==============================] - 57s 230ms/step - loss: 0.2692 - accuracy: 0.8849\n",
            "Epoch 21/25\n",
            "250/250 [==============================] - 62s 246ms/step - loss: 0.2622 - accuracy: 0.8931\n",
            "Epoch 22/25\n",
            "250/250 [==============================] - 57s 230ms/step - loss: 0.2539 - accuracy: 0.8916\n",
            "Epoch 23/25\n",
            "250/250 [==============================] - 57s 229ms/step - loss: 0.2485 - accuracy: 0.8949\n",
            "Epoch 24/25\n",
            "250/250 [==============================] - 57s 230ms/step - loss: 0.2446 - accuracy: 0.8991\n",
            "Epoch 25/25\n",
            "250/250 [==============================] - 57s 229ms/step - loss: 0.2170 - accuracy: 0.9110\n"
          ],
          "name": "stdout"
        },
        {
          "output_type": "execute_result",
          "data": {
            "text/plain": [
              "<tensorflow.python.keras.callbacks.History at 0x7f0e13ee05f8>"
            ]
          },
          "metadata": {
            "tags": []
          },
          "execution_count": 6
        }
      ]
    },
    {
      "cell_type": "markdown",
      "metadata": {
        "id": "iZIFW593II__"
      },
      "source": [
        "## Detectar objetos en imágenes"
      ]
    },
    {
      "cell_type": "code",
      "metadata": {
        "id": "B3PEemkYAMqk",
        "outputId": "4dd7db4d-774e-440b-fd7a-aa46ba1e9304",
        "colab": {
          "base_uri": "https://localhost:8080/"
        }
      },
      "source": [
        "import numpy as np\n",
        "from keras.preprocessing import image\n",
        "test_image = image.load_img('/content/deeplearning-az/datasets/Part 2 - Convolutional Neural Networks (CNN)/dataset/single_prediction/cat_or_dog_1.jpg', target_size = (64, 64))\n",
        "test_image = image.img_to_array(test_image)\n",
        "test_image = np.expand_dims(test_image, axis = 0)\n",
        "result = classifier.predict(test_image)\n",
        "training_dataset.class_indices\n",
        "if result[0][0] == 1:\n",
        "    prediction = 'dog'\n",
        "else:\n",
        "    prediction = 'cat'\n",
        "\n",
        "print(prediction)"
      ],
      "execution_count": 7,
      "outputs": [
        {
          "output_type": "stream",
          "text": [
            "dog\n"
          ],
          "name": "stdout"
        }
      ]
    }
  ]
}