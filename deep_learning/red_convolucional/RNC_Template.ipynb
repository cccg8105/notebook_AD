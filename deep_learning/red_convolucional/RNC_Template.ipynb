{
  "nbformat": 4,
  "nbformat_minor": 0,
  "metadata": {
    "colab": {
      "name": "RNC_Template.ipynb",
      "provenance": [],
      "toc_visible": true,
      "authorship_tag": "ABX9TyPhPFzJPV8/icpQmgdaFASY",
      "include_colab_link": true
    },
    "kernelspec": {
      "name": "python3",
      "display_name": "Python 3"
    }
  },
  "cells": [
    {
      "cell_type": "markdown",
      "metadata": {
        "id": "view-in-github",
        "colab_type": "text"
      },
      "source": [
        "<a href=\"https://colab.research.google.com/github/cccg8105/notebook_AD/blob/deep_learning/deep_learning/red_convolucional/RNC_Template.ipynb\" target=\"_parent\"><img src=\"https://colab.research.google.com/assets/colab-badge.svg\" alt=\"Open In Colab\"/></a>"
      ]
    },
    {
      "cell_type": "markdown",
      "metadata": {
        "id": "osX9q_by75QY"
      },
      "source": [
        "# Red Neuronal Convolucional"
      ]
    },
    {
      "cell_type": "markdown",
      "metadata": {
        "id": "m2-gPngU8Iz8"
      },
      "source": [
        "## Importacion de repositorio con imágenes"
      ]
    },
    {
      "cell_type": "code",
      "metadata": {
        "id": "I4yq0JDi7x76",
        "outputId": "5952767b-fe0a-49a7-971f-e24a92bb4012",
        "colab": {
          "base_uri": "https://localhost:8080/"
        }
      },
      "source": [
        "!git clone https://github.com/cccg8105/deeplearning-az.git\n",
        "\n",
        "from google.colab import drive\n",
        "drive.mount('/content/drive')"
      ],
      "execution_count": 2,
      "outputs": [
        {
          "output_type": "stream",
          "text": [
            "fatal: destination path 'deeplearning-az' already exists and is not an empty directory.\n",
            "Mounted at /content/drive\n"
          ],
          "name": "stdout"
        }
      ]
    },
    {
      "cell_type": "markdown",
      "metadata": {
        "id": "HI1h2wOR889l"
      },
      "source": [
        "## Instalación de keras"
      ]
    },
    {
      "cell_type": "code",
      "metadata": {
        "id": "JkO75F2I8_xb",
        "outputId": "222acab3-81db-4181-c888-aa0cb7b4ae5f",
        "colab": {
          "base_uri": "https://localhost:8080/"
        }
      },
      "source": [
        "pip install --upgrade keras"
      ],
      "execution_count": 3,
      "outputs": [
        {
          "output_type": "stream",
          "text": [
            "Requirement already up-to-date: keras in /usr/local/lib/python3.6/dist-packages (2.4.3)\n",
            "Requirement already satisfied, skipping upgrade: scipy>=0.14 in /usr/local/lib/python3.6/dist-packages (from keras) (1.4.1)\n",
            "Requirement already satisfied, skipping upgrade: h5py in /usr/local/lib/python3.6/dist-packages (from keras) (2.10.0)\n",
            "Requirement already satisfied, skipping upgrade: numpy>=1.9.1 in /usr/local/lib/python3.6/dist-packages (from keras) (1.18.5)\n",
            "Requirement already satisfied, skipping upgrade: pyyaml in /usr/local/lib/python3.6/dist-packages (from keras) (3.13)\n",
            "Requirement already satisfied, skipping upgrade: six in /usr/local/lib/python3.6/dist-packages (from h5py->keras) (1.15.0)\n"
          ],
          "name": "stdout"
        }
      ]
    },
    {
      "cell_type": "markdown",
      "metadata": {
        "id": "46y1_tPH9IH5"
      },
      "source": [
        "## Creación del modelo"
      ]
    },
    {
      "cell_type": "code",
      "metadata": {
        "id": "x94vcKG59NDB"
      },
      "source": [
        "from keras.models import Sequential\n",
        "from keras.layers import Conv2D\n",
        "from keras.layers import MaxPooling2D\n",
        "from keras.layers import Flatten\n",
        "from keras.layers import Dense\n",
        "\n",
        "classifier = Sequential()\n",
        "\n",
        "tamanioFiltro = 32\n",
        "tamanioKernel = (3, 3)\n",
        "funcionActivacion = \"relu\"\n",
        "ventanaEntrada = (64, 64, 3)\n",
        "\n",
        "classifier.add(Conv2D(filters = tamanioFiltro, kernel_size = tamanioKernel, \n",
        "                      input_shape = ventanaEntrada, activation = funcionActivacion))\n",
        "# Max Pooling\n",
        "# Obtiene el valor maximo de la ventana\n",
        "tamanioPool = (2, 2)\n",
        "classifier.add(MaxPooling2D(pool_size = tamanioPool))\n",
        "\n",
        "# segunda capa de convolución y max pooling\n",
        "funcionActivacion2 = \"relu\"\n",
        "classifier.add(Conv2D(filters = tamanioFiltro, kernel_size = tamanioKernel, activation = funcionActivacion2))\n",
        "classifier.add(MaxPooling2D(pool_size = tamanioPool))\n",
        "\n",
        "# Flattening\n",
        "classifier.add(Flatten())\n",
        "\n",
        "# Full Connection\n",
        "nodosEntrada = 128\n",
        "nodosSalida = 1\n",
        "funcionActivacion3 = \"relu\"\n",
        "funcionActivacionFinal = \"sigmoid\"\n",
        "classifier.add(Dense(units = nodosEntrada, activation = funcionActivacion3))\n",
        "classifier.add(Dense(units = nodosSalida, activation = funcionActivacionFinal))"
      ],
      "execution_count": 4,
      "outputs": []
    },
    {
      "cell_type": "markdown",
      "metadata": {
        "id": "9Ko6ur9V-JQk"
      },
      "source": [
        "## Compilación "
      ]
    },
    {
      "cell_type": "code",
      "metadata": {
        "id": "EngTml19-LnD"
      },
      "source": [
        "optimizador = \"adam\"\n",
        "funcionPerdida = \"binary_crossentropy\"\n",
        "metricas = [\"accuracy\"]\n",
        "classifier.compile(optimizer = optimizador, loss = funcionPerdida, metrics = metricas)"
      ],
      "execution_count": 5,
      "outputs": []
    },
    {
      "cell_type": "markdown",
      "metadata": {
        "id": "rrEb340I-Rua"
      },
      "source": [
        "## Entrenamiento "
      ]
    },
    {
      "cell_type": "code",
      "metadata": {
        "id": "A7UuSFSZ-T2B",
        "outputId": "d336c099-2389-47ca-9e61-10abdd081bab",
        "colab": {
          "base_uri": "https://localhost:8080/"
        }
      },
      "source": [
        "from keras.preprocessing.image import ImageDataGenerator\n",
        "\n",
        "train_datagen = ImageDataGenerator(\n",
        "        rescale=1./255,\n",
        "        shear_range=0.2,\n",
        "        zoom_range=0.2,\n",
        "        horizontal_flip=True)\n",
        "\n",
        "test_datagen = ImageDataGenerator(rescale=1./255)\n",
        "\n",
        "training_dataset = train_datagen.flow_from_directory('/content/deeplearning-az/datasets/Part 2 - Convolutional Neural Networks (CNN)/dataset/training_set',\n",
        "                                                    target_size=(64, 64),\n",
        "                                                    batch_size=32,\n",
        "                                                    class_mode='binary')\n",
        "\n",
        "testing_dataset = test_datagen.flow_from_directory('/content/deeplearning-az/datasets/Part 2 - Convolutional Neural Networks (CNN)/dataset/test_set',\n",
        "                                                target_size=(64, 64),\n",
        "                                                batch_size=32,\n",
        "                                                class_mode='binary')\n",
        "\n",
        "classifier.fit_generator(training_dataset,\n",
        "                        steps_per_epoch=240,\n",
        "                        epochs=25,\n",
        "                        validation_data=testing_dataset,\n",
        "                        validation_steps=2000)"
      ],
      "execution_count": 7,
      "outputs": [
        {
          "output_type": "stream",
          "text": [
            "Found 8000 images belonging to 2 classes.\n",
            "Found 2000 images belonging to 2 classes.\n",
            "Epoch 1/25\n",
            "240/240 [==============================] - ETA: 0s - loss: 0.6060 - accuracy: 0.6747WARNING:tensorflow:Your input ran out of data; interrupting training. Make sure that your dataset or generator can generate at least `steps_per_epoch * epochs` batches (in this case, 2000 batches). You may need to use the repeat() function when building your dataset.\n",
            "240/240 [==============================] - 65s 272ms/step - loss: 0.6060 - accuracy: 0.6747 - val_loss: 0.5964 - val_accuracy: 0.6865\n",
            "Epoch 2/25\n",
            "240/240 [==============================] - 58s 240ms/step - loss: 0.5731 - accuracy: 0.7004\n",
            "Epoch 3/25\n",
            "240/240 [==============================] - 61s 256ms/step - loss: 0.5302 - accuracy: 0.7346\n",
            "Epoch 4/25\n",
            "240/240 [==============================] - 58s 241ms/step - loss: 0.5052 - accuracy: 0.7454\n",
            "Epoch 5/25\n",
            "240/240 [==============================] - 58s 240ms/step - loss: 0.4852 - accuracy: 0.7691\n",
            "Epoch 6/25\n",
            "240/240 [==============================] - 60s 251ms/step - loss: 0.4660 - accuracy: 0.7772\n",
            "Epoch 7/25\n",
            "240/240 [==============================] - 57s 239ms/step - loss: 0.4470 - accuracy: 0.7865\n",
            "Epoch 8/25\n",
            "240/240 [==============================] - 58s 241ms/step - loss: 0.4277 - accuracy: 0.7957\n",
            "Epoch 9/25\n",
            "240/240 [==============================] - 58s 241ms/step - loss: 0.4155 - accuracy: 0.8060\n",
            "Epoch 10/25\n",
            "240/240 [==============================] - 58s 240ms/step - loss: 0.4040 - accuracy: 0.8146\n",
            "Epoch 11/25\n",
            "240/240 [==============================] - 58s 242ms/step - loss: 0.3894 - accuracy: 0.8207\n",
            "Epoch 12/25\n",
            "240/240 [==============================] - 58s 242ms/step - loss: 0.3727 - accuracy: 0.8315\n",
            "Epoch 13/25\n",
            "240/240 [==============================] - 58s 241ms/step - loss: 0.3516 - accuracy: 0.8397\n",
            "Epoch 14/25\n",
            "240/240 [==============================] - 62s 257ms/step - loss: 0.3437 - accuracy: 0.8460\n",
            "Epoch 15/25\n",
            "240/240 [==============================] - 58s 240ms/step - loss: 0.3301 - accuracy: 0.8570\n",
            "Epoch 16/25\n",
            "240/240 [==============================] - 58s 241ms/step - loss: 0.3156 - accuracy: 0.8628\n",
            "Epoch 17/25\n",
            "240/240 [==============================] - 58s 242ms/step - loss: 0.3046 - accuracy: 0.8678\n",
            "Epoch 18/25\n",
            "240/240 [==============================] - 58s 240ms/step - loss: 0.2909 - accuracy: 0.8745\n",
            "Epoch 19/25\n",
            "240/240 [==============================] - 58s 241ms/step - loss: 0.2693 - accuracy: 0.8875\n",
            "Epoch 20/25\n",
            "240/240 [==============================] - 58s 241ms/step - loss: 0.2543 - accuracy: 0.8931\n",
            "Epoch 21/25\n",
            "240/240 [==============================] - 58s 243ms/step - loss: 0.2449 - accuracy: 0.8973\n",
            "Epoch 22/25\n",
            "240/240 [==============================] - 58s 241ms/step - loss: 0.2321 - accuracy: 0.9052\n",
            "Epoch 23/25\n",
            "240/240 [==============================] - 59s 246ms/step - loss: 0.2195 - accuracy: 0.9120\n",
            "Epoch 24/25\n",
            "240/240 [==============================] - 62s 257ms/step - loss: 0.2151 - accuracy: 0.9122\n",
            "Epoch 25/25\n",
            "240/240 [==============================] - 58s 240ms/step - loss: 0.2042 - accuracy: 0.9165\n"
          ],
          "name": "stdout"
        },
        {
          "output_type": "execute_result",
          "data": {
            "text/plain": [
              "<tensorflow.python.keras.callbacks.History at 0x7f70f0ab1550>"
            ]
          },
          "metadata": {
            "tags": []
          },
          "execution_count": 7
        }
      ]
    },
    {
      "cell_type": "markdown",
      "metadata": {
        "id": "iZIFW593II__"
      },
      "source": [
        "## Detectar objetos en imágenes"
      ]
    },
    {
      "cell_type": "code",
      "metadata": {
        "id": "B3PEemkYAMqk",
        "outputId": "b3945505-4c03-47ec-e0d4-e2defdfe6c59",
        "colab": {
          "base_uri": "https://localhost:8080/"
        }
      },
      "source": [
        "import numpy as np\n",
        "from keras.preprocessing import image\n",
        "test_image = image.load_img('/content/deeplearning-az/datasets/Part 2 - Convolutional Neural Networks (CNN)/dataset/single_prediction/cat_or_dog_1.jpg', target_size = (64, 64))\n",
        "test_image = image.img_to_array(test_image)\n",
        "test_image = np.expand_dims(test_image, axis = 0)\n",
        "result = classifier.predict(test_image)\n",
        "training_dataset.class_indices\n",
        "if result[0][0] == 1:\n",
        "    prediction = 'dog'\n",
        "else:\n",
        "    prediction = 'cat'\n",
        "\n",
        "print(prediction)"
      ],
      "execution_count": 9,
      "outputs": [
        {
          "output_type": "stream",
          "text": [
            "dog\n"
          ],
          "name": "stdout"
        }
      ]
    }
  ]
}