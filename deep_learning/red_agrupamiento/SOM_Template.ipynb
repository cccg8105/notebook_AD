{
  "nbformat": 4,
  "nbformat_minor": 0,
  "metadata": {
    "colab": {
      "name": "SOM_Template.ipynb",
      "provenance": [],
      "history_visible": true,
      "authorship_tag": "ABX9TyO+AAgUpQq//MYhSe2wyJdC",
      "include_colab_link": true
    },
    "kernelspec": {
      "name": "python3",
      "display_name": "Python 3"
    }
  },
  "cells": [
    {
      "cell_type": "markdown",
      "metadata": {
        "id": "view-in-github",
        "colab_type": "text"
      },
      "source": [
        "<a href=\"https://colab.research.google.com/github/cccg8105/notebook_AD/blob/deep_learning/deep_learning/red_agrupamiento/SOM_Template.ipynb\" target=\"_parent\"><img src=\"https://colab.research.google.com/assets/colab-badge.svg\" alt=\"Open In Colab\"/></a>"
      ]
    },
    {
      "cell_type": "markdown",
      "metadata": {
        "id": "fhUY3mOeRVma"
      },
      "source": [
        "# Mapas auto organizados"
      ]
    },
    {
      "cell_type": "markdown",
      "metadata": {
        "id": "krusE8TkYqtf"
      },
      "source": [
        "## Carga de repositorio"
      ]
    },
    {
      "cell_type": "code",
      "metadata": {
        "id": "IgpMU8e7YuVi",
        "outputId": "ddeaf5c4-2e04-4259-d881-219cefd1fbcd",
        "colab": {
          "base_uri": "https://localhost:8080/"
        }
      },
      "source": [
        "!git clone https://github.com/cccg8105/deeplearning-az.git\n",
        "\n",
        "from google.colab import drive\n",
        "drive.mount('/content/drive')"
      ],
      "execution_count": 1,
      "outputs": [
        {
          "output_type": "stream",
          "text": [
            "Cloning into 'deeplearning-az'...\n",
            "remote: Enumerating objects: 89, done.\u001b[K\n",
            "remote: Counting objects: 100% (89/89), done.\u001b[K\n",
            "remote: Compressing objects: 100% (65/65), done.\u001b[K\n",
            "remote: Total 10185 (delta 48), reused 54 (delta 24), pack-reused 10096\u001b[K\n",
            "Receiving objects: 100% (10185/10185), 237.00 MiB | 19.93 MiB/s, done.\n",
            "Resolving deltas: 100% (73/73), done.\n",
            "Checking out files: 100% (10113/10113), done.\n",
            "Mounted at /content/drive\n"
          ],
          "name": "stdout"
        }
      ]
    },
    {
      "cell_type": "markdown",
      "metadata": {
        "id": "StwXVTcCS9xe"
      },
      "source": [
        "## Instalación de dependencias"
      ]
    },
    {
      "cell_type": "code",
      "metadata": {
        "id": "yb4daUO3RDo6",
        "outputId": "b11c345d-fc7c-474d-e181-e3591a767bf8",
        "colab": {
          "base_uri": "https://localhost:8080/"
        }
      },
      "source": [
        "!pip install sklearn\n",
        "!pip install --upgrade --no-deps git+git://github.com/Theano/Theano.git\n",
        "!pip install keras\n",
        "!pip install tensorflow"
      ],
      "execution_count": 2,
      "outputs": [
        {
          "output_type": "stream",
          "text": [
            "Requirement already satisfied: sklearn in /usr/local/lib/python3.6/dist-packages (0.0)\n",
            "Requirement already satisfied: scikit-learn in /usr/local/lib/python3.6/dist-packages (from sklearn) (0.22.2.post1)\n",
            "Requirement already satisfied: scipy>=0.17.0 in /usr/local/lib/python3.6/dist-packages (from scikit-learn->sklearn) (1.4.1)\n",
            "Requirement already satisfied: joblib>=0.11 in /usr/local/lib/python3.6/dist-packages (from scikit-learn->sklearn) (0.17.0)\n",
            "Requirement already satisfied: numpy>=1.11.0 in /usr/local/lib/python3.6/dist-packages (from scikit-learn->sklearn) (1.18.5)\n",
            "Collecting git+git://github.com/Theano/Theano.git\n",
            "  Cloning git://github.com/Theano/Theano.git to /tmp/pip-req-build-bk3pzbf8\n",
            "  Running command git clone -q git://github.com/Theano/Theano.git /tmp/pip-req-build-bk3pzbf8\n",
            "Building wheels for collected packages: Theano\n",
            "  Building wheel for Theano (setup.py) ... \u001b[?25l\u001b[?25hdone\n",
            "  Created wheel for Theano: filename=Theano-1.0.5+1.geb6a4125c-cp36-none-any.whl size=2668281 sha256=a9823266a7eb3d43c9d48344065d061ccdec656e1896e52d0734d8f59bc70129\n",
            "  Stored in directory: /tmp/pip-ephem-wheel-cache-w19_ohb2/wheels/ae/32/7c/62beb8371953eb20c271b3bac7d0e56e1a2020d46994346b52\n",
            "Successfully built Theano\n",
            "Installing collected packages: Theano\n",
            "  Found existing installation: Theano 1.0.5\n",
            "    Uninstalling Theano-1.0.5:\n",
            "      Successfully uninstalled Theano-1.0.5\n",
            "Successfully installed Theano-1.0.5+1.geb6a4125c\n",
            "Requirement already satisfied: keras in /usr/local/lib/python3.6/dist-packages (2.4.3)\n",
            "Requirement already satisfied: numpy>=1.9.1 in /usr/local/lib/python3.6/dist-packages (from keras) (1.18.5)\n",
            "Requirement already satisfied: scipy>=0.14 in /usr/local/lib/python3.6/dist-packages (from keras) (1.4.1)\n",
            "Requirement already satisfied: h5py in /usr/local/lib/python3.6/dist-packages (from keras) (2.10.0)\n",
            "Requirement already satisfied: pyyaml in /usr/local/lib/python3.6/dist-packages (from keras) (3.13)\n",
            "Requirement already satisfied: six in /usr/local/lib/python3.6/dist-packages (from h5py->keras) (1.15.0)\n",
            "Requirement already satisfied: tensorflow in /usr/local/lib/python3.6/dist-packages (2.3.0)\n",
            "Requirement already satisfied: wrapt>=1.11.1 in /usr/local/lib/python3.6/dist-packages (from tensorflow) (1.12.1)\n",
            "Requirement already satisfied: gast==0.3.3 in /usr/local/lib/python3.6/dist-packages (from tensorflow) (0.3.3)\n",
            "Requirement already satisfied: numpy<1.19.0,>=1.16.0 in /usr/local/lib/python3.6/dist-packages (from tensorflow) (1.18.5)\n",
            "Requirement already satisfied: absl-py>=0.7.0 in /usr/local/lib/python3.6/dist-packages (from tensorflow) (0.10.0)\n",
            "Requirement already satisfied: keras-preprocessing<1.2,>=1.1.1 in /usr/local/lib/python3.6/dist-packages (from tensorflow) (1.1.2)\n",
            "Requirement already satisfied: termcolor>=1.1.0 in /usr/local/lib/python3.6/dist-packages (from tensorflow) (1.1.0)\n",
            "Requirement already satisfied: protobuf>=3.9.2 in /usr/local/lib/python3.6/dist-packages (from tensorflow) (3.12.4)\n",
            "Requirement already satisfied: astunparse==1.6.3 in /usr/local/lib/python3.6/dist-packages (from tensorflow) (1.6.3)\n",
            "Requirement already satisfied: wheel>=0.26 in /usr/local/lib/python3.6/dist-packages (from tensorflow) (0.35.1)\n",
            "Requirement already satisfied: tensorflow-estimator<2.4.0,>=2.3.0 in /usr/local/lib/python3.6/dist-packages (from tensorflow) (2.3.0)\n",
            "Requirement already satisfied: google-pasta>=0.1.8 in /usr/local/lib/python3.6/dist-packages (from tensorflow) (0.2.0)\n",
            "Requirement already satisfied: opt-einsum>=2.3.2 in /usr/local/lib/python3.6/dist-packages (from tensorflow) (3.3.0)\n",
            "Requirement already satisfied: h5py<2.11.0,>=2.10.0 in /usr/local/lib/python3.6/dist-packages (from tensorflow) (2.10.0)\n",
            "Requirement already satisfied: tensorboard<3,>=2.3.0 in /usr/local/lib/python3.6/dist-packages (from tensorflow) (2.3.0)\n",
            "Requirement already satisfied: six>=1.12.0 in /usr/local/lib/python3.6/dist-packages (from tensorflow) (1.15.0)\n",
            "Requirement already satisfied: grpcio>=1.8.6 in /usr/local/lib/python3.6/dist-packages (from tensorflow) (1.33.2)\n",
            "Requirement already satisfied: scipy==1.4.1 in /usr/local/lib/python3.6/dist-packages (from tensorflow) (1.4.1)\n",
            "Requirement already satisfied: setuptools in /usr/local/lib/python3.6/dist-packages (from protobuf>=3.9.2->tensorflow) (50.3.2)\n",
            "Requirement already satisfied: requests<3,>=2.21.0 in /usr/local/lib/python3.6/dist-packages (from tensorboard<3,>=2.3.0->tensorflow) (2.23.0)\n",
            "Requirement already satisfied: markdown>=2.6.8 in /usr/local/lib/python3.6/dist-packages (from tensorboard<3,>=2.3.0->tensorflow) (3.3.3)\n",
            "Requirement already satisfied: tensorboard-plugin-wit>=1.6.0 in /usr/local/lib/python3.6/dist-packages (from tensorboard<3,>=2.3.0->tensorflow) (1.7.0)\n",
            "Requirement already satisfied: google-auth<2,>=1.6.3 in /usr/local/lib/python3.6/dist-packages (from tensorboard<3,>=2.3.0->tensorflow) (1.17.2)\n",
            "Requirement already satisfied: google-auth-oauthlib<0.5,>=0.4.1 in /usr/local/lib/python3.6/dist-packages (from tensorboard<3,>=2.3.0->tensorflow) (0.4.2)\n",
            "Requirement already satisfied: werkzeug>=0.11.15 in /usr/local/lib/python3.6/dist-packages (from tensorboard<3,>=2.3.0->tensorflow) (1.0.1)\n",
            "Requirement already satisfied: idna<3,>=2.5 in /usr/local/lib/python3.6/dist-packages (from requests<3,>=2.21.0->tensorboard<3,>=2.3.0->tensorflow) (2.10)\n",
            "Requirement already satisfied: urllib3!=1.25.0,!=1.25.1,<1.26,>=1.21.1 in /usr/local/lib/python3.6/dist-packages (from requests<3,>=2.21.0->tensorboard<3,>=2.3.0->tensorflow) (1.24.3)\n",
            "Requirement already satisfied: chardet<4,>=3.0.2 in /usr/local/lib/python3.6/dist-packages (from requests<3,>=2.21.0->tensorboard<3,>=2.3.0->tensorflow) (3.0.4)\n",
            "Requirement already satisfied: certifi>=2017.4.17 in /usr/local/lib/python3.6/dist-packages (from requests<3,>=2.21.0->tensorboard<3,>=2.3.0->tensorflow) (2020.6.20)\n",
            "Requirement already satisfied: importlib-metadata; python_version < \"3.8\" in /usr/local/lib/python3.6/dist-packages (from markdown>=2.6.8->tensorboard<3,>=2.3.0->tensorflow) (2.0.0)\n",
            "Requirement already satisfied: cachetools<5.0,>=2.0.0 in /usr/local/lib/python3.6/dist-packages (from google-auth<2,>=1.6.3->tensorboard<3,>=2.3.0->tensorflow) (4.1.1)\n",
            "Requirement already satisfied: rsa<5,>=3.1.4; python_version >= \"3\" in /usr/local/lib/python3.6/dist-packages (from google-auth<2,>=1.6.3->tensorboard<3,>=2.3.0->tensorflow) (4.6)\n",
            "Requirement already satisfied: pyasn1-modules>=0.2.1 in /usr/local/lib/python3.6/dist-packages (from google-auth<2,>=1.6.3->tensorboard<3,>=2.3.0->tensorflow) (0.2.8)\n",
            "Requirement already satisfied: requests-oauthlib>=0.7.0 in /usr/local/lib/python3.6/dist-packages (from google-auth-oauthlib<0.5,>=0.4.1->tensorboard<3,>=2.3.0->tensorflow) (1.3.0)\n",
            "Requirement already satisfied: zipp>=0.5 in /usr/local/lib/python3.6/dist-packages (from importlib-metadata; python_version < \"3.8\"->markdown>=2.6.8->tensorboard<3,>=2.3.0->tensorflow) (3.4.0)\n",
            "Requirement already satisfied: pyasn1>=0.1.3 in /usr/local/lib/python3.6/dist-packages (from rsa<5,>=3.1.4; python_version >= \"3\"->google-auth<2,>=1.6.3->tensorboard<3,>=2.3.0->tensorflow) (0.4.8)\n",
            "Requirement already satisfied: oauthlib>=3.0.0 in /usr/local/lib/python3.6/dist-packages (from requests-oauthlib>=0.7.0->google-auth-oauthlib<0.5,>=0.4.1->tensorboard<3,>=2.3.0->tensorflow) (3.1.0)\n"
          ],
          "name": "stdout"
        }
      ]
    },
    {
      "cell_type": "markdown",
      "metadata": {
        "id": "FvXw9a5EWk7o"
      },
      "source": [
        "## Importar el data set"
      ]
    },
    {
      "cell_type": "code",
      "metadata": {
        "id": "NtpMXAdbWxYW",
        "outputId": "cd3964b4-7c00-4192-d775-0eb7c563a10d",
        "colab": {
          "base_uri": "https://localhost:8080/",
          "height": 204
        }
      },
      "source": [
        "import numpy as np\n",
        "import matplotlib.pyplot as plt\n",
        "import pandas as pd\n",
        "\n",
        "dataset = pd.read_csv('https://raw.githubusercontent.com/cccg8105/deeplearning-az/master/datasets/Part%204%20-%20Self%20Organizing%20Maps%20(SOM)/Credit_Card_Applications.csv')\n",
        "# Caracteristicas\n",
        "X = dataset.iloc[:, :-1].values\n",
        "# \n",
        "y = dataset.iloc[:, -1].values\n",
        "\n",
        "dataset.head(5)"
      ],
      "execution_count": 4,
      "outputs": [
        {
          "output_type": "execute_result",
          "data": {
            "text/html": [
              "<div>\n",
              "<style scoped>\n",
              "    .dataframe tbody tr th:only-of-type {\n",
              "        vertical-align: middle;\n",
              "    }\n",
              "\n",
              "    .dataframe tbody tr th {\n",
              "        vertical-align: top;\n",
              "    }\n",
              "\n",
              "    .dataframe thead th {\n",
              "        text-align: right;\n",
              "    }\n",
              "</style>\n",
              "<table border=\"1\" class=\"dataframe\">\n",
              "  <thead>\n",
              "    <tr style=\"text-align: right;\">\n",
              "      <th></th>\n",
              "      <th>CustomerID</th>\n",
              "      <th>A1</th>\n",
              "      <th>A2</th>\n",
              "      <th>A3</th>\n",
              "      <th>A4</th>\n",
              "      <th>A5</th>\n",
              "      <th>A6</th>\n",
              "      <th>A7</th>\n",
              "      <th>A8</th>\n",
              "      <th>A9</th>\n",
              "      <th>A10</th>\n",
              "      <th>A11</th>\n",
              "      <th>A12</th>\n",
              "      <th>A13</th>\n",
              "      <th>A14</th>\n",
              "      <th>Class</th>\n",
              "    </tr>\n",
              "  </thead>\n",
              "  <tbody>\n",
              "    <tr>\n",
              "      <th>0</th>\n",
              "      <td>15776156</td>\n",
              "      <td>1</td>\n",
              "      <td>22.08</td>\n",
              "      <td>11.46</td>\n",
              "      <td>2</td>\n",
              "      <td>4</td>\n",
              "      <td>4</td>\n",
              "      <td>1.585</td>\n",
              "      <td>0</td>\n",
              "      <td>0</td>\n",
              "      <td>0</td>\n",
              "      <td>1</td>\n",
              "      <td>2</td>\n",
              "      <td>100</td>\n",
              "      <td>1213</td>\n",
              "      <td>0</td>\n",
              "    </tr>\n",
              "    <tr>\n",
              "      <th>1</th>\n",
              "      <td>15739548</td>\n",
              "      <td>0</td>\n",
              "      <td>22.67</td>\n",
              "      <td>7.00</td>\n",
              "      <td>2</td>\n",
              "      <td>8</td>\n",
              "      <td>4</td>\n",
              "      <td>0.165</td>\n",
              "      <td>0</td>\n",
              "      <td>0</td>\n",
              "      <td>0</td>\n",
              "      <td>0</td>\n",
              "      <td>2</td>\n",
              "      <td>160</td>\n",
              "      <td>1</td>\n",
              "      <td>0</td>\n",
              "    </tr>\n",
              "    <tr>\n",
              "      <th>2</th>\n",
              "      <td>15662854</td>\n",
              "      <td>0</td>\n",
              "      <td>29.58</td>\n",
              "      <td>1.75</td>\n",
              "      <td>1</td>\n",
              "      <td>4</td>\n",
              "      <td>4</td>\n",
              "      <td>1.250</td>\n",
              "      <td>0</td>\n",
              "      <td>0</td>\n",
              "      <td>0</td>\n",
              "      <td>1</td>\n",
              "      <td>2</td>\n",
              "      <td>280</td>\n",
              "      <td>1</td>\n",
              "      <td>0</td>\n",
              "    </tr>\n",
              "    <tr>\n",
              "      <th>3</th>\n",
              "      <td>15687688</td>\n",
              "      <td>0</td>\n",
              "      <td>21.67</td>\n",
              "      <td>11.50</td>\n",
              "      <td>1</td>\n",
              "      <td>5</td>\n",
              "      <td>3</td>\n",
              "      <td>0.000</td>\n",
              "      <td>1</td>\n",
              "      <td>1</td>\n",
              "      <td>11</td>\n",
              "      <td>1</td>\n",
              "      <td>2</td>\n",
              "      <td>0</td>\n",
              "      <td>1</td>\n",
              "      <td>1</td>\n",
              "    </tr>\n",
              "    <tr>\n",
              "      <th>4</th>\n",
              "      <td>15715750</td>\n",
              "      <td>1</td>\n",
              "      <td>20.17</td>\n",
              "      <td>8.17</td>\n",
              "      <td>2</td>\n",
              "      <td>6</td>\n",
              "      <td>4</td>\n",
              "      <td>1.960</td>\n",
              "      <td>1</td>\n",
              "      <td>1</td>\n",
              "      <td>14</td>\n",
              "      <td>0</td>\n",
              "      <td>2</td>\n",
              "      <td>60</td>\n",
              "      <td>159</td>\n",
              "      <td>1</td>\n",
              "    </tr>\n",
              "  </tbody>\n",
              "</table>\n",
              "</div>"
            ],
            "text/plain": [
              "   CustomerID  A1     A2     A3  A4  A5  ...  A10  A11  A12  A13   A14  Class\n",
              "0    15776156   1  22.08  11.46   2   4  ...    0    1    2  100  1213      0\n",
              "1    15739548   0  22.67   7.00   2   8  ...    0    0    2  160     1      0\n",
              "2    15662854   0  29.58   1.75   1   4  ...    0    1    2  280     1      0\n",
              "3    15687688   0  21.67  11.50   1   5  ...   11    1    2    0     1      1\n",
              "4    15715750   1  20.17   8.17   2   6  ...   14    0    2   60   159      1\n",
              "\n",
              "[5 rows x 16 columns]"
            ]
          },
          "metadata": {
            "tags": []
          },
          "execution_count": 4
        }
      ]
    },
    {
      "cell_type": "markdown",
      "metadata": {
        "id": "DO4AySXQXjeV"
      },
      "source": [
        "### Escalado de variables"
      ]
    },
    {
      "cell_type": "code",
      "metadata": {
        "id": "DzqUIeDcXmc-"
      },
      "source": [
        "from sklearn.preprocessing import MinMaxScaler\n",
        "rangoEscala = (0, 1)\n",
        "sc = MinMaxScaler(feature_range = rangoEscala)\n",
        "X = sc.fit_transform(X)"
      ],
      "execution_count": 5,
      "outputs": []
    },
    {
      "cell_type": "markdown",
      "metadata": {
        "id": "hxRBNv3JXPq4"
      },
      "source": [
        "## Creación de modelo y entrenamiento"
      ]
    },
    {
      "cell_type": "code",
      "metadata": {
        "id": "oMfZOoQZXbvu"
      },
      "source": [
        "import sys\n",
        "sys.path.append('/content/deeplearning-az/datasets/Part 4 - Self Organizing Maps (SOM)')\n",
        "from minisom import MiniSom\n",
        "tamanioMapaX = 10\n",
        "tamanioMapaY = 10\n",
        "cantidadColumnsX = 15\n",
        "ratioAprendizaje = 0.5\n",
        "som = MiniSom(x = tamanioMapaX, y = tamanioMapaY, input_len = cantidadColumnsX, sigma = 1.0, learning_rate = ratioAprendizaje)\n",
        "som.random_weights_init(X) # Inicializacion aleatoria\n",
        "\n",
        "numeroIteraciones = 100\n",
        "som.train_random(data = X, num_iteration = numeroIteraciones)"
      ],
      "execution_count": 6,
      "outputs": []
    },
    {
      "cell_type": "markdown",
      "metadata": {
        "id": "qgOdnt4QZaS6"
      },
      "source": [
        "## Visualizar los resultados"
      ]
    },
    {
      "cell_type": "code",
      "metadata": {
        "id": "z7w6vibxZdVV",
        "outputId": "6a1bbcfe-db4b-43df-b7a9-a7f2c546f0f5",
        "colab": {
          "base_uri": "https://localhost:8080/",
          "height": 269
        }
      },
      "source": [
        "from pylab import bone, pcolor, colorbar, plot, show\n",
        "# Se crea la ventana del mapa auto-organizado\n",
        "bone()\n",
        "# rango de colores\n",
        "pcolor(som.distance_map().T)\n",
        "# genera una barra indicador del indice de distancias medias\n",
        "# A mayor distancia media las cuadriculas se veran mas claras (atipicos)\n",
        "colorbar()\n",
        "\n",
        "# crear marcadores circulos y cuadrados\n",
        "markers = ['o', 's']\n",
        "# se definen colores de cada marcador\n",
        "colors = ['r', 'g']\n",
        "tamanioMarcador = 10\n",
        "anchoMarcador = 2\n",
        "# Se recorren los clientes para marcarlos en el mapa\n",
        "for i, x in enumerate(X):\n",
        "    # se optiene ubicacion del cliente en el mapa\n",
        "    w = som.winner(x)\n",
        "    # se dibuja el marcador del cliente \n",
        "    plot(w[0]+0.5, w[1]+0.5,\n",
        "         markers[y[i]], markeredgecolor = colors[y[i]], markerfacecolor = 'None', \n",
        "         markersize = tamanioMarcador, markeredgewidth = anchoMarcador)\n",
        "show()\n"
      ],
      "execution_count": 7,
      "outputs": [
        {
          "output_type": "display_data",
          "data": {
            "image/png": "[encoded data removed]",
            "text/plain": [
              "<Figure size 432x288 with 2 Axes>"
            ]
          },
          "metadata": {
            "tags": [],
            "needs_background": "light"
          }
        }
      ]
    },
    {
      "cell_type": "markdown",
      "metadata": {
        "id": "X3nxdWaIrfaY"
      },
      "source": [
        "## Detección de fraudes"
      ]
    },
    {
      "cell_type": "code",
      "metadata": {
        "id": "OAsBfScRri71",
        "outputId": "eeeea3cf-ff88-4007-8cfc-5fe19461249d",
        "colab": {
          "base_uri": "https://localhost:8080/"
        }
      },
      "source": [
        "mappings = som.win_map(X)\n",
        "len(mappings)\n",
        "# union de los posibles nodos que pueden ser fraude\n",
        "frauds = np.concatenate( (mappings[(8,7)], mappings[(4,9)]), axis = 0 )\n",
        "frauds = sc.inverse_transform(frauds)\n",
        "\n",
        "print(frauds)"
      ],
      "execution_count": 13,
      "outputs": [
        {
          "output_type": "stream",
          "text": [
            "[[1.5808662e+07 0.0000000e+00 4.6000000e+01 4.0000000e+00 2.0000000e+00\n",
            "  5.0000000e+00 3.0000000e+00 0.0000000e+00 1.0000000e+00 0.0000000e+00\n",
            "  0.0000000e+00 0.0000000e+00 2.0000000e+00 1.0000000e+02 9.6100000e+02]\n",
            " [1.5757188e+07 0.0000000e+00 2.0830000e+01 3.0000000e+00 2.0000000e+00\n",
            "  6.0000000e+00 4.0000000e+00 4.0000000e-02 1.0000000e+00 0.0000000e+00\n",
            "  0.0000000e+00 0.0000000e+00 2.0000000e+00 1.0000000e+02 1.0000000e+00]\n",
            " [1.5776545e+07 0.0000000e+00 2.5000000e+01 1.1000000e+01 1.0000000e+00\n",
            "  6.0000000e+00 4.0000000e+00 4.5000000e+00 1.0000000e+00 0.0000000e+00\n",
            "  0.0000000e+00 0.0000000e+00 2.0000000e+00 1.2000000e+02 1.0000000e+00]\n",
            " [1.5793896e+07 0.0000000e+00 2.8420000e+01 3.5000000e+00 2.0000000e+00\n",
            "  9.0000000e+00 4.0000000e+00 8.3500000e-01 1.0000000e+00 0.0000000e+00\n",
            "  0.0000000e+00 0.0000000e+00 1.0000000e+00 2.8000000e+02 1.0000000e+00]\n",
            " [1.5594305e+07 0.0000000e+00 2.3750000e+01 7.1000000e-01 2.0000000e+00\n",
            "  9.0000000e+00 4.0000000e+00 2.5000000e-01 0.0000000e+00 1.0000000e+00\n",
            "  1.0000000e+00 1.0000000e+00 2.0000000e+00 2.4000000e+02 5.0000000e+00]\n",
            " [1.5664793e+07 0.0000000e+00 1.7330000e+01 9.5000000e+00 2.0000000e+00\n",
            "  6.0000000e+00 4.0000000e+00 1.7500000e+00 0.0000000e+00 1.0000000e+00\n",
            "  1.0000000e+01 1.0000000e+00 2.0000000e+00 0.0000000e+00 1.1000000e+01]\n",
            " [1.5670029e+07 0.0000000e+00 1.6920000e+01 5.0000000e-01 2.0000000e+00\n",
            "  3.0000000e+00 4.0000000e+00 1.6500000e-01 0.0000000e+00 1.0000000e+00\n",
            "  6.0000000e+00 1.0000000e+00 2.0000000e+00 2.4000000e+02 3.6000000e+01]\n",
            " [1.5763579e+07 0.0000000e+00 1.6000000e+01 1.6500000e-01 2.0000000e+00\n",
            "  6.0000000e+00 4.0000000e+00 1.0000000e+00 0.0000000e+00 1.0000000e+00\n",
            "  2.0000000e+00 1.0000000e+00 2.0000000e+00 3.2000000e+02 2.0000000e+00]\n",
            " [1.5662189e+07 0.0000000e+00 2.8580000e+01 3.7500000e+00 2.0000000e+00\n",
            "  8.0000000e+00 4.0000000e+00 2.5000000e-01 0.0000000e+00 1.0000000e+00\n",
            "  1.0000000e+00 1.0000000e+00 2.0000000e+00 4.0000000e+01 1.5500000e+02]\n",
            " [1.5793825e+07 0.0000000e+00 3.1920000e+01 3.1250000e+00 2.0000000e+00\n",
            "  1.0000000e+00 1.0000000e+00 3.0400000e+00 0.0000000e+00 1.0000000e+00\n",
            "  2.0000000e+00 1.0000000e+00 2.0000000e+00 2.0000000e+02 5.0000000e+00]\n",
            " [1.5696361e+07 0.0000000e+00 3.1570000e+01 1.5000000e+00 2.0000000e+00\n",
            "  1.0000000e+00 1.0000000e+00 0.0000000e+00 0.0000000e+00 1.0000000e+00\n",
            "  2.0000000e+00 1.0000000e+00 2.0000000e+00 2.0000000e+02 1.0600000e+02]\n",
            " [1.5568469e+07 0.0000000e+00 1.5830000e+01 7.6250000e+00 2.0000000e+00\n",
            "  1.1000000e+01 4.0000000e+00 1.2500000e-01 0.0000000e+00 1.0000000e+00\n",
            "  1.0000000e+00 1.0000000e+00 2.0000000e+00 0.0000000e+00 1.6100000e+02]\n",
            " [1.5782159e+07 0.0000000e+00 2.2670000e+01 7.5000000e-01 2.0000000e+00\n",
            "  8.0000000e+00 4.0000000e+00 2.0000000e+00 0.0000000e+00 1.0000000e+00\n",
            "  2.0000000e+00 1.0000000e+00 2.0000000e+00 2.0000000e+02 3.9500000e+02]\n",
            " [1.5586479e+07 0.0000000e+00 2.7250000e+01 2.9000000e-01 2.0000000e+00\n",
            "  7.0000000e+00 8.0000000e+00 1.2500000e-01 0.0000000e+00 1.0000000e+00\n",
            "  1.0000000e+00 1.0000000e+00 2.0000000e+00 2.7200000e+02 1.0900000e+02]\n",
            " [1.5717700e+07 0.0000000e+00 2.3580000e+01 8.3000000e-01 2.0000000e+00\n",
            "  1.1000000e+01 4.0000000e+00 4.1500000e-01 0.0000000e+00 1.0000000e+00\n",
            "  1.0000000e+00 1.0000000e+00 2.0000000e+00 2.0000000e+02 1.2000000e+01]\n",
            " [1.5705379e+07 0.0000000e+00 3.0580000e+01 1.0665000e+01 2.0000000e+00\n",
            "  1.1000000e+01 8.0000000e+00 8.5000000e-02 0.0000000e+00 1.0000000e+00\n",
            "  1.2000000e+01 1.0000000e+00 2.0000000e+00 1.2900000e+02 4.0000000e+00]\n",
            " [1.5646535e+07 0.0000000e+00 1.7920000e+01 5.4000000e-01 2.0000000e+00\n",
            "  8.0000000e+00 4.0000000e+00 1.7500000e+00 0.0000000e+00 1.0000000e+00\n",
            "  1.0000000e+00 1.0000000e+00 2.0000000e+00 8.0000000e+01 6.0000000e+00]\n",
            " [1.5749964e+07 0.0000000e+00 2.7580000e+01 3.0000000e+00 2.0000000e+00\n",
            "  7.0000000e+00 4.0000000e+00 2.7900000e+00 0.0000000e+00 1.0000000e+00\n",
            "  1.0000000e+00 1.0000000e+00 2.0000000e+00 2.8000000e+02 1.1000000e+01]]\n"
          ],
          "name": "stdout"
        }
      ]
    },
    {
      "cell_type": "markdown",
      "metadata": {
        "id": "WKEx8TLsx04J"
      },
      "source": [
        "## Complementar modelo con una red neuronal supervisada"
      ]
    },
    {
      "cell_type": "markdown",
      "metadata": {
        "id": "7bRZnGWe6p9y"
      },
      "source": [
        "### Creación de datos de entrenamiento"
      ]
    },
    {
      "cell_type": "code",
      "metadata": {
        "id": "AsNXh0SXx54e"
      },
      "source": [
        "from keras.models import Sequential\n",
        "from keras.layers import Dense\n",
        "\n",
        "# matriz de características\n",
        "customers = dataset.iloc[:, 1:-1].values\n",
        "\n",
        "# variable dependiente\n",
        "is_fraud = np.zeros(len(dataset))\n",
        "for i in range(len(dataset)):\n",
        "    if dataset.iloc[i, 0] in frauds:\n",
        "        is_fraud[i] = 1\n",
        "\n",
        "from sklearn.preprocessing import StandardScaler\n",
        "sc_X = StandardScaler()\n",
        "customers = sc_X.fit_transform(customers)"
      ],
      "execution_count": 18,
      "outputs": []
    },
    {
      "cell_type": "markdown",
      "metadata": {
        "id": "B3I8oHg167wV"
      },
      "source": [
        "### Construcción de la RNA"
      ]
    },
    {
      "cell_type": "code",
      "metadata": {
        "id": "NDdN5V8D7Vcf"
      },
      "source": [
        "from keras.models import Sequential\n",
        "from keras.layers import Dense\n",
        "\n",
        "classifier = Sequential()\n",
        "\n",
        "# capas de entrada y primera capa oculta\n",
        "classifier.add(Dense(units = 2, kernel_initializer = \"uniform\",  activation = \"relu\", input_dim = 14))\n",
        "\n",
        "# capa de salida\n",
        "classifier.add(Dense(units = 1, kernel_initializer = \"uniform\",  activation = \"sigmoid\"))\n"
      ],
      "execution_count": 19,
      "outputs": []
    },
    {
      "cell_type": "markdown",
      "metadata": {
        "id": "LuIdzv6R7z7z"
      },
      "source": [
        "### Compilación"
      ]
    },
    {
      "cell_type": "code",
      "metadata": {
        "id": "xPyUSU3N7suD"
      },
      "source": [
        "classifier.compile(optimizer = \"adam\", loss = \"binary_crossentropy\", metrics = [\"accuracy\"])\n"
      ],
      "execution_count": 20,
      "outputs": []
    },
    {
      "cell_type": "markdown",
      "metadata": {
        "id": "G3lU9hrj79CN"
      },
      "source": [
        "### Entrenamiento "
      ]
    },
    {
      "cell_type": "code",
      "metadata": {
        "id": "HEKcMm4y7-_Z",
        "outputId": "e3acca68-b647-409f-cfe2-6264c2e0ee73",
        "colab": {
          "base_uri": "https://localhost:8080/"
        }
      },
      "source": [
        "classifier.fit(customers, is_fraud,  batch_size = 1, epochs = 2)"
      ],
      "execution_count": 21,
      "outputs": [
        {
          "output_type": "stream",
          "text": [
            "Epoch 1/2\n",
            "690/690 [==============================] - 1s 824us/step - loss: 0.4605 - accuracy: 0.9725\n",
            "Epoch 2/2\n",
            "690/690 [==============================] - 1s 793us/step - loss: 0.1525 - accuracy: 0.9739\n"
          ],
          "name": "stdout"
        },
        {
          "output_type": "execute_result",
          "data": {
            "text/plain": [
              "<tensorflow.python.keras.callbacks.History at 0x7f967c9c9f98>"
            ]
          },
          "metadata": {
            "tags": []
          },
          "execution_count": 21
        }
      ]
    },
    {
      "cell_type": "markdown",
      "metadata": {
        "id": "tcQ10yuN8GMw"
      },
      "source": [
        "### Predicción de resultados"
      ]
    },
    {
      "cell_type": "code",
      "metadata": {
        "id": "FdhXdJ0b8JFM",
        "outputId": "5ec36633-9738-44a5-f62a-dfc308850481",
        "colab": {
          "base_uri": "https://localhost:8080/"
        }
      },
      "source": [
        "y_pred  = classifier.predict(customers)\n",
        "# se concatena el id del cliente con las predicciones\n",
        "y_pred = np.concatenate((dataset.iloc[:,0:1].values, y_pred), axis = 1)\n",
        "\n",
        "y_pred = y_pred[y_pred[:,1].argsort()]\n",
        "\n",
        "y_pred"
      ],
      "execution_count": 23,
      "outputs": [
        {
          "output_type": "execute_result",
          "data": {
            "text/plain": [
              "array([[1.57997850e+07, 1.29020214e-03],\n",
              "       [1.56548590e+07, 2.74100900e-03],\n",
              "       [1.56214230e+07, 3.34593654e-03],\n",
              "       ...,\n",
              "       [1.56647930e+07, 2.40054548e-01],\n",
              "       [1.56458200e+07, 2.74255812e-01],\n",
              "       [1.57257760e+07, 3.26584905e-01]])"
            ]
          },
          "metadata": {
            "tags": []
          },
          "execution_count": 23
        }
      ]
    }
  ]
}