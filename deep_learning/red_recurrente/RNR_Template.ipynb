{
  "nbformat": 4,
  "nbformat_minor": 0,
  "metadata": {
    "colab": {
      "name": "RNR_Template.ipynb",
      "provenance": [],
      "authorship_tag": "ABX9TyP+1bs9+zYfF36iRlUZ8twv",
      "include_colab_link": true
    },
    "kernelspec": {
      "name": "python3",
      "display_name": "Python 3"
    }
  },
  "cells": [
    {
      "cell_type": "markdown",
      "metadata": {
        "id": "view-in-github",
        "colab_type": "text"
      },
      "source": [
        "<a href=\"https://colab.research.google.com/github/cccg8105/notebook_AD/blob/deep_learning/deep_learning/red_recurrente/RNR_Template.ipynb\" target=\"_parent\"><img src=\"https://colab.research.google.com/assets/colab-badge.svg\" alt=\"Open In Colab\"/></a>"
      ]
    },
    {
      "cell_type": "markdown",
      "metadata": {
        "id": "idm3XzwN9Lmr"
      },
      "source": [
        "# Red neuronal recurrente"
      ]
    },
    {
      "cell_type": "markdown",
      "metadata": {
        "id": "FwwjX5B2UVbz"
      },
      "source": [
        "## Instalación de keras"
      ]
    },
    {
      "cell_type": "code",
      "metadata": {
        "id": "k-03ehFC8_9S",
        "outputId": "56c6521c-3559-4ce6-9bc5-b7b4fa09eac9",
        "colab": {
          "base_uri": "https://localhost:8080/"
        }
      },
      "source": [
        "pip install --upgrade keras"
      ],
      "execution_count": 30,
      "outputs": [
        {
          "output_type": "stream",
          "text": [
            "Requirement already up-to-date: keras in /usr/local/lib/python3.6/dist-packages (2.4.3)\n",
            "Requirement already satisfied, skipping upgrade: scipy>=0.14 in /usr/local/lib/python3.6/dist-packages (from keras) (1.4.1)\n",
            "Requirement already satisfied, skipping upgrade: h5py in /usr/local/lib/python3.6/dist-packages (from keras) (2.10.0)\n",
            "Requirement already satisfied, skipping upgrade: pyyaml in /usr/local/lib/python3.6/dist-packages (from keras) (3.13)\n",
            "Requirement already satisfied, skipping upgrade: numpy>=1.9.1 in /usr/local/lib/python3.6/dist-packages (from keras) (1.18.5)\n",
            "Requirement already satisfied, skipping upgrade: six in /usr/local/lib/python3.6/dist-packages (from h5py->keras) (1.15.0)\n"
          ],
          "name": "stdout"
        }
      ]
    },
    {
      "cell_type": "markdown",
      "metadata": {
        "id": "uQ-TF1evUmPq"
      },
      "source": [
        "## Importar conjunto de datos"
      ]
    },
    {
      "cell_type": "code",
      "metadata": {
        "id": "wXj9-fcVVdHw",
        "outputId": "0f5c77f9-1d34-4ff3-e3d9-d7a466e7b7e1",
        "colab": {
          "base_uri": "https://localhost:8080/",
          "height": 204
        }
      },
      "source": [
        "import numpy as np\n",
        "import pandas as pd\n",
        "import matplotlib.pyplot as plt\n",
        "\n",
        "dataset_train = pd.read_csv(\"https://raw.githubusercontent.com/cccg8105/deeplearning-az/master/datasets/Part%203%20-%20Recurrent%20Neural%20Networks%20(RNN)/Google_Stock_Price_Train.csv\")\n",
        "training_set  = dataset_train.iloc[:, 1:2].values # obtiene solo la columna \"Open\" como dataframe y obtiene los valores\n",
        "\n",
        "dataset_test = pd.read_csv('https://raw.githubusercontent.com/cccg8105/deeplearning-az/master/datasets/Part%203%20-%20Recurrent%20Neural%20Networks%20(RNN)/Google_Stock_Price_Test.csv')\n",
        "real_stock_price = dataset_test.iloc[:, 1:2].values\n",
        "\n",
        "dataset_train.head(5)\n",
        "dataset_test.head(5)\n"
      ],
      "execution_count": 31,
      "outputs": [
        {
          "output_type": "execute_result",
          "data": {
            "text/html": [
              "<div>\n",
              "<style scoped>\n",
              "    .dataframe tbody tr th:only-of-type {\n",
              "        vertical-align: middle;\n",
              "    }\n",
              "\n",
              "    .dataframe tbody tr th {\n",
              "        vertical-align: top;\n",
              "    }\n",
              "\n",
              "    .dataframe thead th {\n",
              "        text-align: right;\n",
              "    }\n",
              "</style>\n",
              "<table border=\"1\" class=\"dataframe\">\n",
              "  <thead>\n",
              "    <tr style=\"text-align: right;\">\n",
              "      <th></th>\n",
              "      <th>Date</th>\n",
              "      <th>Open</th>\n",
              "      <th>High</th>\n",
              "      <th>Low</th>\n",
              "      <th>Close</th>\n",
              "      <th>Volume</th>\n",
              "    </tr>\n",
              "  </thead>\n",
              "  <tbody>\n",
              "    <tr>\n",
              "      <th>0</th>\n",
              "      <td>1/3/2017</td>\n",
              "      <td>778.81</td>\n",
              "      <td>789.63</td>\n",
              "      <td>775.80</td>\n",
              "      <td>786.14</td>\n",
              "      <td>1,657,300</td>\n",
              "    </tr>\n",
              "    <tr>\n",
              "      <th>1</th>\n",
              "      <td>1/4/2017</td>\n",
              "      <td>788.36</td>\n",
              "      <td>791.34</td>\n",
              "      <td>783.16</td>\n",
              "      <td>786.90</td>\n",
              "      <td>1,073,000</td>\n",
              "    </tr>\n",
              "    <tr>\n",
              "      <th>2</th>\n",
              "      <td>1/5/2017</td>\n",
              "      <td>786.08</td>\n",
              "      <td>794.48</td>\n",
              "      <td>785.02</td>\n",
              "      <td>794.02</td>\n",
              "      <td>1,335,200</td>\n",
              "    </tr>\n",
              "    <tr>\n",
              "      <th>3</th>\n",
              "      <td>1/6/2017</td>\n",
              "      <td>795.26</td>\n",
              "      <td>807.90</td>\n",
              "      <td>792.20</td>\n",
              "      <td>806.15</td>\n",
              "      <td>1,640,200</td>\n",
              "    </tr>\n",
              "    <tr>\n",
              "      <th>4</th>\n",
              "      <td>1/9/2017</td>\n",
              "      <td>806.40</td>\n",
              "      <td>809.97</td>\n",
              "      <td>802.83</td>\n",
              "      <td>806.65</td>\n",
              "      <td>1,272,400</td>\n",
              "    </tr>\n",
              "  </tbody>\n",
              "</table>\n",
              "</div>"
            ],
            "text/plain": [
              "       Date    Open    High     Low   Close     Volume\n",
              "0  1/3/2017  778.81  789.63  775.80  786.14  1,657,300\n",
              "1  1/4/2017  788.36  791.34  783.16  786.90  1,073,000\n",
              "2  1/5/2017  786.08  794.48  785.02  794.02  1,335,200\n",
              "3  1/6/2017  795.26  807.90  792.20  806.15  1,640,200\n",
              "4  1/9/2017  806.40  809.97  802.83  806.65  1,272,400"
            ]
          },
          "metadata": {
            "tags": []
          },
          "execution_count": 31
        }
      ]
    },
    {
      "cell_type": "markdown",
      "metadata": {
        "id": "5-p02-upWlBi"
      },
      "source": [
        "## Preprocesado de datos"
      ]
    },
    {
      "cell_type": "markdown",
      "metadata": {
        "id": "FohZFf4IXJqE"
      },
      "source": [
        "### Escalado de variables"
      ]
    },
    {
      "cell_type": "code",
      "metadata": {
        "id": "pizn_jRQWn8h",
        "outputId": "24597ee7-b1f8-4a4b-f5cf-bb2e5b4ffdc4",
        "colab": {
          "base_uri": "https://localhost:8080/"
        }
      },
      "source": [
        "from sklearn.preprocessing import MinMaxScaler\n",
        "\n",
        "# se escala entre valores de 0 y 1\n",
        "sc = MinMaxScaler(feature_range = (0, 1))\n",
        "training_set_scaled = sc.fit_transform(training_set)\n",
        "\n",
        "print(training_set)\n",
        "print(training_set_scaled)"
      ],
      "execution_count": 32,
      "outputs": [
        {
          "output_type": "stream",
          "text": [
            "[[325.25]\n",
            " [331.27]\n",
            " [329.83]\n",
            " ...\n",
            " [793.7 ]\n",
            " [783.33]\n",
            " [782.75]]\n",
            "[[0.08581368]\n",
            " [0.09701243]\n",
            " [0.09433366]\n",
            " ...\n",
            " [0.95725128]\n",
            " [0.93796041]\n",
            " [0.93688146]]\n"
          ],
          "name": "stdout"
        }
      ]
    },
    {
      "cell_type": "markdown",
      "metadata": {
        "id": "epai3NKFXxw5"
      },
      "source": [
        "### Modificar estructura de datos"
      ]
    },
    {
      "cell_type": "markdown",
      "metadata": {
        "id": "D5QXVjHVdfhO"
      },
      "source": [
        "Se utilizan los datos de 60 dias pasados para predecir un día futuro. De acuerdo a esto se separan en arreglos diferentes los datos de entrenamiento y prueba"
      ]
    },
    {
      "cell_type": "code",
      "metadata": {
        "id": "4HhOWXHBX5H5",
        "outputId": "c8810abe-ed37-4a16-e82d-d67fe8bb2f67",
        "colab": {
          "base_uri": "https://localhost:8080/"
        }
      },
      "source": [
        "X_train = []\n",
        "y_train = []\n",
        "\n",
        "periodosPasados = 60\n",
        "periodosTotales = len(training_set)\n",
        "\n",
        "for i in range(periodosPasados, periodosTotales):\n",
        "    X_train.append(training_set_scaled[i-periodosPasados:i, 0])\n",
        "    y_train.append(training_set_scaled[i, 0])\n",
        "X_train, y_train = np.array(X_train), np.array(y_train)\n",
        "\n",
        "# Se agrega nueva dimension a la matriz en caso de colocar mas variables al modelo\n",
        "X_train = np.reshape(X_train, (X_train.shape[0], X_train.shape[1], 1))\n",
        "\n",
        "print(X_train)\n",
        "print(X_train.shape[1])"
      ],
      "execution_count": 33,
      "outputs": [
        {
          "output_type": "stream",
          "text": [
            "[[[0.08581368]\n",
            "  [0.09701243]\n",
            "  [0.09433366]\n",
            "  ...\n",
            "  [0.07846566]\n",
            "  [0.08034452]\n",
            "  [0.08497656]]\n",
            "\n",
            " [[0.09701243]\n",
            "  [0.09433366]\n",
            "  [0.09156187]\n",
            "  ...\n",
            "  [0.08034452]\n",
            "  [0.08497656]\n",
            "  [0.08627874]]\n",
            "\n",
            " [[0.09433366]\n",
            "  [0.09156187]\n",
            "  [0.07984225]\n",
            "  ...\n",
            "  [0.08497656]\n",
            "  [0.08627874]\n",
            "  [0.08471612]]\n",
            "\n",
            " ...\n",
            "\n",
            " [[0.92106928]\n",
            "  [0.92438053]\n",
            "  [0.93048218]\n",
            "  ...\n",
            "  [0.95475854]\n",
            "  [0.95204256]\n",
            "  [0.95163331]]\n",
            "\n",
            " [[0.92438053]\n",
            "  [0.93048218]\n",
            "  [0.9299055 ]\n",
            "  ...\n",
            "  [0.95204256]\n",
            "  [0.95163331]\n",
            "  [0.95725128]]\n",
            "\n",
            " [[0.93048218]\n",
            "  [0.9299055 ]\n",
            "  [0.93113327]\n",
            "  ...\n",
            "  [0.95163331]\n",
            "  [0.95725128]\n",
            "  [0.93796041]]]\n",
            "60\n"
          ],
          "name": "stdout"
        }
      ]
    },
    {
      "cell_type": "markdown",
      "metadata": {
        "id": "Kg6m8KHLbSHE"
      },
      "source": [
        "## Construcción LSTM apilado"
      ]
    },
    {
      "cell_type": "code",
      "metadata": {
        "id": "sZ6IO-EobUhL"
      },
      "source": [
        "from keras.models import Sequential\n",
        "from keras.layers import Dense, LSTM, Dropout\n",
        "\n",
        "regressor = Sequential()\n",
        "\n",
        "# Primera capa de LSTM y la regulariación por Dropout\n",
        "nodos = 50\n",
        "secuenciaRetorno = True # Devuelve la neuronas LSTM, para reutilizarlas en las siguientes capas\n",
        "tamanioPeriodoPrueba = X_train.shape[1]\n",
        "cantidadCaracteristicas = 1\n",
        "\n",
        "regressor.add(LSTM(units = nodos, return_sequences = secuenciaRetorno, input_shape = (tamanioPeriodoPrueba, cantidadCaracteristicas) ))\n",
        "ratioDesactivacionNodos = 0.2\n",
        "regressor.add(Dropout(ratioDesactivacionNodos))\n",
        "\n",
        "# Segunda capa de LSTM y la regulariación por Dropout\n",
        "regressor.add(LSTM(units = nodos, return_sequences = secuenciaRetorno ))\n",
        "ratioDesactivacionNodos2 = 0.2\n",
        "regressor.add(Dropout(ratioDesactivacionNodos2))\n",
        "\n",
        "# Tercera capa de LSTM y la regulariación por Dropout\n",
        "ratioDesactivacionNodos3 = 0.2\n",
        "regressor.add(LSTM(units = nodos, return_sequences = secuenciaRetorno ))\n",
        "regressor.add(Dropout(ratioDesactivacionNodos3))\n",
        "\n",
        "# Cuarta capa de LSTM y la regulariación por Dropout\n",
        "ratioDesactivacionNodos4 = 0.2\n",
        "regressor.add(LSTM(units = nodos))\n",
        "regressor.add(Dropout(ratioDesactivacionNodos4))\n",
        "\n",
        "# Capa de salida\n",
        "regressor.add(Dense(units = 1))"
      ],
      "execution_count": 34,
      "outputs": []
    },
    {
      "cell_type": "markdown",
      "metadata": {
        "id": "1ovDst1SoCCm"
      },
      "source": [
        "## Compilación"
      ]
    },
    {
      "cell_type": "code",
      "metadata": {
        "id": "vraFu8EEoE8p"
      },
      "source": [
        "optimizador = 'adam'\n",
        "funcionPerdida = 'mean_squared_error'\n",
        "metricas = [\"accuracy\"]\n",
        "regressor.compile(optimizer = optimizador, loss = funcionPerdida, metrics = metricas)"
      ],
      "execution_count": 35,
      "outputs": []
    },
    {
      "cell_type": "markdown",
      "metadata": {
        "id": "tGum-p01oiN9"
      },
      "source": [
        "## Entrenamiento"
      ]
    },
    {
      "cell_type": "code",
      "metadata": {
        "id": "RttoDfvjokRz",
        "outputId": "8396ff9e-9cdb-4e11-fc77-f71083216a1f",
        "colab": {
          "base_uri": "https://localhost:8080/"
        }
      },
      "source": [
        "epocas = 100\n",
        "tamanioLote = 32\n",
        "regressor.fit(X_train, y_train, epochs = epocas, batch_size = tamanioLote)"
      ],
      "execution_count": 25,
      "outputs": [
        {
          "output_type": "stream",
          "text": [
            "Epoch 1/100\n",
            "38/38 [==============================] - 4s 102ms/step - loss: 0.0018 - accuracy: 0.0017\n",
            "Epoch 2/100\n",
            "38/38 [==============================] - 4s 107ms/step - loss: 0.0015 - accuracy: 0.0017\n",
            "Epoch 3/100\n",
            "38/38 [==============================] - 4s 106ms/step - loss: 0.0016 - accuracy: 0.0017\n",
            "Epoch 4/100\n",
            "38/38 [==============================] - 4s 105ms/step - loss: 0.0017 - accuracy: 0.0017\n",
            "Epoch 5/100\n",
            "38/38 [==============================] - 4s 104ms/step - loss: 0.0014 - accuracy: 0.0017\n",
            "Epoch 6/100\n",
            "38/38 [==============================] - 4s 105ms/step - loss: 0.0013 - accuracy: 0.0017\n",
            "Epoch 7/100\n",
            "38/38 [==============================] - 4s 104ms/step - loss: 0.0015 - accuracy: 0.0017\n",
            "Epoch 8/100\n",
            "38/38 [==============================] - 4s 106ms/step - loss: 0.0014 - accuracy: 0.0017\n",
            "Epoch 9/100\n",
            "38/38 [==============================] - 4s 105ms/step - loss: 0.0015 - accuracy: 0.0017\n",
            "Epoch 10/100\n",
            "38/38 [==============================] - 4s 106ms/step - loss: 0.0015 - accuracy: 0.0017\n",
            "Epoch 11/100\n",
            "38/38 [==============================] - 4s 107ms/step - loss: 0.0014 - accuracy: 0.0017\n",
            "Epoch 12/100\n",
            "38/38 [==============================] - 4s 107ms/step - loss: 0.0013 - accuracy: 0.0017\n",
            "Epoch 13/100\n",
            "38/38 [==============================] - 4s 106ms/step - loss: 0.0013 - accuracy: 0.0017\n",
            "Epoch 14/100\n",
            "38/38 [==============================] - 4s 107ms/step - loss: 0.0013 - accuracy: 0.0017\n",
            "Epoch 15/100\n",
            "38/38 [==============================] - 4s 106ms/step - loss: 0.0013 - accuracy: 0.0017\n",
            "Epoch 16/100\n",
            "38/38 [==============================] - 4s 108ms/step - loss: 0.0013 - accuracy: 0.0017\n",
            "Epoch 17/100\n",
            "38/38 [==============================] - 4s 107ms/step - loss: 0.0013 - accuracy: 0.0017\n",
            "Epoch 18/100\n",
            "38/38 [==============================] - 4s 106ms/step - loss: 0.0013 - accuracy: 0.0017\n",
            "Epoch 19/100\n",
            "38/38 [==============================] - 4s 107ms/step - loss: 0.0013 - accuracy: 0.0017\n",
            "Epoch 20/100\n",
            "38/38 [==============================] - 4s 106ms/step - loss: 0.0011 - accuracy: 0.0017\n",
            "Epoch 21/100\n",
            "38/38 [==============================] - 4s 106ms/step - loss: 0.0012 - accuracy: 0.0017\n",
            "Epoch 22/100\n",
            "38/38 [==============================] - 4s 106ms/step - loss: 0.0012 - accuracy: 0.0017\n",
            "Epoch 23/100\n",
            "38/38 [==============================] - 4s 106ms/step - loss: 0.0012 - accuracy: 0.0017\n",
            "Epoch 24/100\n",
            "38/38 [==============================] - 4s 105ms/step - loss: 0.0013 - accuracy: 0.0017\n",
            "Epoch 25/100\n",
            "38/38 [==============================] - 4s 105ms/step - loss: 0.0015 - accuracy: 0.0017\n",
            "Epoch 26/100\n",
            "38/38 [==============================] - 4s 105ms/step - loss: 0.0012 - accuracy: 0.0017\n",
            "Epoch 27/100\n",
            "38/38 [==============================] - 4s 106ms/step - loss: 0.0013 - accuracy: 0.0017\n",
            "Epoch 28/100\n",
            "38/38 [==============================] - 4s 106ms/step - loss: 0.0012 - accuracy: 0.0017\n",
            "Epoch 29/100\n",
            "38/38 [==============================] - 4s 107ms/step - loss: 0.0012 - accuracy: 0.0017\n",
            "Epoch 30/100\n",
            "38/38 [==============================] - 4s 106ms/step - loss: 0.0012 - accuracy: 0.0017\n",
            "Epoch 31/100\n",
            "38/38 [==============================] - 4s 106ms/step - loss: 0.0013 - accuracy: 0.0017\n",
            "Epoch 32/100\n",
            "38/38 [==============================] - 4s 106ms/step - loss: 0.0011 - accuracy: 0.0017\n",
            "Epoch 33/100\n",
            "38/38 [==============================] - 4s 106ms/step - loss: 0.0011 - accuracy: 0.0017\n",
            "Epoch 34/100\n",
            "38/38 [==============================] - 4s 106ms/step - loss: 0.0011 - accuracy: 0.0017\n",
            "Epoch 35/100\n",
            "38/38 [==============================] - 4s 106ms/step - loss: 0.0012 - accuracy: 0.0017\n",
            "Epoch 36/100\n",
            "38/38 [==============================] - 4s 106ms/step - loss: 0.0011 - accuracy: 0.0017\n",
            "Epoch 37/100\n",
            "38/38 [==============================] - 4s 106ms/step - loss: 0.0012 - accuracy: 0.0017\n",
            "Epoch 38/100\n",
            "38/38 [==============================] - 4s 105ms/step - loss: 0.0011 - accuracy: 0.0017\n",
            "Epoch 39/100\n",
            "38/38 [==============================] - 4s 106ms/step - loss: 0.0011 - accuracy: 0.0017\n",
            "Epoch 40/100\n",
            "38/38 [==============================] - 4s 107ms/step - loss: 0.0011 - accuracy: 0.0017\n",
            "Epoch 41/100\n",
            "38/38 [==============================] - 4s 108ms/step - loss: 0.0011 - accuracy: 0.0017\n",
            "Epoch 42/100\n",
            "38/38 [==============================] - 4s 107ms/step - loss: 0.0012 - accuracy: 0.0017\n",
            "Epoch 43/100\n",
            "38/38 [==============================] - 4s 108ms/step - loss: 0.0011 - accuracy: 0.0017\n",
            "Epoch 44/100\n",
            "38/38 [==============================] - 4s 108ms/step - loss: 0.0010 - accuracy: 0.0017\n",
            "Epoch 45/100\n",
            "38/38 [==============================] - 4s 106ms/step - loss: 0.0011 - accuracy: 0.0017\n",
            "Epoch 46/100\n",
            "38/38 [==============================] - 4s 107ms/step - loss: 0.0011 - accuracy: 0.0017\n",
            "Epoch 47/100\n",
            "38/38 [==============================] - 4s 107ms/step - loss: 0.0011 - accuracy: 0.0017\n",
            "Epoch 48/100\n",
            "38/38 [==============================] - 4s 106ms/step - loss: 0.0012 - accuracy: 0.0017\n",
            "Epoch 49/100\n",
            "38/38 [==============================] - 4s 107ms/step - loss: 0.0012 - accuracy: 0.0017\n",
            "Epoch 50/100\n",
            "38/38 [==============================] - 4s 106ms/step - loss: 0.0012 - accuracy: 0.0017\n",
            "Epoch 51/100\n",
            "38/38 [==============================] - 4s 107ms/step - loss: 0.0012 - accuracy: 0.0017\n",
            "Epoch 52/100\n",
            "38/38 [==============================] - 4s 112ms/step - loss: 0.0012 - accuracy: 0.0017\n",
            "Epoch 53/100\n",
            "38/38 [==============================] - 4s 107ms/step - loss: 0.0012 - accuracy: 0.0017\n",
            "Epoch 54/100\n",
            "38/38 [==============================] - 4s 108ms/step - loss: 0.0011 - accuracy: 0.0017\n",
            "Epoch 55/100\n",
            "38/38 [==============================] - 4s 107ms/step - loss: 0.0011 - accuracy: 0.0017\n",
            "Epoch 56/100\n",
            "38/38 [==============================] - 4s 107ms/step - loss: 9.9515e-04 - accuracy: 0.0017\n",
            "Epoch 57/100\n",
            "38/38 [==============================] - 4s 108ms/step - loss: 0.0011 - accuracy: 0.0017\n",
            "Epoch 58/100\n",
            "38/38 [==============================] - 4s 108ms/step - loss: 0.0011 - accuracy: 0.0017\n",
            "Epoch 59/100\n",
            "38/38 [==============================] - 4s 108ms/step - loss: 0.0010 - accuracy: 0.0017\n",
            "Epoch 60/100\n",
            "38/38 [==============================] - 4s 108ms/step - loss: 0.0011 - accuracy: 0.0017\n",
            "Epoch 61/100\n",
            "38/38 [==============================] - 4s 107ms/step - loss: 0.0012 - accuracy: 0.0017\n",
            "Epoch 62/100\n",
            "38/38 [==============================] - 4s 107ms/step - loss: 0.0011 - accuracy: 0.0017\n",
            "Epoch 63/100\n",
            "38/38 [==============================] - 4s 107ms/step - loss: 0.0011 - accuracy: 0.0017\n",
            "Epoch 64/100\n",
            "38/38 [==============================] - 4s 107ms/step - loss: 0.0011 - accuracy: 0.0017\n",
            "Epoch 65/100\n",
            "38/38 [==============================] - 4s 107ms/step - loss: 0.0010 - accuracy: 0.0017\n",
            "Epoch 66/100\n",
            "38/38 [==============================] - 4s 107ms/step - loss: 9.8993e-04 - accuracy: 0.0017\n",
            "Epoch 67/100\n",
            "38/38 [==============================] - 4s 107ms/step - loss: 0.0011 - accuracy: 0.0017\n",
            "Epoch 68/100\n",
            "38/38 [==============================] - 4s 107ms/step - loss: 0.0012 - accuracy: 0.0017\n",
            "Epoch 69/100\n",
            "38/38 [==============================] - 4s 107ms/step - loss: 0.0012 - accuracy: 0.0017\n",
            "Epoch 70/100\n",
            "38/38 [==============================] - 4s 108ms/step - loss: 0.0011 - accuracy: 0.0017\n",
            "Epoch 71/100\n",
            "38/38 [==============================] - 4s 108ms/step - loss: 0.0010 - accuracy: 0.0017\n",
            "Epoch 72/100\n",
            "38/38 [==============================] - 4s 110ms/step - loss: 0.0010 - accuracy: 0.0017\n",
            "Epoch 73/100\n",
            "38/38 [==============================] - 4s 112ms/step - loss: 0.0011 - accuracy: 0.0017\n",
            "Epoch 74/100\n",
            "38/38 [==============================] - 4s 109ms/step - loss: 9.8122e-04 - accuracy: 0.0017\n",
            "Epoch 75/100\n",
            "38/38 [==============================] - 4s 110ms/step - loss: 0.0011 - accuracy: 0.0017\n",
            "Epoch 76/100\n",
            "38/38 [==============================] - 4s 109ms/step - loss: 0.0010 - accuracy: 0.0017\n",
            "Epoch 77/100\n",
            "38/38 [==============================] - 4s 107ms/step - loss: 9.5659e-04 - accuracy: 0.0017\n",
            "Epoch 78/100\n",
            "38/38 [==============================] - 4s 108ms/step - loss: 0.0012 - accuracy: 0.0017\n",
            "Epoch 79/100\n",
            "38/38 [==============================] - 4s 107ms/step - loss: 0.0010 - accuracy: 0.0017\n",
            "Epoch 80/100\n",
            "38/38 [==============================] - 4s 107ms/step - loss: 0.0010 - accuracy: 0.0017\n",
            "Epoch 81/100\n",
            "38/38 [==============================] - 4s 107ms/step - loss: 0.0012 - accuracy: 0.0017\n",
            "Epoch 82/100\n",
            "38/38 [==============================] - 4s 107ms/step - loss: 0.0012 - accuracy: 0.0017\n",
            "Epoch 83/100\n",
            "38/38 [==============================] - 4s 107ms/step - loss: 9.7737e-04 - accuracy: 0.0017\n",
            "Epoch 84/100\n",
            "38/38 [==============================] - 4s 105ms/step - loss: 9.5367e-04 - accuracy: 0.0017\n",
            "Epoch 85/100\n",
            "38/38 [==============================] - 4s 105ms/step - loss: 0.0011 - accuracy: 0.0017\n",
            "Epoch 86/100\n",
            "38/38 [==============================] - 4s 106ms/step - loss: 0.0010 - accuracy: 0.0017\n",
            "Epoch 87/100\n",
            "38/38 [==============================] - 4s 106ms/step - loss: 0.0011 - accuracy: 0.0017\n",
            "Epoch 88/100\n",
            "38/38 [==============================] - 4s 107ms/step - loss: 9.8181e-04 - accuracy: 0.0017\n",
            "Epoch 89/100\n",
            "38/38 [==============================] - 4s 107ms/step - loss: 0.0010 - accuracy: 0.0017\n",
            "Epoch 90/100\n",
            "38/38 [==============================] - 4s 105ms/step - loss: 9.2698e-04 - accuracy: 0.0017\n",
            "Epoch 91/100\n",
            "38/38 [==============================] - 4s 105ms/step - loss: 0.0010 - accuracy: 0.0017\n",
            "Epoch 92/100\n",
            "38/38 [==============================] - 4s 105ms/step - loss: 0.0011 - accuracy: 0.0017\n",
            "Epoch 93/100\n",
            "38/38 [==============================] - 4s 105ms/step - loss: 0.0010 - accuracy: 0.0017\n",
            "Epoch 94/100\n",
            "38/38 [==============================] - 4s 110ms/step - loss: 9.7450e-04 - accuracy: 0.0017\n",
            "Epoch 95/100\n",
            "38/38 [==============================] - 4s 106ms/step - loss: 9.8897e-04 - accuracy: 0.0017\n",
            "Epoch 96/100\n",
            "38/38 [==============================] - 4s 106ms/step - loss: 0.0011 - accuracy: 0.0017\n",
            "Epoch 97/100\n",
            "38/38 [==============================] - 4s 106ms/step - loss: 9.6713e-04 - accuracy: 0.0017\n",
            "Epoch 98/100\n",
            "38/38 [==============================] - 4s 108ms/step - loss: 9.7813e-04 - accuracy: 0.0017\n",
            "Epoch 99/100\n",
            "38/38 [==============================] - 4s 108ms/step - loss: 9.7578e-04 - accuracy: 0.0017\n",
            "Epoch 100/100\n",
            "38/38 [==============================] - 4s 107ms/step - loss: 0.0011 - accuracy: 0.0017\n"
          ],
          "name": "stdout"
        },
        {
          "output_type": "execute_result",
          "data": {
            "text/plain": [
              "<tensorflow.python.keras.callbacks.History at 0x7f53d55a3780>"
            ]
          },
          "metadata": {
            "tags": []
          },
          "execution_count": 25
        }
      ]
    },
    {
      "cell_type": "markdown",
      "metadata": {
        "id": "jZClMgzmrlCg"
      },
      "source": [
        "## Evaluar modelo con datos de prueba"
      ]
    },
    {
      "cell_type": "code",
      "metadata": {
        "id": "TFf1MyvSrp--",
        "outputId": "485128fe-6859-49fe-c67d-56926332dd90",
        "colab": {
          "base_uri": "https://localhost:8080/",
          "height": 295
        }
      },
      "source": [
        "nombreColumna = 'Open'\n",
        "# concatena dataset de entrenamiento y prueba\n",
        "dataset_total = pd.concat((dataset_train[nombreColumna], dataset_test[nombreColumna]), axis = 0)\n",
        "indiceInicialEntrenamiento = len(dataset_total) - len(dataset_test) - periodosPasados\n",
        "\n",
        "# se utilizan los ultimos registros del año anterior para predecir el primer mes futuro  \n",
        "inputs = dataset_total[indiceInicialEntrenamiento:].values\n",
        "inputs = inputs.reshape(-1,1) # se agrega una columna adicional\n",
        "inputs = sc.transform(inputs) # se escalan los valores\n",
        "X_test = []\n",
        "\n",
        "cantidadRegistrosPrueba = len(dataset_test)\n",
        "\n",
        "for i in range(periodosPasados, cantidadRegistrosPrueba):\n",
        "    X_test.append(inputs[i-periodosPasados:i, 0])\n",
        "X_test = np.array(X_test)\n",
        "X_test = np.reshape(X_test, (X_test.shape[0], X_test.shape[1], 1))\n",
        "\n",
        "# prediccion con el modelo generado\n",
        "predicted_stock_price = regressor.predict(X_test)\n",
        "\n",
        "# se regresan al valor original los datos transformados en las predicciones\n",
        "predicted_stock_price = sc.inverse_transform(predicted_stock_price)\n",
        "\n",
        "# Visualizar los Resultados\n",
        "plt.plot(real_stock_price, color = 'red', label = 'Precio Real de la Accion de Google')\n",
        "plt.plot(predicted_stock_price, color = 'blue', label = 'Precio Predicho de la Accion de Google')\n",
        "plt.title(\"Prediccion con una RNR del valor de las acciones de Google\")\n",
        "plt.xlabel(\"Fecha\")\n",
        "plt.ylabel(\"Precio de la accion de Google\")\n",
        "plt.legend()\n",
        "plt.show()"
      ],
      "execution_count": 26,
      "outputs": [
        {
          "output_type": "display_data",
          "data": {
            "image/png": "[encoded data removed]",
            "text/plain": [
              "<Figure size 432x288 with 1 Axes>"
            ]
          },
          "metadata": {
            "tags": [],
            "needs_background": "light"
          }
        }
      ]
    }
  ]
}