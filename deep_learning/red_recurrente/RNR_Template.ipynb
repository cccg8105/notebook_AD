{
  "nbformat": 4,
  "nbformat_minor": 0,
  "metadata": {
    "colab": {
      "name": "RNR_Template.ipynb",
      "provenance": [],
      "authorship_tag": "ABX9TyN5x8TxcMrOnmnA/E0j7qnk",
      "include_colab_link": true
    },
    "kernelspec": {
      "name": "python3",
      "display_name": "Python 3"
    }
  },
  "cells": [
    {
      "cell_type": "markdown",
      "metadata": {
        "id": "view-in-github",
        "colab_type": "text"
      },
      "source": [
        "<a href=\"https://colab.research.google.com/github/cccg8105/notebook_AD/blob/deep_learning/deep_learning/red_recurrente/RNR_Template.ipynb\" target=\"_parent\"><img src=\"https://colab.research.google.com/assets/colab-badge.svg\" alt=\"Open In Colab\"/></a>"
      ]
    },
    {
      "cell_type": "markdown",
      "metadata": {
        "id": "idm3XzwN9Lmr"
      },
      "source": [
        "# Red neuronal recurrente"
      ]
    },
    {
      "cell_type": "markdown",
      "metadata": {
        "id": "FwwjX5B2UVbz"
      },
      "source": [
        "## Instalación de keras"
      ]
    },
    {
      "cell_type": "code",
      "metadata": {
        "id": "k-03ehFC8_9S",
        "outputId": "b1e9a773-72d7-42fe-8879-cafc5a804d1f",
        "colab": {
          "base_uri": "https://localhost:8080/"
        }
      },
      "source": [
        "pip install --upgrade keras"
      ],
      "execution_count": 1,
      "outputs": [
        {
          "output_type": "stream",
          "text": [
            "Requirement already up-to-date: keras in /usr/local/lib/python3.6/dist-packages (2.4.3)\n",
            "Requirement already satisfied, skipping upgrade: pyyaml in /usr/local/lib/python3.6/dist-packages (from keras) (3.13)\n",
            "Requirement already satisfied, skipping upgrade: h5py in /usr/local/lib/python3.6/dist-packages (from keras) (2.10.0)\n",
            "Requirement already satisfied, skipping upgrade: scipy>=0.14 in /usr/local/lib/python3.6/dist-packages (from keras) (1.4.1)\n",
            "Requirement already satisfied, skipping upgrade: numpy>=1.9.1 in /usr/local/lib/python3.6/dist-packages (from keras) (1.18.5)\n",
            "Requirement already satisfied, skipping upgrade: six in /usr/local/lib/python3.6/dist-packages (from h5py->keras) (1.15.0)\n"
          ],
          "name": "stdout"
        }
      ]
    },
    {
      "cell_type": "markdown",
      "metadata": {
        "id": "uQ-TF1evUmPq"
      },
      "source": [
        "## Importar conjunto de datos"
      ]
    },
    {
      "cell_type": "code",
      "metadata": {
        "id": "wXj9-fcVVdHw",
        "outputId": "73c74c96-c4ca-4484-8f54-a0954b640dd7",
        "colab": {
          "base_uri": "https://localhost:8080/",
          "height": 221
        }
      },
      "source": [
        "import numpy as np\n",
        "import pandas as pd\n",
        "import matplotlib.pyplot as plt\n",
        "\n",
        "dataset_train = pd.read_csv(\"https://raw.githubusercontent.com/cccg8105/deeplearning-az/master/datasets/Part%203%20-%20Recurrent%20Neural%20Networks%20(RNN)/Google_Stock_Price_Train.csv\")\n",
        "training_set  = dataset_train.iloc[:, 1:2].values # obtiene solo la columna \"Open\" como dataframe y obtiene los valores\n",
        "\n",
        "dataset_train.head(5)\n"
      ],
      "execution_count": 14,
      "outputs": [
        {
          "output_type": "stream",
          "text": [
            "1258\n"
          ],
          "name": "stdout"
        },
        {
          "output_type": "execute_result",
          "data": {
            "text/html": [
              "<div>\n",
              "<style scoped>\n",
              "    .dataframe tbody tr th:only-of-type {\n",
              "        vertical-align: middle;\n",
              "    }\n",
              "\n",
              "    .dataframe tbody tr th {\n",
              "        vertical-align: top;\n",
              "    }\n",
              "\n",
              "    .dataframe thead th {\n",
              "        text-align: right;\n",
              "    }\n",
              "</style>\n",
              "<table border=\"1\" class=\"dataframe\">\n",
              "  <thead>\n",
              "    <tr style=\"text-align: right;\">\n",
              "      <th></th>\n",
              "      <th>Date</th>\n",
              "      <th>Open</th>\n",
              "      <th>High</th>\n",
              "      <th>Low</th>\n",
              "      <th>Close</th>\n",
              "      <th>Volume</th>\n",
              "    </tr>\n",
              "  </thead>\n",
              "  <tbody>\n",
              "    <tr>\n",
              "      <th>0</th>\n",
              "      <td>1/3/2012</td>\n",
              "      <td>325.25</td>\n",
              "      <td>332.83</td>\n",
              "      <td>324.97</td>\n",
              "      <td>663.59</td>\n",
              "      <td>7,380,500</td>\n",
              "    </tr>\n",
              "    <tr>\n",
              "      <th>1</th>\n",
              "      <td>1/4/2012</td>\n",
              "      <td>331.27</td>\n",
              "      <td>333.87</td>\n",
              "      <td>329.08</td>\n",
              "      <td>666.45</td>\n",
              "      <td>5,749,400</td>\n",
              "    </tr>\n",
              "    <tr>\n",
              "      <th>2</th>\n",
              "      <td>1/5/2012</td>\n",
              "      <td>329.83</td>\n",
              "      <td>330.75</td>\n",
              "      <td>326.89</td>\n",
              "      <td>657.21</td>\n",
              "      <td>6,590,300</td>\n",
              "    </tr>\n",
              "    <tr>\n",
              "      <th>3</th>\n",
              "      <td>1/6/2012</td>\n",
              "      <td>328.34</td>\n",
              "      <td>328.77</td>\n",
              "      <td>323.68</td>\n",
              "      <td>648.24</td>\n",
              "      <td>5,405,900</td>\n",
              "    </tr>\n",
              "    <tr>\n",
              "      <th>4</th>\n",
              "      <td>1/9/2012</td>\n",
              "      <td>322.04</td>\n",
              "      <td>322.29</td>\n",
              "      <td>309.46</td>\n",
              "      <td>620.76</td>\n",
              "      <td>11,688,800</td>\n",
              "    </tr>\n",
              "  </tbody>\n",
              "</table>\n",
              "</div>"
            ],
            "text/plain": [
              "       Date    Open    High     Low   Close      Volume\n",
              "0  1/3/2012  325.25  332.83  324.97  663.59   7,380,500\n",
              "1  1/4/2012  331.27  333.87  329.08  666.45   5,749,400\n",
              "2  1/5/2012  329.83  330.75  326.89  657.21   6,590,300\n",
              "3  1/6/2012  328.34  328.77  323.68  648.24   5,405,900\n",
              "4  1/9/2012  322.04  322.29  309.46  620.76  11,688,800"
            ]
          },
          "metadata": {
            "tags": []
          },
          "execution_count": 14
        }
      ]
    },
    {
      "cell_type": "markdown",
      "metadata": {
        "id": "5-p02-upWlBi"
      },
      "source": [
        "## Preprocesado de datos"
      ]
    },
    {
      "cell_type": "markdown",
      "metadata": {
        "id": "FohZFf4IXJqE"
      },
      "source": [
        "### Escalado de variables"
      ]
    },
    {
      "cell_type": "code",
      "metadata": {
        "id": "pizn_jRQWn8h",
        "outputId": "1ca13b10-68fd-4a4a-b27d-0db4ca4d4549",
        "colab": {
          "base_uri": "https://localhost:8080/"
        }
      },
      "source": [
        "from sklearn.preprocessing import MinMaxScaler\n",
        "\n",
        "# se escala entre valores de 0 y 1\n",
        "sc = MinMaxScaler(feature_range = (0, 1))\n",
        "training_set_scaled = sc.fit_transform(training_set)\n",
        "\n",
        "print(training_set)\n",
        "print(training_set_scaled)"
      ],
      "execution_count": 10,
      "outputs": [
        {
          "output_type": "stream",
          "text": [
            "[[325.25]\n",
            " [331.27]\n",
            " [329.83]\n",
            " ...\n",
            " [793.7 ]\n",
            " [783.33]\n",
            " [782.75]]\n",
            "[[0.08581368]\n",
            " [0.09701243]\n",
            " [0.09433366]\n",
            " ...\n",
            " [0.95725128]\n",
            " [0.93796041]\n",
            " [0.93688146]]\n"
          ],
          "name": "stdout"
        }
      ]
    },
    {
      "cell_type": "markdown",
      "metadata": {
        "id": "epai3NKFXxw5"
      },
      "source": [
        "### Modificar estructura de datos"
      ]
    },
    {
      "cell_type": "markdown",
      "metadata": {
        "id": "D5QXVjHVdfhO"
      },
      "source": [
        "Se utilizan los datos de 60 dias pasados para predecir un día futuro. De acuerdo a esto se separan en arreglos diferentes los datos de entrenamiento y prueba"
      ]
    },
    {
      "cell_type": "code",
      "metadata": {
        "id": "4HhOWXHBX5H5",
        "outputId": "8f5dd114-1a93-4204-c89d-a93f39e28211",
        "colab": {
          "base_uri": "https://localhost:8080/"
        }
      },
      "source": [
        "X_train = []\n",
        "y_train = []\n",
        "\n",
        "periodosPasados = 60\n",
        "periodosTotales = len(training_set)\n",
        "\n",
        "for i in range(periodosPasados, periodosTotales):\n",
        "    X_train.append(training_set_scaled[i-periodosPasados:i, 0])\n",
        "    y_train.append(training_set_scaled[i, 0])\n",
        "X_train, y_train = np.array(X_train), np.array(y_train)\n",
        "\n",
        "# Se agrega nueva dimension a la matriz en caso de colocar mas variables al modelo\n",
        "X_train = np.reshape(X_train, (X_train.shape[0], X_train.shape[1], 1))\n",
        "\n",
        "print(X_train)\n",
        "print(X_train.shape[1])"
      ],
      "execution_count": 17,
      "outputs": [
        {
          "output_type": "stream",
          "text": [
            "[[[0.08581368]\n",
            "  [0.09701243]\n",
            "  [0.09433366]\n",
            "  ...\n",
            "  [0.07846566]\n",
            "  [0.08034452]\n",
            "  [0.08497656]]\n",
            "\n",
            " [[0.09701243]\n",
            "  [0.09433366]\n",
            "  [0.09156187]\n",
            "  ...\n",
            "  [0.08034452]\n",
            "  [0.08497656]\n",
            "  [0.08627874]]\n",
            "\n",
            " [[0.09433366]\n",
            "  [0.09156187]\n",
            "  [0.07984225]\n",
            "  ...\n",
            "  [0.08497656]\n",
            "  [0.08627874]\n",
            "  [0.08471612]]\n",
            "\n",
            " ...\n",
            "\n",
            " [[0.92106928]\n",
            "  [0.92438053]\n",
            "  [0.93048218]\n",
            "  ...\n",
            "  [0.95475854]\n",
            "  [0.95204256]\n",
            "  [0.95163331]]\n",
            "\n",
            " [[0.92438053]\n",
            "  [0.93048218]\n",
            "  [0.9299055 ]\n",
            "  ...\n",
            "  [0.95204256]\n",
            "  [0.95163331]\n",
            "  [0.95725128]]\n",
            "\n",
            " [[0.93048218]\n",
            "  [0.9299055 ]\n",
            "  [0.93113327]\n",
            "  ...\n",
            "  [0.95163331]\n",
            "  [0.95725128]\n",
            "  [0.93796041]]]\n",
            "60\n"
          ],
          "name": "stdout"
        }
      ]
    },
    {
      "cell_type": "markdown",
      "metadata": {
        "id": "Kg6m8KHLbSHE"
      },
      "source": [
        "## Construcción LSTM apilado"
      ]
    },
    {
      "cell_type": "code",
      "metadata": {
        "id": "sZ6IO-EobUhL"
      },
      "source": [
        "from keras.models import Sequential\n",
        "from keras.layers import Dense, LSTM, Dropout\n",
        "\n",
        "regressor = Sequential()\n",
        "\n",
        "# Primera capa de LSTM y la regulariación por Dropout\n",
        "nodos = 50\n",
        "secuenciaRetorno = True # Devuelve la neuronas LSTM, para reutilizarlas en las siguientes capas\n",
        "tamanioPeriodoPrueba = X_train.shape[1]\n",
        "cantidadCaracteristicas = 1\n",
        "\n",
        "regressor.add(LSTM(units = nodos, return_sequences = secuenciaRetorno, input_shape = (tamanioPeriodoPrueba, cantidadCaracteristicas) ))\n",
        "ratioDesactivacionNodos = 0.2\n",
        "regressor.add(Dropout(ratioDesactivacionNodos))\n",
        "\n",
        "# Segunda capa de LSTM y la regulariación por Dropout\n",
        "regressor.add(LSTM(units = nodos, return_sequences = secuenciaRetorno ))\n",
        "ratioDesactivacionNodos2 = 0.2\n",
        "regressor.add(Dropout(ratioDesactivacionNodos2))\n",
        "\n",
        "# Tercera capa de LSTM y la regulariación por Dropout\n",
        "ratioDesactivacionNodos3 = 0.2\n",
        "regressor.add(LSTM(units = nodos, return_sequences = secuenciaRetorno ))\n",
        "regressor.add(Dropout(ratioDesactivacionNodos3))\n",
        "\n",
        "# Cuarta capa de LSTM y la regulariación por Dropout\n",
        "ratioDesactivacionNodos4 = 0.2\n",
        "regressor.add(LSTM(units = nodos))\n",
        "regressor.add(Dropout(ratioDesactivacionNodos4))\n",
        "\n",
        "# Capa de salida\n",
        "regressor.add(Dense(units = 1))"
      ],
      "execution_count": 18,
      "outputs": []
    },
    {
      "cell_type": "markdown",
      "metadata": {
        "id": "1ovDst1SoCCm"
      },
      "source": [
        "## Compilación"
      ]
    },
    {
      "cell_type": "code",
      "metadata": {
        "id": "vraFu8EEoE8p"
      },
      "source": [
        "optimizador = 'adam'\n",
        "funcionPerdida = 'mean_squared_error'\n",
        "metricas = [\"accuracy\"]\n",
        "regressor.compile(optimizer = optimizador, loss = funcionPerdida, metrics = metricas)"
      ],
      "execution_count": 21,
      "outputs": []
    },
    {
      "cell_type": "markdown",
      "metadata": {
        "id": "tGum-p01oiN9"
      },
      "source": [
        "## Entrenamiento"
      ]
    },
    {
      "cell_type": "code",
      "metadata": {
        "id": "RttoDfvjokRz",
        "outputId": "ceb997ce-0f1f-4f17-d06b-6b5a00e81c27",
        "colab": {
          "base_uri": "https://localhost:8080/"
        }
      },
      "source": [
        "epocas = 100\n",
        "tamanioLote = 32\n",
        "regressor.fit(X_train, y_train, epochs = epocas, batch_size = tamanioLote)"
      ],
      "execution_count": 20,
      "outputs": [
        {
          "output_type": "stream",
          "text": [
            "Epoch 1/100\n",
            "38/38 [==============================] - 4s 102ms/step - loss: 0.0426\n",
            "Epoch 2/100\n",
            "38/38 [==============================] - 4s 104ms/step - loss: 0.0064\n",
            "Epoch 3/100\n",
            "38/38 [==============================] - 4s 106ms/step - loss: 0.0054\n",
            "Epoch 4/100\n",
            "38/38 [==============================] - 4s 104ms/step - loss: 0.0052\n",
            "Epoch 5/100\n",
            "38/38 [==============================] - 4s 105ms/step - loss: 0.0053\n",
            "Epoch 6/100\n",
            "38/38 [==============================] - 4s 105ms/step - loss: 0.0047\n",
            "Epoch 7/100\n",
            "38/38 [==============================] - 4s 104ms/step - loss: 0.0046\n",
            "Epoch 8/100\n",
            "38/38 [==============================] - 4s 104ms/step - loss: 0.0042\n",
            "Epoch 9/100\n",
            "38/38 [==============================] - 4s 105ms/step - loss: 0.0039\n",
            "Epoch 10/100\n",
            "38/38 [==============================] - 4s 103ms/step - loss: 0.0043\n",
            "Epoch 11/100\n",
            "38/38 [==============================] - 4s 106ms/step - loss: 0.0044\n",
            "Epoch 12/100\n",
            "38/38 [==============================] - 4s 108ms/step - loss: 0.0041\n",
            "Epoch 13/100\n",
            "38/38 [==============================] - 4s 108ms/step - loss: 0.0037\n",
            "Epoch 14/100\n",
            "38/38 [==============================] - 4s 104ms/step - loss: 0.0040\n",
            "Epoch 15/100\n",
            "38/38 [==============================] - 4s 105ms/step - loss: 0.0041\n",
            "Epoch 16/100\n",
            "38/38 [==============================] - 4s 104ms/step - loss: 0.0032\n",
            "Epoch 17/100\n",
            "38/38 [==============================] - 4s 105ms/step - loss: 0.0039\n",
            "Epoch 18/100\n",
            "38/38 [==============================] - 4s 106ms/step - loss: 0.0038\n",
            "Epoch 19/100\n",
            "38/38 [==============================] - 4s 105ms/step - loss: 0.0035\n",
            "Epoch 20/100\n",
            "38/38 [==============================] - 4s 106ms/step - loss: 0.0033\n",
            "Epoch 21/100\n",
            "38/38 [==============================] - 4s 109ms/step - loss: 0.0035\n",
            "Epoch 22/100\n",
            "38/38 [==============================] - 4s 107ms/step - loss: 0.0042\n",
            "Epoch 23/100\n",
            "38/38 [==============================] - 4s 107ms/step - loss: 0.0036\n",
            "Epoch 24/100\n",
            "38/38 [==============================] - 4s 107ms/step - loss: 0.0032\n",
            "Epoch 25/100\n",
            "38/38 [==============================] - 4s 107ms/step - loss: 0.0032\n",
            "Epoch 26/100\n",
            "38/38 [==============================] - 4s 107ms/step - loss: 0.0031\n",
            "Epoch 27/100\n",
            "38/38 [==============================] - 4s 107ms/step - loss: 0.0030\n",
            "Epoch 28/100\n",
            "38/38 [==============================] - 4s 107ms/step - loss: 0.0030\n",
            "Epoch 29/100\n",
            "38/38 [==============================] - 4s 106ms/step - loss: 0.0032\n",
            "Epoch 30/100\n",
            "38/38 [==============================] - 4s 106ms/step - loss: 0.0027\n",
            "Epoch 31/100\n",
            "38/38 [==============================] - 4s 106ms/step - loss: 0.0031\n",
            "Epoch 32/100\n",
            "38/38 [==============================] - 4s 106ms/step - loss: 0.0030\n",
            "Epoch 33/100\n",
            "38/38 [==============================] - 4s 107ms/step - loss: 0.0030\n",
            "Epoch 34/100\n",
            "38/38 [==============================] - 4s 107ms/step - loss: 0.0029\n",
            "Epoch 35/100\n",
            "38/38 [==============================] - 4s 106ms/step - loss: 0.0026\n",
            "Epoch 36/100\n",
            "38/38 [==============================] - 4s 106ms/step - loss: 0.0028\n",
            "Epoch 37/100\n",
            "38/38 [==============================] - 4s 105ms/step - loss: 0.0025\n",
            "Epoch 38/100\n",
            "38/38 [==============================] - 4s 106ms/step - loss: 0.0028\n",
            "Epoch 39/100\n",
            "38/38 [==============================] - 4s 106ms/step - loss: 0.0027\n",
            "Epoch 40/100\n",
            "38/38 [==============================] - 4s 105ms/step - loss: 0.0028\n",
            "Epoch 41/100\n",
            "38/38 [==============================] - 4s 106ms/step - loss: 0.0032\n",
            "Epoch 42/100\n",
            "38/38 [==============================] - 4s 107ms/step - loss: 0.0028\n",
            "Epoch 43/100\n",
            "38/38 [==============================] - 4s 107ms/step - loss: 0.0031\n",
            "Epoch 44/100\n",
            "38/38 [==============================] - 4s 106ms/step - loss: 0.0029\n",
            "Epoch 45/100\n",
            "38/38 [==============================] - 4s 106ms/step - loss: 0.0024\n",
            "Epoch 46/100\n",
            "38/38 [==============================] - 4s 108ms/step - loss: 0.0025\n",
            "Epoch 47/100\n",
            "38/38 [==============================] - 4s 108ms/step - loss: 0.0025\n",
            "Epoch 48/100\n",
            "38/38 [==============================] - 4s 108ms/step - loss: 0.0024\n",
            "Epoch 49/100\n",
            "38/38 [==============================] - 4s 108ms/step - loss: 0.0024\n",
            "Epoch 50/100\n",
            "38/38 [==============================] - 4s 108ms/step - loss: 0.0025\n",
            "Epoch 51/100\n",
            "38/38 [==============================] - 4s 108ms/step - loss: 0.0023\n",
            "Epoch 52/100\n",
            "38/38 [==============================] - 4s 107ms/step - loss: 0.0025\n",
            "Epoch 53/100\n",
            "38/38 [==============================] - 4s 107ms/step - loss: 0.0023\n",
            "Epoch 54/100\n",
            "38/38 [==============================] - 4s 108ms/step - loss: 0.0023\n",
            "Epoch 55/100\n",
            "38/38 [==============================] - 4s 108ms/step - loss: 0.0022\n",
            "Epoch 56/100\n",
            "38/38 [==============================] - 4s 109ms/step - loss: 0.0022\n",
            "Epoch 57/100\n",
            "38/38 [==============================] - 4s 107ms/step - loss: 0.0022\n",
            "Epoch 58/100\n",
            "38/38 [==============================] - 4s 109ms/step - loss: 0.0019\n",
            "Epoch 59/100\n",
            "38/38 [==============================] - 4s 109ms/step - loss: 0.0023\n",
            "Epoch 60/100\n",
            "38/38 [==============================] - 4s 109ms/step - loss: 0.0024\n",
            "Epoch 61/100\n",
            "38/38 [==============================] - 4s 110ms/step - loss: 0.0023\n",
            "Epoch 62/100\n",
            "38/38 [==============================] - 4s 109ms/step - loss: 0.0021\n",
            "Epoch 63/100\n",
            "38/38 [==============================] - 4s 108ms/step - loss: 0.0021\n",
            "Epoch 64/100\n",
            "38/38 [==============================] - 4s 109ms/step - loss: 0.0018\n",
            "Epoch 65/100\n",
            "38/38 [==============================] - 4s 110ms/step - loss: 0.0021\n",
            "Epoch 66/100\n",
            "38/38 [==============================] - 4s 108ms/step - loss: 0.0021\n",
            "Epoch 67/100\n",
            "38/38 [==============================] - 4s 108ms/step - loss: 0.0019\n",
            "Epoch 68/100\n",
            "38/38 [==============================] - 4s 108ms/step - loss: 0.0019\n",
            "Epoch 69/100\n",
            "38/38 [==============================] - 4s 108ms/step - loss: 0.0023\n",
            "Epoch 70/100\n",
            "38/38 [==============================] - 4s 108ms/step - loss: 0.0020\n",
            "Epoch 71/100\n",
            "38/38 [==============================] - 4s 108ms/step - loss: 0.0019\n",
            "Epoch 72/100\n",
            "38/38 [==============================] - 4s 107ms/step - loss: 0.0020\n",
            "Epoch 73/100\n",
            "38/38 [==============================] - 4s 109ms/step - loss: 0.0019\n",
            "Epoch 74/100\n",
            "38/38 [==============================] - 4s 107ms/step - loss: 0.0019\n",
            "Epoch 75/100\n",
            "38/38 [==============================] - 4s 108ms/step - loss: 0.0018\n",
            "Epoch 76/100\n",
            "38/38 [==============================] - 4s 107ms/step - loss: 0.0019\n",
            "Epoch 77/100\n",
            "38/38 [==============================] - 4s 108ms/step - loss: 0.0019\n",
            "Epoch 78/100\n",
            "38/38 [==============================] - 4s 108ms/step - loss: 0.0018\n",
            "Epoch 79/100\n",
            "38/38 [==============================] - 4s 107ms/step - loss: 0.0018\n",
            "Epoch 80/100\n",
            "38/38 [==============================] - 4s 109ms/step - loss: 0.0015\n",
            "Epoch 81/100\n",
            "38/38 [==============================] - 4s 107ms/step - loss: 0.0016\n",
            "Epoch 82/100\n",
            "38/38 [==============================] - 4s 107ms/step - loss: 0.0017\n",
            "Epoch 83/100\n",
            "38/38 [==============================] - 4s 109ms/step - loss: 0.0017\n",
            "Epoch 84/100\n",
            "38/38 [==============================] - 4s 109ms/step - loss: 0.0018\n",
            "Epoch 85/100\n",
            "38/38 [==============================] - 4s 108ms/step - loss: 0.0015\n",
            "Epoch 86/100\n",
            "38/38 [==============================] - 4s 111ms/step - loss: 0.0017\n",
            "Epoch 87/100\n",
            "38/38 [==============================] - 4s 112ms/step - loss: 0.0019\n",
            "Epoch 88/100\n",
            "38/38 [==============================] - 4s 109ms/step - loss: 0.0017\n",
            "Epoch 89/100\n",
            "38/38 [==============================] - 4s 108ms/step - loss: 0.0017\n",
            "Epoch 90/100\n",
            "38/38 [==============================] - 4s 108ms/step - loss: 0.0016\n",
            "Epoch 91/100\n",
            "38/38 [==============================] - 4s 109ms/step - loss: 0.0015\n",
            "Epoch 92/100\n",
            "38/38 [==============================] - 4s 109ms/step - loss: 0.0015\n",
            "Epoch 93/100\n",
            "38/38 [==============================] - 4s 110ms/step - loss: 0.0016\n",
            "Epoch 94/100\n",
            "38/38 [==============================] - 4s 112ms/step - loss: 0.0016\n",
            "Epoch 95/100\n",
            "38/38 [==============================] - 4s 108ms/step - loss: 0.0016\n",
            "Epoch 96/100\n",
            "38/38 [==============================] - 4s 108ms/step - loss: 0.0015\n",
            "Epoch 97/100\n",
            "38/38 [==============================] - 4s 109ms/step - loss: 0.0015\n",
            "Epoch 98/100\n",
            "38/38 [==============================] - 4s 107ms/step - loss: 0.0017\n",
            "Epoch 99/100\n",
            "38/38 [==============================] - 4s 107ms/step - loss: 0.0015\n",
            "Epoch 100/100\n",
            "38/38 [==============================] - 4s 108ms/step - loss: 0.0015\n"
          ],
          "name": "stdout"
        },
        {
          "output_type": "execute_result",
          "data": {
            "text/plain": [
              "<tensorflow.python.keras.callbacks.History at 0x7f53d6a9dd68>"
            ]
          },
          "metadata": {
            "tags": []
          },
          "execution_count": 20
        }
      ]
    },
    {
      "cell_type": "markdown",
      "metadata": {
        "id": "jZClMgzmrlCg"
      },
      "source": [
        "## Evaluar modelo con datos de prueba"
      ]
    },
    {
      "cell_type": "code",
      "metadata": {
        "id": "TFf1MyvSrp--",
        "outputId": "807ae103-d037-49d7-db69-7b2bb7fd5194",
        "colab": {
          "base_uri": "https://localhost:8080/",
          "height": 295
        }
      },
      "source": [
        "dataset_test = pd.read_csv('https://raw.githubusercontent.com/cccg8105/deeplearning-az/master/datasets/Part%203%20-%20Recurrent%20Neural%20Networks%20(RNN)/Google_Stock_Price_Test.csv')\n",
        "real_stock_price = dataset_test.iloc[:, 1:2].values\n",
        "\n",
        "dataset_total = pd.concat((dataset_train['Open'], dataset_test['Open']), axis = 0)\n",
        "inputs = dataset_total[len(dataset_total) - len(dataset_test) - 60:].values\n",
        "inputs = inputs.reshape(-1,1)\n",
        "inputs = sc.transform(inputs)\n",
        "X_test = []\n",
        "for i in range(60, 80):\n",
        "    X_test.append(inputs[i-60:i, 0])\n",
        "X_test = np.array(X_test)\n",
        "X_test = np.reshape(X_test, (X_test.shape[0], X_test.shape[1], 1))\n",
        "\n",
        "predicted_stock_price = regressor.predict(X_test)\n",
        "predicted_stock_price = sc.inverse_transform(predicted_stock_price)\n",
        "\n",
        "# Visualizar los Resultados\n",
        "plt.plot(real_stock_price, color = 'red', label = 'Precio Real de la Accion de Google')\n",
        "plt.plot(predicted_stock_price, color = 'blue', label = 'Precio Predicho de la Accion de Google')\n",
        "plt.title(\"Prediccion con una RNR del valor de las acciones de Google\")\n",
        "plt.xlabel(\"Fecha\")\n",
        "plt.ylabel(\"Precio de la accion de Google\")\n",
        "plt.legend()\n",
        "plt.show()"
      ],
      "execution_count": 23,
      "outputs": [
        {
          "output_type": "display_data",
          "data": {
            "image/png": "[encoded data removed]",
            "text/plain": [
              "<Figure size 432x288 with 1 Axes>"
            ]
          },
          "metadata": {
            "tags": [],
            "needs_background": "light"
          }
        }
      ]
    }
  ]
}