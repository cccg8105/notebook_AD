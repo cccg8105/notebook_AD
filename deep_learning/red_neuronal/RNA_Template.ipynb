{
  "nbformat": 4,
  "nbformat_minor": 0,
  "metadata": {
    "colab": {
      "name": "RNA_Template",
      "provenance": [],
      "authorship_tag": "ABX9TyNqchAar7Bkdfix2A1LL0zH",
      "include_colab_link": true
    },
    "kernelspec": {
      "name": "python3",
      "display_name": "Python 3"
    }
  },
  "cells": [
    {
      "cell_type": "markdown",
      "metadata": {
        "id": "view-in-github",
        "colab_type": "text"
      },
      "source": [
        "<a href=\"https://colab.research.google.com/github/cccg8105/notebook_AD/blob/deep_learning/deep_learning/red_neuronal/RNA_Template.ipynb\" target=\"_parent\"><img src=\"https://colab.research.google.com/assets/colab-badge.svg\" alt=\"Open In Colab\"/></a>"
      ]
    },
    {
      "cell_type": "markdown",
      "metadata": {
        "id": "iR0DA3dJY2nG"
      },
      "source": [
        "\n",
        "# Red Neuronal Artificial (RNA)"
      ]
    },
    {
      "cell_type": "markdown",
      "metadata": {
        "id": "af8VFu75ZD3f"
      },
      "source": [
        "## Instalar dependendias"
      ]
    },
    {
      "cell_type": "code",
      "metadata": {
        "id": "y5IS_myMVCBp",
        "outputId": "b6be1ba3-167b-4a32-84b7-a4ac7eb0c441",
        "colab": {
          "base_uri": "https://localhost:8080/"
        }
      },
      "source": [
        "!pip install sklearn\n",
        "!pip install --upgrade --no-deps git+git://github.com/Theano/Theano.git\n",
        "!pip install keras\n",
        "!pip install tensorflow"
      ],
      "execution_count": null,
      "outputs": [
        {
          "output_type": "stream",
          "text": [
            "Requirement already satisfied: keras in /usr/local/lib/python3.6/dist-packages (2.4.3)\n",
            "Requirement already satisfied: h5py in /usr/local/lib/python3.6/dist-packages (from keras) (2.10.0)\n",
            "Requirement already satisfied: scipy>=0.14 in /usr/local/lib/python3.6/dist-packages (from keras) (1.4.1)\n",
            "Requirement already satisfied: numpy>=1.9.1 in /usr/local/lib/python3.6/dist-packages (from keras) (1.18.5)\n",
            "Requirement already satisfied: pyyaml in /usr/local/lib/python3.6/dist-packages (from keras) (3.13)\n",
            "Requirement already satisfied: six in /usr/local/lib/python3.6/dist-packages (from h5py->keras) (1.15.0)\n",
            "Requirement already satisfied: tensorflow in /usr/local/lib/python3.6/dist-packages (2.3.0)\n",
            "Requirement already satisfied: numpy<1.19.0,>=1.16.0 in /usr/local/lib/python3.6/dist-packages (from tensorflow) (1.18.5)\n",
            "Requirement already satisfied: protobuf>=3.9.2 in /usr/local/lib/python3.6/dist-packages (from tensorflow) (3.12.4)\n",
            "Requirement already satisfied: wrapt>=1.11.1 in /usr/local/lib/python3.6/dist-packages (from tensorflow) (1.12.1)\n",
            "Requirement already satisfied: tensorboard<3,>=2.3.0 in /usr/local/lib/python3.6/dist-packages (from tensorflow) (2.3.0)\n",
            "Requirement already satisfied: google-pasta>=0.1.8 in /usr/local/lib/python3.6/dist-packages (from tensorflow) (0.2.0)\n",
            "Requirement already satisfied: wheel>=0.26 in /usr/local/lib/python3.6/dist-packages (from tensorflow) (0.35.1)\n",
            "Requirement already satisfied: keras-preprocessing<1.2,>=1.1.1 in /usr/local/lib/python3.6/dist-packages (from tensorflow) (1.1.2)\n",
            "Requirement already satisfied: scipy==1.4.1 in /usr/local/lib/python3.6/dist-packages (from tensorflow) (1.4.1)\n",
            "Requirement already satisfied: absl-py>=0.7.0 in /usr/local/lib/python3.6/dist-packages (from tensorflow) (0.10.0)\n",
            "Requirement already satisfied: termcolor>=1.1.0 in /usr/local/lib/python3.6/dist-packages (from tensorflow) (1.1.0)\n",
            "Requirement already satisfied: six>=1.12.0 in /usr/local/lib/python3.6/dist-packages (from tensorflow) (1.15.0)\n",
            "Requirement already satisfied: astunparse==1.6.3 in /usr/local/lib/python3.6/dist-packages (from tensorflow) (1.6.3)\n",
            "Requirement already satisfied: opt-einsum>=2.3.2 in /usr/local/lib/python3.6/dist-packages (from tensorflow) (3.3.0)\n",
            "Requirement already satisfied: tensorflow-estimator<2.4.0,>=2.3.0 in /usr/local/lib/python3.6/dist-packages (from tensorflow) (2.3.0)\n",
            "Requirement already satisfied: h5py<2.11.0,>=2.10.0 in /usr/local/lib/python3.6/dist-packages (from tensorflow) (2.10.0)\n",
            "Requirement already satisfied: grpcio>=1.8.6 in /usr/local/lib/python3.6/dist-packages (from tensorflow) (1.33.2)\n",
            "Requirement already satisfied: gast==0.3.3 in /usr/local/lib/python3.6/dist-packages (from tensorflow) (0.3.3)\n",
            "Requirement already satisfied: setuptools in /usr/local/lib/python3.6/dist-packages (from protobuf>=3.9.2->tensorflow) (50.3.2)\n",
            "Requirement already satisfied: tensorboard-plugin-wit>=1.6.0 in /usr/local/lib/python3.6/dist-packages (from tensorboard<3,>=2.3.0->tensorflow) (1.7.0)\n",
            "Requirement already satisfied: requests<3,>=2.21.0 in /usr/local/lib/python3.6/dist-packages (from tensorboard<3,>=2.3.0->tensorflow) (2.23.0)\n",
            "Requirement already satisfied: google-auth<2,>=1.6.3 in /usr/local/lib/python3.6/dist-packages (from tensorboard<3,>=2.3.0->tensorflow) (1.17.2)\n",
            "Requirement already satisfied: werkzeug>=0.11.15 in /usr/local/lib/python3.6/dist-packages (from tensorboard<3,>=2.3.0->tensorflow) (1.0.1)\n",
            "Requirement already satisfied: google-auth-oauthlib<0.5,>=0.4.1 in /usr/local/lib/python3.6/dist-packages (from tensorboard<3,>=2.3.0->tensorflow) (0.4.2)\n",
            "Requirement already satisfied: markdown>=2.6.8 in /usr/local/lib/python3.6/dist-packages (from tensorboard<3,>=2.3.0->tensorflow) (3.3.3)\n",
            "Requirement already satisfied: idna<3,>=2.5 in /usr/local/lib/python3.6/dist-packages (from requests<3,>=2.21.0->tensorboard<3,>=2.3.0->tensorflow) (2.10)\n",
            "Requirement already satisfied: chardet<4,>=3.0.2 in /usr/local/lib/python3.6/dist-packages (from requests<3,>=2.21.0->tensorboard<3,>=2.3.0->tensorflow) (3.0.4)\n",
            "Requirement already satisfied: certifi>=2017.4.17 in /usr/local/lib/python3.6/dist-packages (from requests<3,>=2.21.0->tensorboard<3,>=2.3.0->tensorflow) (2020.6.20)\n",
            "Requirement already satisfied: urllib3!=1.25.0,!=1.25.1,<1.26,>=1.21.1 in /usr/local/lib/python3.6/dist-packages (from requests<3,>=2.21.0->tensorboard<3,>=2.3.0->tensorflow) (1.24.3)\n",
            "Requirement already satisfied: rsa<5,>=3.1.4; python_version >= \"3\" in /usr/local/lib/python3.6/dist-packages (from google-auth<2,>=1.6.3->tensorboard<3,>=2.3.0->tensorflow) (4.6)\n",
            "Requirement already satisfied: pyasn1-modules>=0.2.1 in /usr/local/lib/python3.6/dist-packages (from google-auth<2,>=1.6.3->tensorboard<3,>=2.3.0->tensorflow) (0.2.8)\n",
            "Requirement already satisfied: cachetools<5.0,>=2.0.0 in /usr/local/lib/python3.6/dist-packages (from google-auth<2,>=1.6.3->tensorboard<3,>=2.3.0->tensorflow) (4.1.1)\n",
            "Requirement already satisfied: requests-oauthlib>=0.7.0 in /usr/local/lib/python3.6/dist-packages (from google-auth-oauthlib<0.5,>=0.4.1->tensorboard<3,>=2.3.0->tensorflow) (1.3.0)\n",
            "Requirement already satisfied: importlib-metadata; python_version < \"3.8\" in /usr/local/lib/python3.6/dist-packages (from markdown>=2.6.8->tensorboard<3,>=2.3.0->tensorflow) (2.0.0)\n",
            "Requirement already satisfied: pyasn1>=0.1.3 in /usr/local/lib/python3.6/dist-packages (from rsa<5,>=3.1.4; python_version >= \"3\"->google-auth<2,>=1.6.3->tensorboard<3,>=2.3.0->tensorflow) (0.4.8)\n",
            "Requirement already satisfied: oauthlib>=3.0.0 in /usr/local/lib/python3.6/dist-packages (from requests-oauthlib>=0.7.0->google-auth-oauthlib<0.5,>=0.4.1->tensorboard<3,>=2.3.0->tensorflow) (3.1.0)\n",
            "Requirement already satisfied: zipp>=0.5 in /usr/local/lib/python3.6/dist-packages (from importlib-metadata; python_version < \"3.8\"->markdown>=2.6.8->tensorboard<3,>=2.3.0->tensorflow) (3.4.0)\n"
          ],
          "name": "stdout"
        }
      ]
    },
    {
      "cell_type": "markdown",
      "metadata": {
        "id": "DUyj_SatZdVN"
      },
      "source": [
        "## Importar conjunto de datos"
      ]
    },
    {
      "cell_type": "code",
      "metadata": {
        "id": "3VLHVlPfZkv_"
      },
      "source": [
        "import numpy as np\n",
        "import matplotlib.pyplot as plt\n",
        "import pandas as pd\n",
        "\n",
        "dataset = pd.read_csv('https://raw.githubusercontent.com/cccg8105/deeplearning-az/master/datasets/Part%201%20-%20Artificial%20Neural%20Networks%20(ANN)/Churn_Modelling.csv')\n",
        "X = dataset.iloc[:, 3:13].values\n",
        "y = dataset.iloc[:, 13].values"
      ],
      "execution_count": null,
      "outputs": []
    },
    {
      "cell_type": "markdown",
      "metadata": {
        "id": "u3jrBmgeaak7"
      },
      "source": [
        "## Preprocesado de datos"
      ]
    },
    {
      "cell_type": "markdown",
      "metadata": {
        "id": "rSWC-WB3bP5u"
      },
      "source": [
        "### Conversión de datos categóricos"
      ]
    },
    {
      "cell_type": "code",
      "metadata": {
        "id": "_ViXj0Prad_w",
        "outputId": "dd408602-694b-49e8-d0f5-d46bf6cb1859",
        "colab": {
          "base_uri": "https://localhost:8080/"
        }
      },
      "source": [
        "from sklearn.preprocessing import LabelEncoder, OneHotEncoder\n",
        "from sklearn.compose import ColumnTransformer\n",
        "\n",
        "labelencoder_X_1 = LabelEncoder()\n",
        "X[:, 1] = labelencoder_X_1.fit_transform(X[:, 1])\n",
        "labelencoder_X_2 = LabelEncoder()\n",
        "X[:, 2] = labelencoder_X_2.fit_transform(X[:, 2])\n",
        "onehotencoder = ColumnTransformer(\n",
        "    [('one_hot_encoder', OneHotEncoder(categories='auto'), [1])],   \n",
        "    remainder='passthrough'                        \n",
        ")\n",
        "X = onehotencoder.fit_transform(X)\n",
        "X = X[:, 1:]"
      ],
      "execution_count": null,
      "outputs": [
        {
          "output_type": "execute_result",
          "data": {
            "text/plain": [
              "array([[0.0, 0.0, 228, ..., 1, 1, 101348.88],\n",
              "       [1.0, 0.0, 217, ..., 0, 1, 112542.58],\n",
              "       [0.0, 0.0, 111, ..., 1, 0, 113931.57],\n",
              "       ...,\n",
              "       [0.0, 0.0, 318, ..., 0, 1, 42085.58],\n",
              "       [0.0, 1.0, 381, ..., 1, 0, 92888.52],\n",
              "       [0.0, 0.0, 401, ..., 1, 0, 38190.78]], dtype=object)"
            ]
          },
          "metadata": {
            "tags": []
          },
          "execution_count": 5
        }
      ]
    },
    {
      "cell_type": "markdown",
      "metadata": {
        "id": "ajbXl7mMbCOs"
      },
      "source": [
        "### Dividir en entrenamiento y prueba"
      ]
    },
    {
      "cell_type": "code",
      "metadata": {
        "id": "QcabzICsbIV9"
      },
      "source": [
        "from sklearn.model_selection import train_test_split\n",
        "X_train, X_test, y_train, y_test = train_test_split(X, y, test_size = 0.2, random_state = 0)"
      ],
      "execution_count": null,
      "outputs": []
    },
    {
      "cell_type": "markdown",
      "metadata": {
        "id": "RSA5sMkYbZ_1"
      },
      "source": [
        "### Escalado de variables"
      ]
    },
    {
      "cell_type": "code",
      "metadata": {
        "id": "PLtGEsagbeve"
      },
      "source": [
        "from sklearn.preprocessing import StandardScaler\n",
        "sc_X = StandardScaler()\n",
        "X_train = sc_X.fit_transform(X_train)\n",
        "X_test = sc_X.transform(X_test)"
      ],
      "execution_count": null,
      "outputs": []
    },
    {
      "cell_type": "markdown",
      "metadata": {
        "id": "vAltaDvAb2K1"
      },
      "source": [
        "## Construcción"
      ]
    },
    {
      "cell_type": "code",
      "metadata": {
        "id": "znIlucgub533"
      },
      "source": [
        "import keras\n",
        "from keras.models import Sequential\n",
        "from keras.layers import Dense\n",
        "\n",
        "classifier = Sequential()\n",
        "\n",
        "# Añadir las capas de entrada y primera capa oculta\n",
        "nodosIniciales = 6 # se recomienda poner la media entre los nodos de entrada y salida (11+1)/2\n",
        "inicializadorKernel = \"uniform\" # glorot_uniform|||\n",
        "funcionActivacion = \"relu\" # funcion escalon|funcion sigmoide(sigmoid)|tangente hiperbolica(tanh)| rectificador lineal(relu)\n",
        "nodosEntrada = 11 # numero de variables en la matriz de caracteristicas\n",
        "\n",
        "classifier.add(Dense(units = nodosIniciales, kernel_initializer = inicializadorKernel,  \n",
        "                     activation = funcionActivacion, input_dim = nodosEntrada))\n",
        "\n",
        "# Añadir la segunda capa oculta\n",
        "nodosCapa2 = 6\n",
        "inicializadorKernel2 = \"uniform\" \n",
        "funcionActivacion2 = \"relu\" \n",
        "classifier.add(Dense(units = nodosCapa2, kernel_initializer = inicializadorKernel2,  activation = funcionActivacion2))\n",
        "\n",
        "# Añadir la capa de salida\n",
        "nodoSalida = 1\n",
        "salidaKernel = \"uniform\" \n",
        "funcionActivacionSalida = \"sigmoid\" \n",
        "classifier.add(Dense(units = nodoSalida, kernel_initializer = salidaKernel,  activation = funcionActivacionSalida))"
      ],
      "execution_count": null,
      "outputs": []
    },
    {
      "cell_type": "markdown",
      "metadata": {
        "id": "Xf85QdCniM2d"
      },
      "source": [
        "## Compilación"
      ]
    },
    {
      "cell_type": "code",
      "metadata": {
        "id": "2j_tB0XGiL6f"
      },
      "source": [
        "optimizador = \"adam\" # |||\n",
        "funcionPerdida =  \"binary_crossentropy\" # |||\n",
        "metricas = [\"accuracy\"] # |||\n",
        "classifier.compile(optimizer = optimizador, loss = funcionPerdida, metrics = metricas)"
      ],
      "execution_count": null,
      "outputs": []
    },
    {
      "cell_type": "markdown",
      "metadata": {
        "id": "7WadAY9tjc5R"
      },
      "source": [
        "## Entrenamiento"
      ]
    },
    {
      "cell_type": "code",
      "metadata": {
        "id": "fZHYKPw7nIV5",
        "outputId": "bca9890a-ef59-4a55-d760-0ec1392ef501",
        "colab": {
          "base_uri": "https://localhost:8080/"
        }
      },
      "source": [
        "tamanioLote = 10\n",
        "epocas = 100\n",
        "classifier.fit(X_train, y_train,  batch_size = tamanioLote, epochs = epocas)"
      ],
      "execution_count": null,
      "outputs": [
        {
          "output_type": "stream",
          "text": [
            "Epoch 1/100\n",
            "800/800 [==============================] - 1s 854us/step - loss: 0.4855 - accuracy: 0.7958\n",
            "Epoch 2/100\n",
            "800/800 [==============================] - 1s 1ms/step - loss: 0.4284 - accuracy: 0.7960\n",
            "Epoch 3/100\n",
            "800/800 [==============================] - 1s 858us/step - loss: 0.4238 - accuracy: 0.7960\n",
            "Epoch 4/100\n",
            "800/800 [==============================] - 1s 892us/step - loss: 0.4194 - accuracy: 0.8177\n",
            "Epoch 5/100\n",
            "800/800 [==============================] - 1s 872us/step - loss: 0.4169 - accuracy: 0.8242\n",
            "Epoch 6/100\n",
            "800/800 [==============================] - 1s 852us/step - loss: 0.4153 - accuracy: 0.8275\n",
            "Epoch 7/100\n",
            "800/800 [==============================] - 1s 870us/step - loss: 0.4135 - accuracy: 0.8307\n",
            "Epoch 8/100\n",
            "800/800 [==============================] - 1s 872us/step - loss: 0.4118 - accuracy: 0.8313\n",
            "Epoch 9/100\n",
            "800/800 [==============================] - 1s 867us/step - loss: 0.4113 - accuracy: 0.8324\n",
            "Epoch 10/100\n",
            "800/800 [==============================] - 1s 865us/step - loss: 0.4102 - accuracy: 0.8319\n",
            "Epoch 11/100\n",
            "800/800 [==============================] - 1s 837us/step - loss: 0.4096 - accuracy: 0.8338\n",
            "Epoch 12/100\n",
            "800/800 [==============================] - 1s 862us/step - loss: 0.4090 - accuracy: 0.8341\n",
            "Epoch 13/100\n",
            "800/800 [==============================] - 1s 866us/step - loss: 0.4085 - accuracy: 0.8335\n",
            "Epoch 14/100\n",
            "800/800 [==============================] - 1s 880us/step - loss: 0.4075 - accuracy: 0.8344\n",
            "Epoch 15/100\n",
            "800/800 [==============================] - 1s 918us/step - loss: 0.4065 - accuracy: 0.8330\n",
            "Epoch 16/100\n",
            "800/800 [==============================] - 1s 857us/step - loss: 0.4068 - accuracy: 0.8361\n",
            "Epoch 17/100\n",
            "800/800 [==============================] - 1s 875us/step - loss: 0.4062 - accuracy: 0.8344\n",
            "Epoch 18/100\n",
            "800/800 [==============================] - 1s 857us/step - loss: 0.4057 - accuracy: 0.8344\n",
            "Epoch 19/100\n",
            "800/800 [==============================] - 1s 872us/step - loss: 0.4054 - accuracy: 0.8340\n",
            "Epoch 20/100\n",
            "800/800 [==============================] - 1s 861us/step - loss: 0.4049 - accuracy: 0.8365\n",
            "Epoch 21/100\n",
            "800/800 [==============================] - 1s 916us/step - loss: 0.4047 - accuracy: 0.8344\n",
            "Epoch 22/100\n",
            "800/800 [==============================] - 1s 935us/step - loss: 0.4043 - accuracy: 0.8345\n",
            "Epoch 23/100\n",
            "800/800 [==============================] - 1s 922us/step - loss: 0.4041 - accuracy: 0.8359\n",
            "Epoch 24/100\n",
            "800/800 [==============================] - 1s 930us/step - loss: 0.4040 - accuracy: 0.8336\n",
            "Epoch 25/100\n",
            "800/800 [==============================] - 1s 875us/step - loss: 0.4031 - accuracy: 0.8359\n",
            "Epoch 26/100\n",
            "800/800 [==============================] - 1s 872us/step - loss: 0.4033 - accuracy: 0.8363\n",
            "Epoch 27/100\n",
            "800/800 [==============================] - 1s 854us/step - loss: 0.4025 - accuracy: 0.8334\n",
            "Epoch 28/100\n",
            "800/800 [==============================] - 1s 850us/step - loss: 0.4023 - accuracy: 0.8356\n",
            "Epoch 29/100\n",
            "800/800 [==============================] - 1s 872us/step - loss: 0.4022 - accuracy: 0.8354\n",
            "Epoch 30/100\n",
            "800/800 [==============================] - 1s 1ms/step - loss: 0.4016 - accuracy: 0.8355\n",
            "Epoch 31/100\n",
            "800/800 [==============================] - 1s 889us/step - loss: 0.4019 - accuracy: 0.8367\n",
            "Epoch 32/100\n",
            "800/800 [==============================] - 1s 865us/step - loss: 0.4022 - accuracy: 0.8359\n",
            "Epoch 33/100\n",
            "800/800 [==============================] - 1s 933us/step - loss: 0.4018 - accuracy: 0.8366\n",
            "Epoch 34/100\n",
            "800/800 [==============================] - 1s 901us/step - loss: 0.4012 - accuracy: 0.8359\n",
            "Epoch 35/100\n",
            "800/800 [==============================] - 1s 877us/step - loss: 0.4012 - accuracy: 0.8345\n",
            "Epoch 36/100\n",
            "800/800 [==============================] - 1s 936us/step - loss: 0.4012 - accuracy: 0.8359\n",
            "Epoch 37/100\n",
            "800/800 [==============================] - 1s 872us/step - loss: 0.4009 - accuracy: 0.8354\n",
            "Epoch 38/100\n",
            "800/800 [==============================] - 1s 869us/step - loss: 0.4014 - accuracy: 0.8347\n",
            "Epoch 39/100\n",
            "800/800 [==============================] - 1s 871us/step - loss: 0.4007 - accuracy: 0.8359\n",
            "Epoch 40/100\n",
            "800/800 [==============================] - 1s 855us/step - loss: 0.4010 - accuracy: 0.8354\n",
            "Epoch 41/100\n",
            "800/800 [==============================] - 1s 866us/step - loss: 0.4007 - accuracy: 0.8369\n",
            "Epoch 42/100\n",
            "800/800 [==============================] - 1s 870us/step - loss: 0.4007 - accuracy: 0.8357\n",
            "Epoch 43/100\n",
            "800/800 [==============================] - 1s 873us/step - loss: 0.4002 - accuracy: 0.8369\n",
            "Epoch 44/100\n",
            "800/800 [==============================] - 1s 907us/step - loss: 0.4006 - accuracy: 0.8360\n",
            "Epoch 45/100\n",
            "800/800 [==============================] - 1s 915us/step - loss: 0.4004 - accuracy: 0.8364\n",
            "Epoch 46/100\n",
            "800/800 [==============================] - 1s 924us/step - loss: 0.4007 - accuracy: 0.8355\n",
            "Epoch 47/100\n",
            "800/800 [==============================] - 1s 940us/step - loss: 0.4008 - accuracy: 0.8375\n",
            "Epoch 48/100\n",
            "800/800 [==============================] - 1s 898us/step - loss: 0.4000 - accuracy: 0.8346\n",
            "Epoch 49/100\n",
            "800/800 [==============================] - 1s 882us/step - loss: 0.4006 - accuracy: 0.8338\n",
            "Epoch 50/100\n",
            "800/800 [==============================] - 1s 856us/step - loss: 0.3999 - accuracy: 0.8351\n",
            "Epoch 51/100\n",
            "800/800 [==============================] - 1s 924us/step - loss: 0.4005 - accuracy: 0.8357\n",
            "Epoch 52/100\n",
            "800/800 [==============================] - 1s 944us/step - loss: 0.4002 - accuracy: 0.8361\n",
            "Epoch 53/100\n",
            "800/800 [==============================] - 1s 940us/step - loss: 0.3997 - accuracy: 0.8379\n",
            "Epoch 54/100\n",
            "800/800 [==============================] - 1s 933us/step - loss: 0.3997 - accuracy: 0.8354\n",
            "Epoch 55/100\n",
            "800/800 [==============================] - 1s 861us/step - loss: 0.3994 - accuracy: 0.8359\n",
            "Epoch 56/100\n",
            "800/800 [==============================] - 1s 891us/step - loss: 0.3987 - accuracy: 0.8361\n",
            "Epoch 57/100\n",
            "800/800 [==============================] - 1s 905us/step - loss: 0.3988 - accuracy: 0.8356\n",
            "Epoch 58/100\n",
            "800/800 [==============================] - 1s 976us/step - loss: 0.3987 - accuracy: 0.8355\n",
            "Epoch 59/100\n",
            "800/800 [==============================] - 1s 972us/step - loss: 0.3988 - accuracy: 0.8344\n",
            "Epoch 60/100\n",
            "800/800 [==============================] - 1s 918us/step - loss: 0.3981 - accuracy: 0.8378\n",
            "Epoch 61/100\n",
            "800/800 [==============================] - 1s 918us/step - loss: 0.3981 - accuracy: 0.8365\n",
            "Epoch 62/100\n",
            "800/800 [==============================] - 1s 910us/step - loss: 0.3972 - accuracy: 0.8346\n",
            "Epoch 63/100\n",
            "800/800 [==============================] - 1s 976us/step - loss: 0.3975 - accuracy: 0.8366\n",
            "Epoch 64/100\n",
            "800/800 [==============================] - 1s 905us/step - loss: 0.3971 - accuracy: 0.8364\n",
            "Epoch 65/100\n",
            "800/800 [==============================] - 1s 879us/step - loss: 0.3971 - accuracy: 0.8356\n",
            "Epoch 66/100\n",
            "800/800 [==============================] - 1s 898us/step - loss: 0.3967 - accuracy: 0.8371\n",
            "Epoch 67/100\n",
            "800/800 [==============================] - 1s 870us/step - loss: 0.3968 - accuracy: 0.8361\n",
            "Epoch 68/100\n",
            "800/800 [==============================] - 1s 973us/step - loss: 0.3962 - accuracy: 0.8357\n",
            "Epoch 69/100\n",
            "800/800 [==============================] - 1s 922us/step - loss: 0.3960 - accuracy: 0.8361\n",
            "Epoch 70/100\n",
            "800/800 [==============================] - 1s 967us/step - loss: 0.3957 - accuracy: 0.8357\n",
            "Epoch 71/100\n",
            "800/800 [==============================] - 1s 849us/step - loss: 0.3954 - accuracy: 0.8359\n",
            "Epoch 72/100\n",
            "800/800 [==============================] - 1s 913us/step - loss: 0.3954 - accuracy: 0.8374\n",
            "Epoch 73/100\n",
            "800/800 [==============================] - 1s 891us/step - loss: 0.3952 - accuracy: 0.8361\n",
            "Epoch 74/100\n",
            "800/800 [==============================] - 1s 879us/step - loss: 0.3946 - accuracy: 0.8369\n",
            "Epoch 75/100\n",
            "800/800 [==============================] - 1s 871us/step - loss: 0.3948 - accuracy: 0.8371\n",
            "Epoch 76/100\n",
            "800/800 [==============================] - 1s 916us/step - loss: 0.3948 - accuracy: 0.8371\n",
            "Epoch 77/100\n",
            "800/800 [==============================] - 1s 936us/step - loss: 0.3948 - accuracy: 0.8361\n",
            "Epoch 78/100\n",
            "800/800 [==============================] - 1s 936us/step - loss: 0.3945 - accuracy: 0.8356\n",
            "Epoch 79/100\n",
            "800/800 [==============================] - 1s 925us/step - loss: 0.3944 - accuracy: 0.8361\n",
            "Epoch 80/100\n",
            "800/800 [==============================] - 1s 894us/step - loss: 0.3934 - accuracy: 0.8347\n",
            "Epoch 81/100\n",
            "800/800 [==============================] - 1s 870us/step - loss: 0.3943 - accuracy: 0.8378\n",
            "Epoch 82/100\n",
            "800/800 [==============================] - 1s 1ms/step - loss: 0.3942 - accuracy: 0.8360\n",
            "Epoch 83/100\n",
            "800/800 [==============================] - 1s 2ms/step - loss: 0.3937 - accuracy: 0.8382\n",
            "Epoch 84/100\n",
            "800/800 [==============================] - 1s 2ms/step - loss: 0.3937 - accuracy: 0.8376\n",
            "Epoch 85/100\n",
            "800/800 [==============================] - 1s 2ms/step - loss: 0.3939 - accuracy: 0.8361\n",
            "Epoch 86/100\n",
            "800/800 [==============================] - 1s 2ms/step - loss: 0.3937 - accuracy: 0.8384\n",
            "Epoch 87/100\n",
            "800/800 [==============================] - 1s 2ms/step - loss: 0.3936 - accuracy: 0.8385\n",
            "Epoch 88/100\n",
            "800/800 [==============================] - 1s 2ms/step - loss: 0.3935 - accuracy: 0.8382\n",
            "Epoch 89/100\n",
            "800/800 [==============================] - 1s 2ms/step - loss: 0.3929 - accuracy: 0.8372\n",
            "Epoch 90/100\n",
            "800/800 [==============================] - 1s 858us/step - loss: 0.3935 - accuracy: 0.8376\n",
            "Epoch 91/100\n",
            "800/800 [==============================] - 1s 891us/step - loss: 0.3935 - accuracy: 0.8381\n",
            "Epoch 92/100\n",
            "800/800 [==============================] - 1s 896us/step - loss: 0.3937 - accuracy: 0.8381\n",
            "Epoch 93/100\n",
            "800/800 [==============================] - 1s 870us/step - loss: 0.3926 - accuracy: 0.8369\n",
            "Epoch 94/100\n",
            "800/800 [==============================] - 1s 892us/step - loss: 0.3929 - accuracy: 0.8370\n",
            "Epoch 95/100\n",
            "800/800 [==============================] - 1s 979us/step - loss: 0.3932 - accuracy: 0.8357\n",
            "Epoch 96/100\n",
            "800/800 [==============================] - 1s 904us/step - loss: 0.3928 - accuracy: 0.8367\n",
            "Epoch 97/100\n",
            "800/800 [==============================] - 1s 871us/step - loss: 0.3928 - accuracy: 0.8379\n",
            "Epoch 98/100\n",
            "800/800 [==============================] - 1s 879us/step - loss: 0.3927 - accuracy: 0.8369\n",
            "Epoch 99/100\n",
            "800/800 [==============================] - 1s 906us/step - loss: 0.3934 - accuracy: 0.8378\n",
            "Epoch 100/100\n",
            "800/800 [==============================] - 1s 964us/step - loss: 0.3929 - accuracy: 0.8359\n"
          ],
          "name": "stdout"
        },
        {
          "output_type": "execute_result",
          "data": {
            "text/plain": [
              "<tensorflow.python.keras.callbacks.History at 0x7ff7244965f8>"
            ]
          },
          "metadata": {
            "tags": []
          },
          "execution_count": 11
        }
      ]
    }
  ]
}