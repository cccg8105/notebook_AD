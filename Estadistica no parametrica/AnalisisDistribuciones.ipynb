{
  "nbformat": 4,
  "nbformat_minor": 0,
  "metadata": {
    "colab": {
      "name": "Untitled1.ipynb",
      "provenance": [],
      "authorship_tag": "ABX9TyMuDmCVGaWaIiv68DGwowOE",
      "include_colab_link": true
    },
    "kernelspec": {
      "name": "python3",
      "display_name": "Python 3"
    }
  },
  "cells": [
    {
      "cell_type": "markdown",
      "metadata": {
        "id": "view-in-github",
        "colab_type": "text"
      },
      "source": [
        "<a href=\"https://colab.research.google.com/github/cccg8105/notebook_AD/blob/master/Estadistica%20no%20parametrica/AnalisisDistribuciones.ipynb\" target=\"_parent\"><img src=\"https://colab.research.google.com/assets/colab-badge.svg\" alt=\"Open In Colab\"/></a>"
      ]
    },
    {
      "cell_type": "markdown",
      "metadata": {
        "id": "thxpGkXHDfGh"
      },
      "source": [
        "# Analisis de distribuciones"
      ]
    },
    {
      "cell_type": "code",
      "metadata": {
        "id": "JNKyckqiDbb4",
        "outputId": "1360cc19-3689-4fcf-8de0-7dbf225b5b28",
        "colab": {
          "base_uri": "https://localhost:8080/"
        }
      },
      "source": [
        "import pandas as pd\r\n",
        "import seaborn as sns\r\n",
        "import numpy as np\r\n",
        "import matplotlib.pyplot as plt\r\n",
        "from sklearn.linear_model import LinearRegression\r\n",
        "from scipy import stats\r\n",
        "from statsmodels.stats.diagnostic import normal_ad\r\n",
        "from scipy.stats import shapiro\r\n",
        "\r\n",
        "\r\n",
        "df=pd.read_csv('https://raw.githubusercontent.com/cccg8105/curso-no-parametrica/master/2.%20Distribuciones%20y%20varianzas%20de%20grupos/2.2%20Analizando%20distribuciones%20en%20Python/notasmatesingles.csv')"
      ],
      "execution_count": 1,
      "outputs": [
        {
          "output_type": "stream",
          "text": [
            "/usr/local/lib/python3.7/dist-packages/statsmodels/tools/_testing.py:19: FutureWarning: pandas.util.testing is deprecated. Use the functions in the public API at pandas.testing instead.\n",
            "  import pandas.util.testing as tm\n"
          ],
          "name": "stderr"
        }
      ]
    },
    {
      "cell_type": "code",
      "metadata": {
        "id": "0tDLRvyYFGI1",
        "outputId": "cd16071d-e0a8-40dd-e06e-9055246269ca",
        "colab": {
          "base_uri": "https://localhost:8080/",
          "height": 204
        }
      },
      "source": [
        "df.head()"
      ],
      "execution_count": 2,
      "outputs": [
        {
          "output_type": "execute_result",
          "data": {
            "text/html": [
              "<div>\n",
              "<style scoped>\n",
              "    .dataframe tbody tr th:only-of-type {\n",
              "        vertical-align: middle;\n",
              "    }\n",
              "\n",
              "    .dataframe tbody tr th {\n",
              "        vertical-align: top;\n",
              "    }\n",
              "\n",
              "    .dataframe thead th {\n",
              "        text-align: right;\n",
              "    }\n",
              "</style>\n",
              "<table border=\"1\" class=\"dataframe\">\n",
              "  <thead>\n",
              "    <tr style=\"text-align: right;\">\n",
              "      <th></th>\n",
              "      <th>Matematicas</th>\n",
              "      <th>Ingles</th>\n",
              "    </tr>\n",
              "  </thead>\n",
              "  <tbody>\n",
              "    <tr>\n",
              "      <th>0</th>\n",
              "      <td>80.0</td>\n",
              "      <td>77.0</td>\n",
              "    </tr>\n",
              "    <tr>\n",
              "      <th>1</th>\n",
              "      <td>78.0</td>\n",
              "      <td>67.0</td>\n",
              "    </tr>\n",
              "    <tr>\n",
              "      <th>2</th>\n",
              "      <td>90.0</td>\n",
              "      <td>77.0</td>\n",
              "    </tr>\n",
              "    <tr>\n",
              "      <th>3</th>\n",
              "      <td>70.0</td>\n",
              "      <td>76.0</td>\n",
              "    </tr>\n",
              "    <tr>\n",
              "      <th>4</th>\n",
              "      <td>55.0</td>\n",
              "      <td>72.0</td>\n",
              "    </tr>\n",
              "  </tbody>\n",
              "</table>\n",
              "</div>"
            ],
            "text/plain": [
              "   Matematicas  Ingles\n",
              "0         80.0    77.0\n",
              "1         78.0    67.0\n",
              "2         90.0    77.0\n",
              "3         70.0    76.0\n",
              "4         55.0    72.0"
            ]
          },
          "metadata": {
            "tags": []
          },
          "execution_count": 2
        }
      ]
    },
    {
      "cell_type": "code",
      "metadata": {
        "id": "_U2agwJnFImN",
        "outputId": "68bb7260-57d4-4aa5-fb26-4c992e9b9697",
        "colab": {
          "base_uri": "https://localhost:8080/",
          "height": 265
        }
      },
      "source": [
        "plt.scatter(df['Matematicas'], df['Ingles']);"
      ],
      "execution_count": 3,
      "outputs": [
        {
          "output_type": "display_data",
          "data": {
            "image/png": "[encoded data removed]",
            "text/plain": [
              "<Figure size 432x288 with 1 Axes>"
            ]
          },
          "metadata": {
            "tags": [],
            "needs_background": "light"
          }
        }
      ]
    },
    {
      "cell_type": "markdown",
      "metadata": {
        "id": "KuEJfUAyFcZM"
      },
      "source": [
        "## Modelo de regresión lineal"
      ]
    },
    {
      "cell_type": "code",
      "metadata": {
        "id": "ed0zJtMnFg7N",
        "outputId": "b5e5c818-e433-4643-d0a4-235faa362cba",
        "colab": {
          "base_uri": "https://localhost:8080/"
        }
      },
      "source": [
        "model = LinearRegression()\r\n",
        "X = pd.DataFrame(df['Matematicas'])\r\n",
        "y = pd.DataFrame(df['Ingles'])\r\n",
        "model.fit(X, y)\r\n",
        "\r\n",
        "print('intercept:', model.intercept_)\r\n",
        "print('slope:', model.coef_)\r\n",
        "y_pred = model.predict(X)"
      ],
      "execution_count": 6,
      "outputs": [
        {
          "output_type": "stream",
          "text": [
            "intercept: [87.5755888]\n",
            "slope: [[-0.17819582]]\n"
          ],
          "name": "stdout"
        }
      ]
    },
    {
      "cell_type": "code",
      "metadata": {
        "id": "me7dPzXUFn8-",
        "outputId": "ca601ac8-1fd2-4ba3-8346-a114cf95c021",
        "colab": {
          "base_uri": "https://localhost:8080/",
          "height": 265
        }
      },
      "source": [
        "plt.scatter(X, y)\r\n",
        "plt.plot(X, y_pred, color='red')\r\n",
        "plt.show()"
      ],
      "execution_count": 7,
      "outputs": [
        {
          "output_type": "display_data",
          "data": {
            "image/png": "[encoded data removed]",
            "text/plain": [
              "<Figure size 432x288 with 1 Axes>"
            ]
          },
          "metadata": {
            "tags": [],
            "needs_background": "light"
          }
        }
      ]
    },
    {
      "cell_type": "code",
      "metadata": {
        "id": "OEzyLFxmGoG0"
      },
      "source": [
        "def calculate_residuals(model, features, label):\r\n",
        "    \"\"\"\r\n",
        "    Creates predictions on the features with the model and calculates residuals\r\n",
        "    \"\"\"\r\n",
        "    predictions = model.predict(features)\r\n",
        "    predictions_df=pd.DataFrame(predictions,columns=['Predictions'])\r\n",
        "    df_results = pd.DataFrame({'Actual': y['Ingles'], 'Predicted': predictions_df['Predictions']})\r\n",
        "    df_results['Residuals'] = abs(df_results['Actual']) - abs(df_results['Predicted'])\r\n",
        "    \r\n",
        "    return df_results"
      ],
      "execution_count": 9,
      "outputs": []
    },
    {
      "cell_type": "code",
      "metadata": {
        "id": "6YyChs1JG0SU"
      },
      "source": [
        "df_results = calculate_residuals(model, X, y)\r\n",
        "df_results\r\n",
        "\r\n",
        "def normal_errors_assumption(model, features, label, p_value_thresh=0.05):\r\n",
        "    \"\"\"\r\n",
        "    Normality: Assumes that the error terms are normally distributed. If they are not,\r\n",
        "    nonlinear transformations of variables may solve this.\r\n",
        "               \r\n",
        "    This assumption being violated primarily causes issues with the confidence intervals\r\n",
        "    \"\"\"\r\n",
        "    \r\n",
        "    print('Assumption: The error terms are normally distributed', '\\n')\r\n",
        "    \r\n",
        "    # Calculating residuals for the Anderson-Darling test\r\n",
        "    df_results = calculate_residuals(model, features, label)\r\n",
        "    \r\n",
        "    print('Using the Anderson-Darling test for normal distribution')\r\n",
        "\r\n",
        "    # Performing the test on the residuals\r\n",
        "    p_value = normal_ad(df_results['Residuals'])[1]\r\n",
        "    print('p-value from the test - below 0.05 generally means non-normal:', p_value)\r\n",
        "    \r\n",
        "    # Reporting the normality of the residuals\r\n",
        "    if p_value < p_value_thresh:\r\n",
        "        print('Residuals are not normally distributed', '\\n')\r\n",
        "    else:\r\n",
        "        print('Residuals are normally distributed', '\\n')\r\n",
        "    \r\n",
        "    print('Using the Shapiro-Wilks test for normal distribution')\r\n",
        "    shapiro_test = shapiro(df_results['Residuals'])\r\n",
        "    shapiro_test_stat=shapiro_test[0]\r\n",
        "    shapiro_test_pvalue=shapiro_test[1]\r\n",
        "    print('p-value from the test - below 0.05 generally means non-normal:', shapiro_test_pvalue)\r\n",
        "    \r\n",
        "    # Reporting the normality of the residuals\r\n",
        "    if shapiro_test_pvalue < p_value_thresh:\r\n",
        "        print('Residuals are not normally distributed')\r\n",
        "    else:\r\n",
        "        print('Residuals are normally distributed')\r\n",
        "\r\n",
        "    # Plotting the residuals distribution\r\n",
        "    plt.subplots(figsize=(12, 6))\r\n",
        "    plt.title('Distribution of Residuals')\r\n",
        "    sns.distplot(df_results['Residuals'])\r\n",
        "    plt.show()\r\n",
        "    \r\n",
        "    print()\r\n",
        "    if p_value > p_value_thresh:\r\n",
        "        print('Assumption satisfied')\r\n",
        "    else:\r\n",
        "        print('Assumption not satisfied')\r\n",
        "        print()\r\n",
        "        print('Confidence intervals will likely be affected')\r\n",
        "        print('Try performing nonlinear transformations on variables')"
      ],
      "execution_count": 11,
      "outputs": []
    },
    {
      "cell_type": "code",
      "metadata": {
        "id": "1wbKv4MiHDl7",
        "outputId": "8560d5f5-d7c8-46a9-e4e3-7102ee33c06c",
        "colab": {
          "base_uri": "https://localhost:8080/",
          "height": 645
        }
      },
      "source": [
        "normal_errors_assumption(model, X, y)"
      ],
      "execution_count": 12,
      "outputs": [
        {
          "output_type": "stream",
          "text": [
            "Assumption: The error terms are normally distributed \n",
            "\n",
            "Using the Anderson-Darling test for normal distribution\n",
            "p-value from the test - below 0.05 generally means non-normal: 0.2711452095714222\n",
            "Residuals are normally distributed \n",
            "\n",
            "Using the Shapiro-Wilks test for normal distribution\n",
            "p-value from the test - below 0.05 generally means non-normal: 0.282282292842865\n",
            "Residuals are normally distributed\n"
          ],
          "name": "stdout"
        },
        {
          "output_type": "stream",
          "text": [
            "/usr/local/lib/python3.7/dist-packages/seaborn/distributions.py:2557: FutureWarning: `distplot` is a deprecated function and will be removed in a future version. Please adapt your code to use either `displot` (a figure-level function with similar flexibility) or `histplot` (an axes-level function for histograms).\n",
            "  warnings.warn(msg, FutureWarning)\n"
          ],
          "name": "stderr"
        },
        {
          "output_type": "display_data",
          "data": {
            "image/png": "[encoded data removed]",
            "text/plain": [
              "<Figure size 864x432 with 1 Axes>"
            ]
          },
          "metadata": {
            "tags": [],
            "needs_background": "light"
          }
        },
        {
          "output_type": "stream",
          "text": [
            "\n",
            "Assumption satisfied\n"
          ],
          "name": "stdout"
        }
      ]
    }
  ]
}