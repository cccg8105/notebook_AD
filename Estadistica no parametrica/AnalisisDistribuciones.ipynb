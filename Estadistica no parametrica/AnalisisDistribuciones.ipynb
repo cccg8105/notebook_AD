{
  "nbformat": 4,
  "nbformat_minor": 0,
  "metadata": {
    "colab": {
      "name": "Untitled1.ipynb",
      "provenance": [],
      "authorship_tag": "ABX9TyNx2ZbSOEu/rBjB8wiETH0f",
      "include_colab_link": true
    },
    "kernelspec": {
      "name": "python3",
      "display_name": "Python 3"
    }
  },
  "cells": [
    {
      "cell_type": "markdown",
      "metadata": {
        "id": "view-in-github",
        "colab_type": "text"
      },
      "source": [
        "<a href=\"https://colab.research.google.com/github/cccg8105/notebook_AD/blob/master/Estadistica%20no%20parametrica/AnalisisDistribuciones.ipynb\" target=\"_parent\"><img src=\"https://colab.research.google.com/assets/colab-badge.svg\" alt=\"Open In Colab\"/></a>"
      ]
    },
    {
      "cell_type": "markdown",
      "metadata": {
        "id": "thxpGkXHDfGh"
      },
      "source": [
        "# Analisis de distribuciones"
      ]
    },
    {
      "cell_type": "code",
      "metadata": {
        "id": "JNKyckqiDbb4"
      },
      "source": [
        ""
      ],
      "execution_count": null,
      "outputs": []
    }
  ]
}