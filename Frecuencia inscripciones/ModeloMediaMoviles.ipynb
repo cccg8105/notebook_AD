{
  "nbformat": 4,
  "nbformat_minor": 0,
  "metadata": {
    "colab": {
      "name": "ModeloMediaMoviles.ipynb",
      "provenance": [],
      "authorship_tag": "ABX9TyMfjX/8+ehHF3XJfEaeBYsp",
      "include_colab_link": true
    },
    "kernelspec": {
      "name": "python3",
      "display_name": "Python 3"
    }
  },
  "cells": [
    {
      "cell_type": "markdown",
      "metadata": {
        "id": "view-in-github",
        "colab_type": "text"
      },
      "source": [
        "<a href=\"https://colab.research.google.com/github/cccg8105/notebook_AD/blob/master/Frecuencia%20inscripciones/ModeloMediaMoviles.ipynb\" target=\"_parent\"><img src=\"https://colab.research.google.com/assets/colab-badge.svg\" alt=\"Open In Colab\"/></a>"
      ]
    },
    {
      "cell_type": "markdown",
      "metadata": {
        "id": "N0OgFzvbUYNW"
      },
      "source": [
        "# Modelo de medias móviles"
      ]
    },
    {
      "cell_type": "code",
      "metadata": {
        "id": "H7BI342rT5Ca"
      },
      "source": [
        ""
      ],
      "execution_count": null,
      "outputs": []
    }
  ]
}