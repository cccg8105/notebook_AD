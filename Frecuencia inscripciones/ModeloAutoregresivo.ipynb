{
  "nbformat": 4,
  "nbformat_minor": 0,
  "metadata": {
    "colab": {
      "name": "ModeloAutoregresivo.ipynb",
      "provenance": [],
      "authorship_tag": "ABX9TyO9wSoljI4HD+fi/bQM0cA3",
      "include_colab_link": true
    },
    "kernelspec": {
      "name": "python3",
      "display_name": "Python 3"
    }
  },
  "cells": [
    {
      "cell_type": "markdown",
      "metadata": {
        "id": "view-in-github",
        "colab_type": "text"
      },
      "source": [
        "<a href=\"https://colab.research.google.com/github/cccg8105/notebook_AD/blob/master/Frecuencia%20inscripciones/ModeloAutoregresivo.ipynb\" target=\"_parent\"><img src=\"https://colab.research.google.com/assets/colab-badge.svg\" alt=\"Open In Colab\"/></a>"
      ]
    },
    {
      "cell_type": "markdown",
      "metadata": {
        "id": "4TxRjYOIIYIR"
      },
      "source": [
        "# Modelo autoregresivo"
      ]
    },
    {
      "cell_type": "markdown",
      "metadata": {
        "id": "Tko8ZnqaJrLj"
      },
      "source": [
        "Permite modelar series estacionarias"
      ]
    },
    {
      "cell_type": "markdown",
      "metadata": {
        "id": "Q4i-SEzMJ5Et"
      },
      "source": [
        "## Carga de información"
      ]
    },
    {
      "cell_type": "code",
      "metadata": {
        "id": "LNOmMhSWHtGL",
        "outputId": "c454561b-2720-4671-c69d-1de5ee65f38b",
        "colab": {
          "base_uri": "https://localhost:8080/"
        }
      },
      "source": [
        "import pandas as pd \n",
        "import numpy as np\n",
        "import matplotlib.pyplot as plt \n",
        "import statsmodels.graphics.tsaplots as sgt \n",
        "import statsmodels.tsa.stattools as sts \n",
        "from statsmodels.tsa.seasonal import seasonal_decompose\n",
        "# carga de archivo\n",
        "raw_csv_data = pd.read_csv(\"https://raw.githubusercontent.com/cccg8105/notebook_AD/master/Frecuencia%20inscripciones/data/conversionesPE.csv\", index_col=0)"
      ],
      "execution_count": 1,
      "outputs": [
        {
          "output_type": "stream",
          "text": [
            "/usr/local/lib/python3.6/dist-packages/statsmodels/tools/_testing.py:19: FutureWarning: pandas.util.testing is deprecated. Use the functions in the public API at pandas.testing instead.\n",
            "  import pandas.util.testing as tm\n"
          ],
          "name": "stderr"
        }
      ]
    },
    {
      "cell_type": "markdown",
      "metadata": {
        "id": "GrIfuUvCJ_hK"
      },
      "source": [
        "## Transformación y formateo de datos\n",
        " "
      ]
    },
    {
      "cell_type": "code",
      "metadata": {
        "id": "af1rwKCSKAik"
      },
      "source": [
        "# Transformacion de datos para analisis temporal\n",
        "df = raw_csv_data.copy()\n",
        "df=df[df.FuenteIngreso == \"UB\"]\n",
        "df['Fecha'] = pd.to_datetime(raw_csv_data.FechaConsultora, dayfirst = True)\n",
        "df['inscripciones'] = df.cantidad\n",
        "del df['FuenteIngreso']\n",
        "del df['Pais']\n",
        "del df['FechaConsultora']\n",
        "del df['cantidad']\n",
        "# se agrupa y se reindexa el dataframe\n",
        "df = df.groupby(['Fecha']).sum().reset_index()\n",
        "df.set_index('Fecha', inplace=True, verify_integrity=True)\n",
        "# establecer frecuencia\n",
        "#df.sort_index().asfreq(freq='d')\n",
        "df.index = pd.DatetimeIndex(df.index).to_period('d')\n",
        "# cambiar frecuencia a meses\n",
        "#df.index.freq = 'MS'\n",
        "df.head()\n",
        "dfAR = df.copy()"
      ],
      "execution_count": 2,
      "outputs": []
    },
    {
      "cell_type": "markdown",
      "metadata": {
        "id": "6PRVfRwbKqKS"
      },
      "source": [
        "## Autoregresión (AR)"
      ]
    },
    {
      "cell_type": "markdown",
      "metadata": {
        "id": "oIrMju6XKsza"
      },
      "source": [
        "### Autocorrelación (ACF)"
      ]
    },
    {
      "cell_type": "markdown",
      "metadata": {
        "id": "3kdWjEJpK5qB"
      },
      "source": [
        "Autocorrelación: Existe correlación positiva entre la autocorrelación con periodos de hasta mas de 50 días. Asimismo se están considerando efectos directos e indirectos de los períodos pasados."
      ]
    },
    {
      "cell_type": "code",
      "metadata": {
        "id": "UVWtLGSDKsC6",
        "outputId": "3128d4f8-1fc4-4055-c67e-a3381c9096dd",
        "colab": {
          "base_uri": "https://localhost:8080/",
          "height": 290
        }
      },
      "source": [
        "sgt.plot_acf(df.inscripciones, lags = 60, zero = False)\n",
        "plt.title(\"ACF incripciones\", size = 24)\n",
        "plt.show()"
      ],
      "execution_count": 3,
      "outputs": [
        {
          "output_type": "display_data",
          "data": {
            "image/png": "[encoded data removed]",
            "text/plain": [
              "<Figure size 432x288 with 1 Axes>"
            ]
          },
          "metadata": {
            "tags": [],
            "needs_background": "light"
          }
        }
      ]
    },
    {
      "cell_type": "markdown",
      "metadata": {
        "id": "TvC7zfcALKFT"
      },
      "source": [
        "### Autocorrelación Parcial (PACF)"
      ]
    },
    {
      "cell_type": "code",
      "metadata": {
        "id": "m8NOfYVjLRLL",
        "outputId": "ced0af79-a56d-43d8-c103-105203ed1fc2",
        "colab": {
          "base_uri": "https://localhost:8080/",
          "height": 290
        }
      },
      "source": [
        "sgt.plot_pacf(df.inscripciones, lags = 40, zero = False, method = ('ols'))\n",
        "plt.title(\"PACF Inscripciones\", size = 24)\n",
        "plt.show()"
      ],
      "execution_count": 4,
      "outputs": [
        {
          "output_type": "display_data",
          "data": {
            "image/png": "[encoded data removed]",
            "text/plain": [
              "<Figure size 432x288 with 1 Axes>"
            ]
          },
          "metadata": {
            "tags": [],
            "needs_background": "light"
          }
        }
      ]
    }
  ]
}