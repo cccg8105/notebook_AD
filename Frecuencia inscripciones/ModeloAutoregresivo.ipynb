{
  "nbformat": 4,
  "nbformat_minor": 0,
  "metadata": {
    "colab": {
      "name": "ModeloAutoregresivo.ipynb",
      "provenance": [],
      "authorship_tag": "ABX9TyOc439dol+OFdrsRXzJJnbU",
      "include_colab_link": true
    },
    "kernelspec": {
      "name": "python3",
      "display_name": "Python 3"
    }
  },
  "cells": [
    {
      "cell_type": "markdown",
      "metadata": {
        "id": "view-in-github",
        "colab_type": "text"
      },
      "source": [
        "<a href=\"https://colab.research.google.com/github/cccg8105/notebook_AD/blob/master/Frecuencia%20inscripciones/ModeloAutoregresivo.ipynb\" target=\"_parent\"><img src=\"https://colab.research.google.com/assets/colab-badge.svg\" alt=\"Open In Colab\"/></a>"
      ]
    },
    {
      "cell_type": "markdown",
      "metadata": {
        "id": "4TxRjYOIIYIR"
      },
      "source": [
        "# Modelo autoregresivo"
      ]
    },
    {
      "cell_type": "markdown",
      "metadata": {
        "id": "Tko8ZnqaJrLj"
      },
      "source": [
        "Permite modelar series estacionarias"
      ]
    },
    {
      "cell_type": "markdown",
      "metadata": {
        "id": "Q4i-SEzMJ5Et"
      },
      "source": [
        "## Carga de información"
      ]
    },
    {
      "cell_type": "code",
      "metadata": {
        "id": "LNOmMhSWHtGL",
        "outputId": "c454561b-2720-4671-c69d-1de5ee65f38b",
        "colab": {
          "base_uri": "https://localhost:8080/"
        }
      },
      "source": [
        "import pandas as pd \n",
        "import numpy as np\n",
        "import matplotlib.pyplot as plt \n",
        "import statsmodels.graphics.tsaplots as sgt \n",
        "import statsmodels.tsa.stattools as sts \n",
        "from statsmodels.tsa.seasonal import seasonal_decompose\n",
        "# carga de archivo\n",
        "raw_csv_data = pd.read_csv(\"https://raw.githubusercontent.com/cccg8105/notebook_AD/master/Frecuencia%20inscripciones/data/conversionesPE.csv\", index_col=0)"
      ],
      "execution_count": 1,
      "outputs": [
        {
          "output_type": "stream",
          "text": [
            "/usr/local/lib/python3.6/dist-packages/statsmodels/tools/_testing.py:19: FutureWarning: pandas.util.testing is deprecated. Use the functions in the public API at pandas.testing instead.\n",
            "  import pandas.util.testing as tm\n"
          ],
          "name": "stderr"
        }
      ]
    },
    {
      "cell_type": "markdown",
      "metadata": {
        "id": "GrIfuUvCJ_hK"
      },
      "source": [
        "## Transformación y formateo de datos\n",
        " "
      ]
    },
    {
      "cell_type": "code",
      "metadata": {
        "id": "af1rwKCSKAik"
      },
      "source": [
        "# Transformacion de datos para analisis temporal\n",
        "df = raw_csv_data.copy()\n",
        "df=df[df.FuenteIngreso == \"UB\"]\n",
        "df['Fecha'] = pd.to_datetime(raw_csv_data.FechaConsultora, dayfirst = True)\n",
        "df['inscripciones'] = df.cantidad\n",
        "del df['FuenteIngreso']\n",
        "del df['Pais']\n",
        "del df['FechaConsultora']\n",
        "del df['cantidad']\n",
        "# se agrupa y se reindexa el dataframe\n",
        "df = df.groupby(['Fecha']).sum().reset_index()\n",
        "df.set_index('Fecha', inplace=True, verify_integrity=True)\n",
        "# establecer frecuencia\n",
        "#df.sort_index().asfreq(freq='d')\n",
        "df.index = pd.DatetimeIndex(df.index).to_period('d')\n",
        "# cambiar frecuencia a meses\n",
        "#df.index.freq = 'MS'\n",
        "df.head()\n",
        "dfAR = df.copy()"
      ],
      "execution_count": 2,
      "outputs": []
    },
    {
      "cell_type": "markdown",
      "metadata": {
        "id": "6PRVfRwbKqKS"
      },
      "source": [
        "## Autoregresión (AR)"
      ]
    },
    {
      "cell_type": "markdown",
      "metadata": {
        "id": "oIrMju6XKsza"
      },
      "source": [
        "### Autocorrelación (ACF)"
      ]
    },
    {
      "cell_type": "markdown",
      "metadata": {
        "id": "3kdWjEJpK5qB"
      },
      "source": [
        "Autocorrelación: Existe correlación positiva entre la autocorrelación con periodos de hasta mas de 50 días. Asimismo se están considerando efectos directos e indirectos de los períodos pasados."
      ]
    },
    {
      "cell_type": "code",
      "metadata": {
        "id": "UVWtLGSDKsC6",
        "outputId": "3128d4f8-1fc4-4055-c67e-a3381c9096dd",
        "colab": {
          "base_uri": "https://localhost:8080/",
          "height": 290
        }
      },
      "source": [
        "sgt.plot_acf(df.inscripciones, lags = 60, zero = False)\n",
        "plt.title(\"ACF incripciones\", size = 24)\n",
        "plt.show()"
      ],
      "execution_count": 3,
      "outputs": [
        {
          "output_type": "display_data",
          "data": {
            "image/png": "[encoded data removed]",
            "text/plain": [
              "<Figure size 432x288 with 1 Axes>"
            ]
          },
          "metadata": {
            "tags": [],
            "needs_background": "light"
          }
        }
      ]
    },
    {
      "cell_type": "markdown",
      "metadata": {
        "id": "TvC7zfcALKFT"
      },
      "source": [
        "### Autocorrelación Parcial (PACF)"
      ]
    },
    {
      "cell_type": "code",
      "metadata": {
        "id": "m8NOfYVjLRLL",
        "outputId": "ced0af79-a56d-43d8-c103-105203ed1fc2",
        "colab": {
          "base_uri": "https://localhost:8080/",
          "height": 290
        }
      },
      "source": [
        "sgt.plot_pacf(df.inscripciones, lags = 40, zero = False, method = ('ols'))\n",
        "plt.title(\"PACF Inscripciones\", size = 24)\n",
        "plt.show()"
      ],
      "execution_count": 4,
      "outputs": [
        {
          "output_type": "display_data",
          "data": {
            "image/png": "[encoded data removed]",
            "text/plain": [
              "<Figure size 432x288 with 1 Axes>"
            ]
          },
          "metadata": {
            "tags": [],
            "needs_background": "light"
          }
        }
      ]
    },
    {
      "cell_type": "markdown",
      "metadata": {
        "id": "6FVdLQtNL7sx"
      },
      "source": [
        "### Modelo AR(1)"
      ]
    },
    {
      "cell_type": "code",
      "metadata": {
        "id": "2wv1yf-9MAzU",
        "outputId": "e024ce4d-87b9-42ab-dc54-64c4aca82e72",
        "colab": {
          "base_uri": "https://localhost:8080/",
          "height": 309
        }
      },
      "source": [
        "from statsmodels.tsa.arima_model import ARMA\n",
        "from scipy.stats.distributions import chi2\n",
        "import seaborn as sns\n",
        "sns.set()\n",
        "\n",
        "# Modelo de orden 1 sin considerar residuos\n",
        "model_ar = ARMA(dfAR.inscripciones, order=(1,0))\n",
        "results_ar = model_ar.fit()\n",
        "results_ar.summary()"
      ],
      "execution_count": 5,
      "outputs": [
        {
          "output_type": "execute_result",
          "data": {
            "text/html": [
              "<table class=\"simpletable\">\n",
              "<caption>ARMA Model Results</caption>\n",
              "<tr>\n",
              "  <th>Dep. Variable:</th>   <td>inscripciones</td>  <th>  No. Observations:  </th>    <td>968</td>   \n",
              "</tr>\n",
              "<tr>\n",
              "  <th>Model:</th>            <td>ARMA(1, 0)</td>    <th>  Log Likelihood     </th> <td>-4674.618</td>\n",
              "</tr>\n",
              "<tr>\n",
              "  <th>Method:</th>             <td>css-mle</td>     <th>  S.D. of innovations</th>  <td>30.264</td>  \n",
              "</tr>\n",
              "<tr>\n",
              "  <th>Date:</th>          <td>Wed, 07 Oct 2020</td> <th>  AIC                </th> <td>9355.237</td> \n",
              "</tr>\n",
              "<tr>\n",
              "  <th>Time:</th>              <td>13:11:35</td>     <th>  BIC                </th> <td>9369.862</td> \n",
              "</tr>\n",
              "<tr>\n",
              "  <th>Sample:</th>           <td>01-02-2018</td>    <th>  HQIC               </th> <td>9360.804</td> \n",
              "</tr>\n",
              "<tr>\n",
              "  <th></th>                 <td>- 09-03-2020</td>   <th>                     </th>     <td> </td>    \n",
              "</tr>\n",
              "</table>\n",
              "<table class=\"simpletable\">\n",
              "<tr>\n",
              "           <td></td>              <th>coef</th>     <th>std err</th>      <th>z</th>      <th>P>|z|</th>  <th>[0.025</th>    <th>0.975]</th>  \n",
              "</tr>\n",
              "<tr>\n",
              "  <th>const</th>               <td>   40.1455</td> <td>    2.585</td> <td>   15.530</td> <td> 0.000</td> <td>   35.079</td> <td>   45.212</td>\n",
              "</tr>\n",
              "<tr>\n",
              "  <th>ar.L1.inscripciones</th> <td>    0.6244</td> <td>    0.025</td> <td>   24.889</td> <td> 0.000</td> <td>    0.575</td> <td>    0.674</td>\n",
              "</tr>\n",
              "</table>\n",
              "<table class=\"simpletable\">\n",
              "<caption>Roots</caption>\n",
              "<tr>\n",
              "    <td></td>   <th>            Real</th>  <th>         Imaginary</th> <th>         Modulus</th>  <th>        Frequency</th>\n",
              "</tr>\n",
              "<tr>\n",
              "  <th>AR.1</th> <td>           1.6016</td> <td>          +0.0000j</td> <td>           1.6016</td> <td>           0.0000</td>\n",
              "</tr>\n",
              "</table>"
            ],
            "text/plain": [
              "<class 'statsmodels.iolib.summary.Summary'>\n",
              "\"\"\"\n",
              "                              ARMA Model Results                              \n",
              "==============================================================================\n",
              "Dep. Variable:          inscripciones   No. Observations:                  968\n",
              "Model:                     ARMA(1, 0)   Log Likelihood               -4674.618\n",
              "Method:                       css-mle   S.D. of innovations             30.264\n",
              "Date:                Wed, 07 Oct 2020   AIC                           9355.237\n",
              "Time:                        13:11:35   BIC                           9369.862\n",
              "Sample:                    01-02-2018   HQIC                          9360.804\n",
              "                         - 09-03-2020                                         \n",
              "=======================================================================================\n",
              "                          coef    std err          z      P>|z|      [0.025      0.975]\n",
              "---------------------------------------------------------------------------------------\n",
              "const                  40.1455      2.585     15.530      0.000      35.079      45.212\n",
              "ar.L1.inscripciones     0.6244      0.025     24.889      0.000       0.575       0.674\n",
              "                                    Roots                                    \n",
              "=============================================================================\n",
              "                  Real          Imaginary           Modulus         Frequency\n",
              "-----------------------------------------------------------------------------\n",
              "AR.1            1.6016           +0.0000j            1.6016            0.0000\n",
              "-----------------------------------------------------------------------------\n",
              "\"\"\""
            ]
          },
          "metadata": {
            "tags": []
          },
          "execution_count": 5
        }
      ]
    },
    {
      "cell_type": "markdown",
      "metadata": {
        "id": "hjSSwEdIMJhy"
      },
      "source": [
        "*   const -> Indica el coeficiente de la parte constante de la ecuación ($C$)\n",
        "*   ar.L1 -> indica el coeficiente de la serie con retraso 1 (-1 > $\\varphi$ > 1)\n",
        "\n",
        "$$ X_{t} = \\varphi_{1}X_{t-1} + \\varepsilon_{t} + C$$\n",
        "\n",
        "Hipotesis Nula: Coeficiente es significativamente igual a cero\n",
        "\n",
        "Z (que es el estadistico utilizado para medir la significacion de las estimaciones)\n",
        "\n",
        "Como el P valor es muy cercano a 0 (< 0.05) se rechaza la hipotisis nula, con lo cual se determina que el coeficiente es significativo.\n",
        "\n",
        "Otra manera de ver el nivel de significacion es revisar los intervalo de confianza, si no contiene al 0 decimos que el coeficiente es distinto de 0, por lo tanto es significativo. Para este caso ambos serían significativos y distintos de 0.\n"
      ]
    },
    {
      "cell_type": "markdown",
      "metadata": {
        "id": "0XFRtiCbMQoy"
      },
      "source": [
        "### Modelo AR(n)"
      ]
    },
    {
      "cell_type": "code",
      "metadata": {
        "id": "uqDb2CuFMTmp",
        "outputId": "d7f5fff2-e83d-45d8-9b7d-a62353cc8ac0",
        "colab": {
          "base_uri": "https://localhost:8080/",
          "height": 351
        }
      },
      "source": [
        "model_ar_2 = ARMA(dfAR.inscripciones, order=(2,0))\n",
        "results_ar_2 = model_ar_2.fit()\n",
        "results_ar_2.summary()"
      ],
      "execution_count": 6,
      "outputs": [
        {
          "output_type": "execute_result",
          "data": {
            "text/html": [
              "<table class=\"simpletable\">\n",
              "<caption>ARMA Model Results</caption>\n",
              "<tr>\n",
              "  <th>Dep. Variable:</th>   <td>inscripciones</td>  <th>  No. Observations:  </th>    <td>968</td>   \n",
              "</tr>\n",
              "<tr>\n",
              "  <th>Model:</th>            <td>ARMA(2, 0)</td>    <th>  Log Likelihood     </th> <td>-4673.685</td>\n",
              "</tr>\n",
              "<tr>\n",
              "  <th>Method:</th>             <td>css-mle</td>     <th>  S.D. of innovations</th>  <td>30.235</td>  \n",
              "</tr>\n",
              "<tr>\n",
              "  <th>Date:</th>          <td>Wed, 07 Oct 2020</td> <th>  AIC                </th> <td>9355.370</td> \n",
              "</tr>\n",
              "<tr>\n",
              "  <th>Time:</th>              <td>13:12:54</td>     <th>  BIC                </th> <td>9374.871</td> \n",
              "</tr>\n",
              "<tr>\n",
              "  <th>Sample:</th>           <td>01-02-2018</td>    <th>  HQIC               </th> <td>9362.793</td> \n",
              "</tr>\n",
              "<tr>\n",
              "  <th></th>                 <td>- 09-03-2020</td>   <th>                     </th>     <td> </td>    \n",
              "</tr>\n",
              "</table>\n",
              "<table class=\"simpletable\">\n",
              "<tr>\n",
              "           <td></td>              <th>coef</th>     <th>std err</th>      <th>z</th>      <th>P>|z|</th>  <th>[0.025</th>    <th>0.975]</th>  \n",
              "</tr>\n",
              "<tr>\n",
              "  <th>const</th>               <td>   40.1322</td> <td>    2.700</td> <td>   14.862</td> <td> 0.000</td> <td>   34.840</td> <td>   45.425</td>\n",
              "</tr>\n",
              "<tr>\n",
              "  <th>ar.L1.inscripciones</th> <td>    0.5970</td> <td>    0.032</td> <td>   18.602</td> <td> 0.000</td> <td>    0.534</td> <td>    0.660</td>\n",
              "</tr>\n",
              "<tr>\n",
              "  <th>ar.L2.inscripciones</th> <td>    0.0439</td> <td>    0.032</td> <td>    1.367</td> <td> 0.172</td> <td>   -0.019</td> <td>    0.107</td>\n",
              "</tr>\n",
              "</table>\n",
              "<table class=\"simpletable\">\n",
              "<caption>Roots</caption>\n",
              "<tr>\n",
              "    <td></td>   <th>            Real</th>  <th>         Imaginary</th> <th>         Modulus</th>  <th>        Frequency</th>\n",
              "</tr>\n",
              "<tr>\n",
              "  <th>AR.1</th> <td>           1.5080</td> <td>          +0.0000j</td> <td>           1.5080</td> <td>           0.0000</td>\n",
              "</tr>\n",
              "<tr>\n",
              "  <th>AR.2</th> <td>         -15.1117</td> <td>          +0.0000j</td> <td>          15.1117</td> <td>           0.5000</td>\n",
              "</tr>\n",
              "</table>"
            ],
            "text/plain": [
              "<class 'statsmodels.iolib.summary.Summary'>\n",
              "\"\"\"\n",
              "                              ARMA Model Results                              \n",
              "==============================================================================\n",
              "Dep. Variable:          inscripciones   No. Observations:                  968\n",
              "Model:                     ARMA(2, 0)   Log Likelihood               -4673.685\n",
              "Method:                       css-mle   S.D. of innovations             30.235\n",
              "Date:                Wed, 07 Oct 2020   AIC                           9355.370\n",
              "Time:                        13:12:54   BIC                           9374.871\n",
              "Sample:                    01-02-2018   HQIC                          9362.793\n",
              "                         - 09-03-2020                                         \n",
              "=======================================================================================\n",
              "                          coef    std err          z      P>|z|      [0.025      0.975]\n",
              "---------------------------------------------------------------------------------------\n",
              "const                  40.1322      2.700     14.862      0.000      34.840      45.425\n",
              "ar.L1.inscripciones     0.5970      0.032     18.602      0.000       0.534       0.660\n",
              "ar.L2.inscripciones     0.0439      0.032      1.367      0.172      -0.019       0.107\n",
              "                                    Roots                                    \n",
              "=============================================================================\n",
              "                  Real          Imaginary           Modulus         Frequency\n",
              "-----------------------------------------------------------------------------\n",
              "AR.1            1.5080           +0.0000j            1.5080            0.0000\n",
              "AR.2          -15.1117           +0.0000j           15.1117            0.5000\n",
              "-----------------------------------------------------------------------------\n",
              "\"\"\""
            ]
          },
          "metadata": {
            "tags": []
          },
          "execution_count": 6
        }
      ]
    },
    {
      "cell_type": "markdown",
      "metadata": {
        "id": "IU60kQnTPxmK"
      },
      "source": [
        "En es caso el segundo coeficiente no es significativamente distinto de 0, por dos razones. Primero, el P valor (0.172) es mayor a 0.05. Segundo, el intervalo de confianza (-0.019 - 0.107) incluye al 0. Por lo tanto no se rechaza la hipotesis nula y se supone que el coeficiente es igual a 0."
      ]
    },
    {
      "cell_type": "code",
      "metadata": {
        "id": "mX5-4eMWP1-U",
        "outputId": "442ee240-77eb-4e24-aa22-87d60e21cddd",
        "colab": {
          "base_uri": "https://localhost:8080/",
          "height": 393
        }
      },
      "source": [
        "model_ar_3 = ARMA(dfAR.inscripciones, order=(3,0))\n",
        "results_ar_3 = model_ar_3.fit()\n",
        "results_ar_3.summary()"
      ],
      "execution_count": 7,
      "outputs": [
        {
          "output_type": "execute_result",
          "data": {
            "text/html": [
              "<table class=\"simpletable\">\n",
              "<caption>ARMA Model Results</caption>\n",
              "<tr>\n",
              "  <th>Dep. Variable:</th>   <td>inscripciones</td>  <th>  No. Observations:  </th>    <td>968</td>   \n",
              "</tr>\n",
              "<tr>\n",
              "  <th>Model:</th>            <td>ARMA(3, 0)</td>    <th>  Log Likelihood     </th> <td>-4663.951</td>\n",
              "</tr>\n",
              "<tr>\n",
              "  <th>Method:</th>             <td>css-mle</td>     <th>  S.D. of innovations</th>  <td>29.931</td>  \n",
              "</tr>\n",
              "<tr>\n",
              "  <th>Date:</th>          <td>Wed, 07 Oct 2020</td> <th>  AIC                </th> <td>9337.902</td> \n",
              "</tr>\n",
              "<tr>\n",
              "  <th>Time:</th>              <td>13:28:18</td>     <th>  BIC                </th> <td>9362.278</td> \n",
              "</tr>\n",
              "<tr>\n",
              "  <th>Sample:</th>           <td>01-02-2018</td>    <th>  HQIC               </th> <td>9347.181</td> \n",
              "</tr>\n",
              "<tr>\n",
              "  <th></th>                 <td>- 09-03-2020</td>   <th>                     </th>     <td> </td>    \n",
              "</tr>\n",
              "</table>\n",
              "<table class=\"simpletable\">\n",
              "<tr>\n",
              "           <td></td>              <th>coef</th>     <th>std err</th>      <th>z</th>      <th>P>|z|</th>  <th>[0.025</th>    <th>0.975]</th>  \n",
              "</tr>\n",
              "<tr>\n",
              "  <th>const</th>               <td>   40.1149</td> <td>    3.109</td> <td>   12.902</td> <td> 0.000</td> <td>   34.021</td> <td>   46.209</td>\n",
              "</tr>\n",
              "<tr>\n",
              "  <th>ar.L1.inscripciones</th> <td>    0.5906</td> <td>    0.032</td> <td>   18.572</td> <td> 0.000</td> <td>    0.528</td> <td>    0.653</td>\n",
              "</tr>\n",
              "<tr>\n",
              "  <th>ar.L2.inscripciones</th> <td>   -0.0407</td> <td>    0.037</td> <td>   -1.097</td> <td> 0.273</td> <td>   -0.113</td> <td>    0.032</td>\n",
              "</tr>\n",
              "<tr>\n",
              "  <th>ar.L3.inscripciones</th> <td>    0.1416</td> <td>    0.032</td> <td>    4.435</td> <td> 0.000</td> <td>    0.079</td> <td>    0.204</td>\n",
              "</tr>\n",
              "</table>\n",
              "<table class=\"simpletable\">\n",
              "<caption>Roots</caption>\n",
              "<tr>\n",
              "    <td></td>   <th>            Real</th>  <th>         Imaginary</th> <th>         Modulus</th>  <th>        Frequency</th>\n",
              "</tr>\n",
              "<tr>\n",
              "  <th>AR.1</th> <td>           1.2915</td> <td>          -0.0000j</td> <td>           1.2915</td> <td>          -0.0000</td>\n",
              "</tr>\n",
              "<tr>\n",
              "  <th>AR.2</th> <td>          -0.5022</td> <td>          -2.2841j</td> <td>           2.3387</td> <td>          -0.2844</td>\n",
              "</tr>\n",
              "<tr>\n",
              "  <th>AR.3</th> <td>          -0.5022</td> <td>          +2.2841j</td> <td>           2.3387</td> <td>           0.2844</td>\n",
              "</tr>\n",
              "</table>"
            ],
            "text/plain": [
              "<class 'statsmodels.iolib.summary.Summary'>\n",
              "\"\"\"\n",
              "                              ARMA Model Results                              \n",
              "==============================================================================\n",
              "Dep. Variable:          inscripciones   No. Observations:                  968\n",
              "Model:                     ARMA(3, 0)   Log Likelihood               -4663.951\n",
              "Method:                       css-mle   S.D. of innovations             29.931\n",
              "Date:                Wed, 07 Oct 2020   AIC                           9337.902\n",
              "Time:                        13:28:18   BIC                           9362.278\n",
              "Sample:                    01-02-2018   HQIC                          9347.181\n",
              "                         - 09-03-2020                                         \n",
              "=======================================================================================\n",
              "                          coef    std err          z      P>|z|      [0.025      0.975]\n",
              "---------------------------------------------------------------------------------------\n",
              "const                  40.1149      3.109     12.902      0.000      34.021      46.209\n",
              "ar.L1.inscripciones     0.5906      0.032     18.572      0.000       0.528       0.653\n",
              "ar.L2.inscripciones    -0.0407      0.037     -1.097      0.273      -0.113       0.032\n",
              "ar.L3.inscripciones     0.1416      0.032      4.435      0.000       0.079       0.204\n",
              "                                    Roots                                    \n",
              "=============================================================================\n",
              "                  Real          Imaginary           Modulus         Frequency\n",
              "-----------------------------------------------------------------------------\n",
              "AR.1            1.2915           -0.0000j            1.2915           -0.0000\n",
              "AR.2           -0.5022           -2.2841j            2.3387           -0.2844\n",
              "AR.3           -0.5022           +2.2841j            2.3387            0.2844\n",
              "-----------------------------------------------------------------------------\n",
              "\"\"\""
            ]
          },
          "metadata": {
            "tags": []
          },
          "execution_count": 7
        }
      ]
    },
    {
      "cell_type": "markdown",
      "metadata": {
        "id": "xs-AXwOWP7xF"
      },
      "source": [
        "En es caso el segundo coeficiente no es significativamente distinto de 0, por dos razones. Primero, el P valor (0.273) es mayor a 0.05. Segundo, el intervalo de confianza (-0.113 - 0.032) incluye al 0. Por lo tanto no se rechaza la hipotesis nula y se supone que el coeficiente es igual a 0."
      ]
    },
    {
      "cell_type": "code",
      "metadata": {
        "id": "dlHxRWi_QAnj",
        "outputId": "ca419399-20e6-4348-eb01-bd49e94ad998",
        "colab": {
          "base_uri": "https://localhost:8080/",
          "height": 435
        }
      },
      "source": [
        "model_ar_4 = ARMA(dfAR.inscripciones, order=[4,0])\n",
        "results_ar_4 = model_ar_4.fit()\n",
        "results_ar_4.summary()"
      ],
      "execution_count": 8,
      "outputs": [
        {
          "output_type": "execute_result",
          "data": {
            "text/html": [
              "<table class=\"simpletable\">\n",
              "<caption>ARMA Model Results</caption>\n",
              "<tr>\n",
              "  <th>Dep. Variable:</th>   <td>inscripciones</td>  <th>  No. Observations:  </th>    <td>968</td>   \n",
              "</tr>\n",
              "<tr>\n",
              "  <th>Model:</th>            <td>ARMA(4, 0)</td>    <th>  Log Likelihood     </th> <td>-4658.170</td>\n",
              "</tr>\n",
              "<tr>\n",
              "  <th>Method:</th>             <td>css-mle</td>     <th>  S.D. of innovations</th>  <td>29.752</td>  \n",
              "</tr>\n",
              "<tr>\n",
              "  <th>Date:</th>          <td>Wed, 07 Oct 2020</td> <th>  AIC                </th> <td>9328.340</td> \n",
              "</tr>\n",
              "<tr>\n",
              "  <th>Time:</th>              <td>13:28:53</td>     <th>  BIC                </th> <td>9357.592</td> \n",
              "</tr>\n",
              "<tr>\n",
              "  <th>Sample:</th>           <td>01-02-2018</td>    <th>  HQIC               </th> <td>9339.476</td> \n",
              "</tr>\n",
              "<tr>\n",
              "  <th></th>                 <td>- 09-03-2020</td>   <th>                     </th>     <td> </td>    \n",
              "</tr>\n",
              "</table>\n",
              "<table class=\"simpletable\">\n",
              "<tr>\n",
              "           <td></td>              <th>coef</th>     <th>std err</th>      <th>z</th>      <th>P>|z|</th>  <th>[0.025</th>    <th>0.975]</th>  \n",
              "</tr>\n",
              "<tr>\n",
              "  <th>const</th>               <td>   40.0922</td> <td>    3.465</td> <td>   11.572</td> <td> 0.000</td> <td>   33.302</td> <td>   46.883</td>\n",
              "</tr>\n",
              "<tr>\n",
              "  <th>ar.L1.inscripciones</th> <td>    0.5753</td> <td>    0.032</td> <td>   18.015</td> <td> 0.000</td> <td>    0.513</td> <td>    0.638</td>\n",
              "</tr>\n",
              "<tr>\n",
              "  <th>ar.L2.inscripciones</th> <td>   -0.0363</td> <td>    0.037</td> <td>   -0.984</td> <td> 0.325</td> <td>   -0.108</td> <td>    0.036</td>\n",
              "</tr>\n",
              "<tr>\n",
              "  <th>ar.L3.inscripciones</th> <td>    0.0769</td> <td>    0.037</td> <td>    2.082</td> <td> 0.038</td> <td>    0.005</td> <td>    0.149</td>\n",
              "</tr>\n",
              "<tr>\n",
              "  <th>ar.L4.inscripciones</th> <td>    0.1093</td> <td>    0.032</td> <td>    3.411</td> <td> 0.001</td> <td>    0.046</td> <td>    0.172</td>\n",
              "</tr>\n",
              "</table>\n",
              "<table class=\"simpletable\">\n",
              "<caption>Roots</caption>\n",
              "<tr>\n",
              "    <td></td>   <th>            Real</th>  <th>         Imaginary</th> <th>         Modulus</th>  <th>        Frequency</th>\n",
              "</tr>\n",
              "<tr>\n",
              "  <th>AR.1</th> <td>           1.2015</td> <td>          -0.0000j</td> <td>           1.2015</td> <td>          -0.0000</td>\n",
              "</tr>\n",
              "<tr>\n",
              "  <th>AR.2</th> <td>           0.2507</td> <td>          -1.7611j</td> <td>           1.7789</td> <td>          -0.2275</td>\n",
              "</tr>\n",
              "<tr>\n",
              "  <th>AR.3</th> <td>           0.2507</td> <td>          +1.7611j</td> <td>           1.7789</td> <td>           0.2275</td>\n",
              "</tr>\n",
              "<tr>\n",
              "  <th>AR.4</th> <td>          -2.4070</td> <td>          -0.0000j</td> <td>           2.4070</td> <td>          -0.5000</td>\n",
              "</tr>\n",
              "</table>"
            ],
            "text/plain": [
              "<class 'statsmodels.iolib.summary.Summary'>\n",
              "\"\"\"\n",
              "                              ARMA Model Results                              \n",
              "==============================================================================\n",
              "Dep. Variable:          inscripciones   No. Observations:                  968\n",
              "Model:                     ARMA(4, 0)   Log Likelihood               -4658.170\n",
              "Method:                       css-mle   S.D. of innovations             29.752\n",
              "Date:                Wed, 07 Oct 2020   AIC                           9328.340\n",
              "Time:                        13:28:53   BIC                           9357.592\n",
              "Sample:                    01-02-2018   HQIC                          9339.476\n",
              "                         - 09-03-2020                                         \n",
              "=======================================================================================\n",
              "                          coef    std err          z      P>|z|      [0.025      0.975]\n",
              "---------------------------------------------------------------------------------------\n",
              "const                  40.0922      3.465     11.572      0.000      33.302      46.883\n",
              "ar.L1.inscripciones     0.5753      0.032     18.015      0.000       0.513       0.638\n",
              "ar.L2.inscripciones    -0.0363      0.037     -0.984      0.325      -0.108       0.036\n",
              "ar.L3.inscripciones     0.0769      0.037      2.082      0.038       0.005       0.149\n",
              "ar.L4.inscripciones     0.1093      0.032      3.411      0.001       0.046       0.172\n",
              "                                    Roots                                    \n",
              "=============================================================================\n",
              "                  Real          Imaginary           Modulus         Frequency\n",
              "-----------------------------------------------------------------------------\n",
              "AR.1            1.2015           -0.0000j            1.2015           -0.0000\n",
              "AR.2            0.2507           -1.7611j            1.7789           -0.2275\n",
              "AR.3            0.2507           +1.7611j            1.7789            0.2275\n",
              "AR.4           -2.4070           -0.0000j            2.4070           -0.5000\n",
              "-----------------------------------------------------------------------------\n",
              "\"\"\""
            ]
          },
          "metadata": {
            "tags": []
          },
          "execution_count": 8
        }
      ]
    },
    {
      "cell_type": "markdown",
      "metadata": {
        "id": "-qxk27vSQEM_"
      },
      "source": [
        "En es caso el segundo coeficiente no es significativamente distinto de 0, por dos razones. Primero, el P valor (0.325) es mayor a 0.05. Segundo, el intervalo de confianza (-0.108 - 0.036) incluye al 0. Por lo tanto no se rechaza la hipotesis nula y se supone que el coeficiente es igual a 0."
      ]
    },
    {
      "cell_type": "markdown",
      "metadata": {
        "id": "vUjwYUByQFJc"
      },
      "source": [
        "### Contraste de modelos"
      ]
    },
    {
      "cell_type": "markdown",
      "metadata": {
        "id": "JCF0S18cQSdd"
      },
      "source": [
        "Contraste de razón de log verosimilitudes (LLT)\n",
        "\n",
        "Es necesario considerar que antes de comparar dos modelos, el nivel de significación del último retraso sea diferente de 0, para poder tener claro el grado de libertad real de cada modelo que se está comparando"
      ]
    },
    {
      "cell_type": "code",
      "metadata": {
        "id": "w1L-YUtnQI8q"
      },
      "source": [
        "# recibe como parametro los dos modelos a comparar y el grado de libertad\n",
        "def LLR_test(mod_1, mod_2, DF=1):\n",
        "    L1 = mod_1.llf\n",
        "    L2 = mod_2.llf\n",
        "    LR = (2*(L2-L1))\n",
        "    p = chi2.sf(LR, DF).round(3)\n",
        "    return p"
      ],
      "execution_count": 9,
      "outputs": []
    },
    {
      "cell_type": "markdown",
      "metadata": {
        "id": "z6cgqu7xQZ0X"
      },
      "source": [
        "Comparando el modelo 2 con el modelo 3"
      ]
    },
    {
      "cell_type": "code",
      "metadata": {
        "id": "KszbLe5KQauF",
        "outputId": "5edc66f4-1db2-4f7e-d893-1e46b875883f",
        "colab": {
          "base_uri": "https://localhost:8080/"
        }
      },
      "source": [
        "LLR_test(results_ar_2, results_ar_3)"
      ],
      "execution_count": 10,
      "outputs": [
        {
          "output_type": "execute_result",
          "data": {
            "text/plain": [
              "0.0"
            ]
          },
          "metadata": {
            "tags": []
          },
          "execution_count": 10
        }
      ]
    },
    {
      "cell_type": "markdown",
      "metadata": {
        "id": "EDCaKTHiQhoV"
      },
      "source": [
        "Hipotesis nula: ambos modelos son significativamente similares.\n",
        "\n",
        "El resultado es el P valor del contraste de hipotesis, al ser menor al nivel de significacion 0.05 se rechaza la hipotesis nula. Por lo tanto se elegiría el modelo 3 por ser significativamente diferentes"
      ]
    },
    {
      "cell_type": "markdown",
      "metadata": {
        "id": "IYyJgsPTQrZb"
      },
      "source": [
        "Comparando modelo 3 con modelo 4"
      ]
    },
    {
      "cell_type": "code",
      "metadata": {
        "id": "zFKUgAhVQiqj",
        "outputId": "d5decb57-752e-4056-bbcc-6fb70cbca1b6",
        "colab": {
          "base_uri": "https://localhost:8080/"
        }
      },
      "source": [
        "LLR_test(results_ar_3, results_ar_4)"
      ],
      "execution_count": 11,
      "outputs": [
        {
          "output_type": "execute_result",
          "data": {
            "text/plain": [
              "0.001"
            ]
          },
          "metadata": {
            "tags": []
          },
          "execution_count": 11
        }
      ]
    },
    {
      "cell_type": "markdown",
      "metadata": {
        "id": "676pyw7lQxzy"
      },
      "source": [
        "Al ser menor al nivel de significacion 0.05 se rechaza la hipotesis nula. Por lo tanto se elegiría el modelo 4 por ser significativamente diferentes"
      ]
    },
    {
      "cell_type": "markdown",
      "metadata": {
        "id": "xBrXpBr9RAYN"
      },
      "source": [
        "Comparando modelo 4 con modelo 5, recién entrenado"
      ]
    },
    {
      "cell_type": "code",
      "metadata": {
        "id": "Yts20a0HQ1Kz",
        "outputId": "ac45b0c3-e5d0-4937-f28c-8c8496544bc5",
        "colab": {
          "base_uri": "https://localhost:8080/"
        }
      },
      "source": [
        "model_ar_5 = ARMA(dfAR.inscripciones, order=(5,0))\n",
        "results_ar_5 = model_ar_5.fit()\n",
        "print(results_ar_5.summary())\n",
        "print(\"\\nLLR test p-value = \" + str(LLR_test(results_ar_4, results_ar_5)))"
      ],
      "execution_count": 12,
      "outputs": [
        {
          "output_type": "stream",
          "text": [
            "                              ARMA Model Results                              \n",
            "==============================================================================\n",
            "Dep. Variable:          inscripciones   No. Observations:                  968\n",
            "Model:                     ARMA(5, 0)   Log Likelihood               -4640.867\n",
            "Method:                       css-mle   S.D. of innovations             29.222\n",
            "Date:                Wed, 07 Oct 2020   AIC                           9295.735\n",
            "Time:                        13:32:30   BIC                           9329.861\n",
            "Sample:                    01-02-2018   HQIC                          9308.726\n",
            "                         - 09-03-2020                                         \n",
            "=======================================================================================\n",
            "                          coef    std err          z      P>|z|      [0.025      0.975]\n",
            "---------------------------------------------------------------------------------------\n",
            "const                  40.1685      4.203      9.558      0.000      31.931      48.406\n",
            "ar.L1.inscripciones     0.5541      0.032     17.555      0.000       0.492       0.616\n",
            "ar.L2.inscripciones    -0.0527      0.036     -1.453      0.147      -0.124       0.018\n",
            "ar.L3.inscripciones     0.0869      0.036      2.391      0.017       0.016       0.158\n",
            "ar.L4.inscripciones    -0.0009      0.037     -0.024      0.981      -0.072       0.071\n",
            "ar.L5.inscripciones     0.1909      0.032      5.937      0.000       0.128       0.254\n",
            "                                    Roots                                    \n",
            "=============================================================================\n",
            "                  Real          Imaginary           Modulus         Frequency\n",
            "-----------------------------------------------------------------------------\n",
            "AR.1            1.1149           -0.0000j            1.1149           -0.0000\n",
            "AR.2            0.5850           -1.2663j            1.3949           -0.1811\n",
            "AR.3            0.5850           +1.2663j            1.3949            0.1811\n",
            "AR.4           -1.1401           -1.0561j            1.5541           -0.3811\n",
            "AR.5           -1.1401           +1.0561j            1.5541            0.3811\n",
            "-----------------------------------------------------------------------------\n",
            "\n",
            "LLR test p-value = 0.0\n"
          ],
          "name": "stdout"
        }
      ]
    },
    {
      "cell_type": "markdown",
      "metadata": {
        "id": "Ero3TmAsRJ50"
      },
      "source": [
        "Comparando modelo 5 con modelo 6, recién entrenado"
      ]
    },
    {
      "cell_type": "code",
      "metadata": {
        "id": "0vKoH4QUQ5yl",
        "outputId": "4cbdd9d3-95ce-440c-9dc3-8a161c430a4c",
        "colab": {
          "base_uri": "https://localhost:8080/"
        }
      },
      "source": [
        "model_ar_6 = ARMA(dfAR.inscripciones, order=(6,0))\n",
        "results_ar_6 = model_ar_6.fit()\n",
        "print(results_ar_6.summary())\n",
        "print(\"\\nLLR test p-value = \" + str(LLR_test(results_ar_5, results_ar_6)))"
      ],
      "execution_count": 13,
      "outputs": [
        {
          "output_type": "stream",
          "text": [
            "                              ARMA Model Results                              \n",
            "==============================================================================\n",
            "Dep. Variable:          inscripciones   No. Observations:                  968\n",
            "Model:                     ARMA(6, 0)   Log Likelihood               -4553.161\n",
            "Method:                       css-mle   S.D. of innovations             26.675\n",
            "Date:                Wed, 07 Oct 2020   AIC                           9122.322\n",
            "Time:                        13:32:48   BIC                           9161.324\n",
            "Sample:                    01-02-2018   HQIC                          9137.169\n",
            "                         - 09-03-2020                                         \n",
            "=======================================================================================\n",
            "                          coef    std err          z      P>|z|      [0.025      0.975]\n",
            "---------------------------------------------------------------------------------------\n",
            "const                  40.2533      6.481      6.211      0.000      27.550      52.956\n",
            "ar.L1.inscripciones     0.4782      0.029     16.316      0.000       0.421       0.536\n",
            "ar.L2.inscripciones    -0.0525      0.033     -1.584      0.113      -0.117       0.012\n",
            "ar.L3.inscripciones     0.0453      0.033      1.362      0.173      -0.020       0.110\n",
            "ar.L4.inscripciones     0.0300      0.033      0.898      0.369      -0.035       0.095\n",
            "ar.L5.inscripciones    -0.0458      0.034     -1.351      0.177      -0.112       0.021\n",
            "ar.L6.inscripciones     0.4155      0.030     13.890      0.000       0.357       0.474\n",
            "                                    Roots                                    \n",
            "=============================================================================\n",
            "                  Real          Imaginary           Modulus         Frequency\n",
            "-----------------------------------------------------------------------------\n",
            "AR.1            1.0410           -0.0000j            1.0410           -0.0000\n",
            "AR.2            0.6531           -0.9307j            1.1370           -0.1526\n",
            "AR.3            0.6531           +0.9307j            1.1370            0.1526\n",
            "AR.4           -1.2460           -0.0000j            1.2460           -0.5000\n",
            "AR.5           -0.4954           -1.0909j            1.1981           -0.3178\n",
            "AR.6           -0.4954           +1.0909j            1.1981            0.3178\n",
            "-----------------------------------------------------------------------------\n",
            "\n",
            "LLR test p-value = 0.0\n"
          ],
          "name": "stdout"
        }
      ]
    },
    {
      "cell_type": "markdown",
      "metadata": {
        "id": "GXbxwaacRXzC"
      },
      "source": [
        "Comparando modelo 6 con modelo 7, recién entrenado"
      ]
    },
    {
      "cell_type": "code",
      "metadata": {
        "id": "P61euqaeRSvB",
        "outputId": "fb3945d4-77cc-4afa-b01f-992a59715d3e",
        "colab": {
          "base_uri": "https://localhost:8080/"
        }
      },
      "source": [
        "model_ar_7 = ARMA(dfAR.inscripciones, order=(7,0))\n",
        "results_ar_7 = model_ar_7.fit()\n",
        "print(results_ar_7.summary())\n",
        "print(\"\\nLLR test p-value = \" + str(LLR_test(results_ar_6, results_ar_7)))"
      ],
      "execution_count": 14,
      "outputs": [
        {
          "output_type": "stream",
          "text": [
            "                              ARMA Model Results                              \n",
            "==============================================================================\n",
            "Dep. Variable:          inscripciones   No. Observations:                  968\n",
            "Model:                     ARMA(7, 0)   Log Likelihood               -4440.853\n",
            "Method:                       css-mle   S.D. of innovations             23.732\n",
            "Date:                Wed, 07 Oct 2020   AIC                           8899.707\n",
            "Time:                        13:34:31   BIC                           8943.584\n",
            "Sample:                    01-02-2018   HQIC                          8916.409\n",
            "                         - 09-03-2020                                         \n",
            "=======================================================================================\n",
            "                          coef    std err          z      P>|z|      [0.025      0.975]\n",
            "---------------------------------------------------------------------------------------\n",
            "const                  41.4191     11.188      3.702      0.000      19.490      63.348\n",
            "ar.L1.inscripciones     0.2881      0.029     10.054      0.000       0.232       0.344\n",
            "ar.L2.inscripciones    -0.0388      0.029     -1.316      0.188      -0.097       0.019\n",
            "ar.L3.inscripciones     0.0430      0.030      1.455      0.146      -0.015       0.101\n",
            "ar.L4.inscripciones    -0.0088      0.030     -0.295      0.768      -0.067       0.050\n",
            "ar.L5.inscripciones     0.0043      0.030      0.143      0.887      -0.055       0.064\n",
            "ar.L6.inscripciones     0.1779      0.031      5.834      0.000       0.118       0.238\n",
            "ar.L7.inscripciones     0.4706      0.030     15.943      0.000       0.413       0.528\n",
            "                                    Roots                                    \n",
            "=============================================================================\n",
            "                  Real          Imaginary           Modulus         Frequency\n",
            "-----------------------------------------------------------------------------\n",
            "AR.1            1.0131           -0.0000j            1.0131           -0.0000\n",
            "AR.2            0.6617           -0.8227j            1.0558           -0.1422\n",
            "AR.3            0.6617           +0.8227j            1.0558            0.1422\n",
            "AR.4           -0.2608           -1.0937j            1.1244           -0.2873\n",
            "AR.5           -0.2608           +1.0937j            1.1244            0.2873\n",
            "AR.6           -1.0965           -0.5347j            1.2199           -0.4278\n",
            "AR.7           -1.0965           +0.5347j            1.2199            0.4278\n",
            "-----------------------------------------------------------------------------\n",
            "\n",
            "LLR test p-value = 0.0\n"
          ],
          "name": "stdout"
        }
      ]
    }
  ]
}