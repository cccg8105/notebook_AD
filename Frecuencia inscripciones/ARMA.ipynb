{
  "nbformat": 4,
  "nbformat_minor": 0,
  "metadata": {
    "colab": {
      "name": "ARMA.ipynb",
      "provenance": [],
      "authorship_tag": "ABX9TyMUIKaI7ywOirlzPK6ZJSo4",
      "include_colab_link": true
    },
    "kernelspec": {
      "name": "python3",
      "display_name": "Python 3"
    }
  },
  "cells": [
    {
      "cell_type": "markdown",
      "metadata": {
        "id": "view-in-github",
        "colab_type": "text"
      },
      "source": [
        "<a href=\"https://colab.research.google.com/github/cccg8105/notebook_AD/blob/master/Frecuencia%20inscripciones/ARMA.ipynb\" target=\"_parent\"><img src=\"https://colab.research.google.com/assets/colab-badge.svg\" alt=\"Open In Colab\"/></a>"
      ]
    },
    {
      "cell_type": "markdown",
      "metadata": {
        "id": "tH7CaOz2mBBI"
      },
      "source": [
        "# Modelo autoregresivo de medias móviles"
      ]
    },
    {
      "cell_type": "markdown",
      "metadata": {
        "id": "FNoWzgBRobtQ"
      },
      "source": [
        "$$ X_{t} = \\varphi_{1} X_{t-1}+\\vartheta_{1}\\varepsilon_{t-1} + \\varepsilon_{t} + C$$\n",
        "\n",
        "Considera para la predicción tanto el valor de periodos anteriores, como los errores o residuos de periodos pasados.\n",
        "\n",
        "ARMA(P, Q)"
      ]
    },
    {
      "cell_type": "code",
      "metadata": {
        "id": "iYlo6Vwflsga",
        "outputId": "b464e8a4-2085-4a5f-f36d-0f2f834eed89",
        "colab": {
          "base_uri": "https://localhost:8080/",
          "height": 71
        }
      },
      "source": [
        "import pandas as pd\n",
        "import numpy as np\n",
        "import matplotlib.pyplot as plt\n",
        "import statsmodels.graphics.tsaplots as sgt\n",
        "import statsmodels.tsa.stattools as sts\n",
        "from statsmodels.tsa.arima_model import ARMA\n",
        "from scipy.stats.distributions import chi2 \n",
        "from math import sqrt\n",
        "import seaborn as sns\n",
        "import warnings\n",
        "warnings.filterwarnings(\"ignore\")\n",
        "sns.set()\n",
        "\n",
        "#Prueba Logverosimilitud\n",
        "def LLR_test(mod_1, mod_2, DF = 1):\n",
        "    L1 = mod_1.llf\n",
        "    L2 = mod_2.llf\n",
        "    LR = (2*(L2-L1))    \n",
        "    p = chi2.sf(LR, DF).round(3)\n",
        "    return p\n",
        "\n",
        "# carga de archivo\n",
        "raw_csv_data = pd.read_csv(\"https://raw.githubusercontent.com/cccg8105/notebook_AD/master/Frecuencia%20inscripciones/data/conversionesPE.csv\", index_col=0)"
      ],
      "execution_count": 1,
      "outputs": [
        {
          "output_type": "stream",
          "text": [
            "/usr/local/lib/python3.6/dist-packages/statsmodels/tools/_testing.py:19: FutureWarning: pandas.util.testing is deprecated. Use the functions in the public API at pandas.testing instead.\n",
            "  import pandas.util.testing as tm\n"
          ],
          "name": "stderr"
        }
      ]
    }
  ]
}